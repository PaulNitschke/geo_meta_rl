{
 "cells": [
  {
   "cell_type": "markdown",
   "metadata": {},
   "source": [
    "## Load replay buffer"
   ]
  },
  {
   "cell_type": "code",
   "execution_count": 1,
   "metadata": {},
   "outputs": [
    {
     "name": "stderr",
     "output_type": "stream",
     "text": [
      "2025-07-02 14:34:38.610236: I tensorflow/core/platform/cpu_feature_guard.cc:210] This TensorFlow binary is optimized to use available CPU instructions in performance-critical operations.\n",
      "To enable the following instructions: SSE4.1 SSE4.2, in other operations, rebuild TensorFlow with the appropriate compiler flags.\n",
      "INFO:faiss.loader:Loading faiss.\n",
      "INFO:faiss.loader:Successfully loaded faiss.\n",
      "INFO:faiss:Failed to load GPU Faiss: name 'GpuIndexIVFFlat' is not defined. Will not load constructor refs for GPU indexes. This is only an error if you're trying to use GPU Faiss.\n",
      "/Users/paulnitschke/Desktop/projects/geo_meta_rl/src/utils.py:68: UserWarning: Replay buffer contains more samples than selected.\n",
      "  warnings.warn(\"Replay buffer contains more samples than selected.\")\n",
      "INFO:root:Setup kernel frame evaluation.\n"
     ]
    },
    {
     "data": {
      "text/plain": [
       "tensor([[[-0.7880],\n",
       "         [ 0.6157]]])"
      ]
     },
     "execution_count": 1,
     "metadata": {},
     "output_type": "execute_result"
    }
   ],
   "source": [
    "import pickle\n",
    "import torch\n",
    "from src.utils import load_replay_buffer\n",
    "from src.learning.symmetry_discovery.differential.kernel_approx import KernelFrameEstimator\n",
    "\n",
    "TASK_NAME=\"sac_circle_rotation_task_0\"\n",
    "N_SAMPLES:int=50_000\n",
    "KERNEL_DIM=1\n",
    "EPSILON_BALL = 0.005\n",
    "EPSILON_LEVEL_SET = 0.0025\n",
    "\n",
    "LEARN_KERNEL_BASES: bool=False\n",
    "replay_buffer_name:str=TASK_NAME+\"_replay_buffer.pkl\"\n",
    "kernel_bases_name:str=TASK_NAME+\"_kernel_bases.pkl\"\n",
    "\n",
    "replay_buffer_task_1= load_replay_buffer(replay_buffer_name, N_steps=N_SAMPLES)\n",
    "\n",
    "next_ps=replay_buffer_task_1[\"next_observations\"]\n",
    "ns=replay_buffer_task_1[\"rewards\"]\n",
    "\n",
    "\n",
    "\n",
    "if LEARN_KERNEL_BASES:\n",
    "    frameestimator= KernelFrameEstimator(ps=next_ps, kernel_dim=KERNEL_DIM,ns=ns, epsilon_ball=EPSILON_BALL, epsilon_level_set=EPSILON_LEVEL_SET)\n",
    "    frameestimator.compute()\n",
    "    frameestimator.save(kernel_bases_name)\n",
    "\n",
    "else:\n",
    "    # for inference only need ps and dimension of kernel.\n",
    "    frameestimator=KernelFrameEstimator(ps=next_ps, kernel_dim=KERNEL_DIM)\n",
    "    with open(kernel_bases_name, 'rb') as f:\n",
    "        kernel_samples = pickle.load(f)\n",
    "        frameestimator.set_frame(frame=kernel_samples)\n",
    "\n",
    "# Evaluate frame estimator\n",
    "p_query=torch.randn((1,2))\n",
    "frameestimator.evaluate(p_query, bandwidth=0.05)"
   ]
  },
  {
   "cell_type": "markdown",
   "metadata": {},
   "source": [
    "## Extrapolate via KDE"
   ]
  },
  {
   "cell_type": "code",
   "execution_count": 2,
   "metadata": {},
   "outputs": [
    {
     "ename": "AttributeError",
     "evalue": "'KernelFrameEstimator' object has no attribute 'evaluate_batch'",
     "output_type": "error",
     "traceback": [
      "\u001b[0;31m---------------------------------------------------------------------------\u001b[0m",
      "\u001b[0;31mAttributeError\u001b[0m                            Traceback (most recent call last)",
      "Cell \u001b[0;32mIn[2], line 10\u001b[0m\n\u001b[1;32m      8\u001b[0m points \u001b[38;5;241m=\u001b[39m np\u001b[38;5;241m.\u001b[39mstack([x, y], axis\u001b[38;5;241m=\u001b[39m\u001b[38;5;241m1\u001b[39m)\n\u001b[1;32m      9\u001b[0m points_th\u001b[38;5;241m=\u001b[39mtorch\u001b[38;5;241m.\u001b[39mtensor(points, dtype\u001b[38;5;241m=\u001b[39mtorch\u001b[38;5;241m.\u001b[39mfloat32)\n\u001b[0;32m---> 10\u001b[0m vectors\u001b[38;5;241m=\u001b[39m\u001b[43mframeestimator\u001b[49m\u001b[38;5;241;43m.\u001b[39;49m\u001b[43mevaluate_batch\u001b[49m(points_th, bandwidth\u001b[38;5;241m=\u001b[39m\u001b[38;5;241m0.05\u001b[39m)\n\u001b[1;32m     12\u001b[0m vectors \u001b[38;5;241m=\u001b[39m np\u001b[38;5;241m.\u001b[39marray(vectors)\n\u001b[1;32m     13\u001b[0m plt\u001b[38;5;241m.\u001b[39mfigure(figsize\u001b[38;5;241m=\u001b[39m(\u001b[38;5;241m8\u001b[39m, \u001b[38;5;241m8\u001b[39m))\n",
      "\u001b[0;31mAttributeError\u001b[0m: 'KernelFrameEstimator' object has no attribute 'evaluate_batch'"
     ]
    }
   ],
   "source": [
    "import numpy as np\n",
    "\n",
    "import matplotlib.pyplot as plt\n",
    "\n",
    "num_points = 50\n",
    "x = np.random.uniform(-0.75, 0, num_points)\n",
    "y = np.random.uniform(0, 0.75, num_points)\n",
    "points = np.stack([x, y], axis=1)\n",
    "points_th=torch.tensor(points, dtype=torch.float32)\n",
    "vectors=frameestimator.evaluate(points_th, bandwidth=0.05)\n",
    "\n",
    "vectors = np.array(vectors)\n",
    "plt.figure(figsize=(8, 8))\n",
    "plt.scatter(next_ps[:, 0], next_ps[:, 1], c=ns, s=1, alpha=0.1, label=\"Replay Buffer\")\n",
    "plt.quiver(points[:, 0], points[:, 1], vectors[:, 0], vectors[:, 1], angles='xy', scale_units='xy', scale=5, color='blue', label=\"Kernel Estimates\")\n",
    "\n",
    "goal = np.array([-0.70506063, 0.70914702])\n",
    "circle_radii = [0.25, 0.5, 0.75, 1]\n",
    "for radius in circle_radii:\n",
    "    circle = plt.Circle(goal, radius, color='red', fill=False, linestyle='--')\n",
    "    plt.gca().add_artist(circle)\n",
    "circle = plt.Circle(goal, radius, color='red', fill=False, linestyle='--', label=\"Level Set\")\n",
    "plt.gca().add_artist(circle)\n",
    "\n",
    "plt.xlim(-1.5, 0.5)\n",
    "plt.ylim(-0.5, 1.5)\n",
    "plt.xlabel('x')\n",
    "plt.ylabel('y')\n",
    "plt.legend()\n",
    "plt.title('Kernel Estimation at New Data')\n",
    "plt.grid()\n",
    "plt.show()"
   ]
  },
  {
   "cell_type": "markdown",
   "metadata": {},
   "source": [
    "## Matrix logarithm"
   ]
  },
  {
   "cell_type": "code",
   "execution_count": 4,
   "metadata": {},
   "outputs": [
    {
     "name": "stderr",
     "output_type": "stream",
     "text": [
      "/var/folders/cm/rfx_nb1x16zcxk4frrwkp_1r0000gn/T/ipykernel_80710/1329727610.py:11: UserWarning: Casting complex values to real discards the imaginary part (Triggered internally at /private/var/folders/c_/qfmhj66j0tn016nkx_th4hxm0000gp/T/abs_290u7eqnqq/croot/pytorch-select_1730848721858/work/aten/src/ATen/native/Copy.cpp:300.)\n",
      "  return f(M)[:n, n:].to(A.dtype)\n"
     ]
    },
    {
     "ename": "GradcheckError",
     "evalue": "While considering the imaginary part of complex outputs only, Jacobian mismatch for output 0 with respect to input 0,\nnumerical:tensor([[ 0.6153,  1.7057, -1.4956, -0.7274, -0.8891,  0.9693,  0.1948, -0.5146,\n          0.2738],\n        [-0.7274, -3.1035,  2.6453,  0.5457,  1.4359, -1.4747,  0.0637,  1.1065,\n         -0.7085],\n        [ 0.1948,  1.6455, -1.1225,  0.0637, -0.8100,  0.2895, -0.2133, -0.5411,\n          0.6152],\n        [ 1.7057,  0.6839, -1.2802, -3.1035, -0.5921,  1.8670,  1.6455,  0.4885,\n         -1.1136],\n        [-0.8891, -0.5921,  1.4046,  1.4359, -0.2148, -1.5995, -0.8100, -0.2319,\n          1.1039],\n        [-0.5146,  0.4885,  0.6104,  1.1065, -0.2319, -1.7110, -0.5411,  0.2987,\n          0.7465],\n        [-1.4956, -1.2802,  1.6046,  2.6453,  1.4046, -2.2290, -1.1225,  0.6104,\n          0.0910],\n        [ 0.9693,  1.8670, -2.2290, -1.4747, -1.5995,  2.6824,  0.2895, -1.7110,\n          0.6302],\n        [ 0.2738, -1.1136,  0.0910, -0.7085,  1.1039,  0.6302,  0.6152,  0.7465,\n         -1.3777]], dtype=torch.float64)\nanalytical:tensor([[-0.6153, -1.7057,  1.4956,  0.7274,  0.8891, -0.9693, -0.1948,  0.5146,\n         -0.2738],\n        [ 0.7274,  3.1035, -2.6453, -0.5457, -1.4359,  1.4747, -0.0637, -1.1065,\n          0.7085],\n        [-0.1948, -1.6455,  1.1225, -0.0637,  0.8100, -0.2895,  0.2133,  0.5411,\n         -0.6152],\n        [-1.7057, -0.6839,  1.2802,  3.1035,  0.5921, -1.8670, -1.6455, -0.4885,\n          1.1136],\n        [ 0.8891,  0.5921, -1.4046, -1.4359,  0.2148,  1.5995,  0.8100,  0.2319,\n         -1.1039],\n        [ 0.5146, -0.4885, -0.6104, -1.1065,  0.2319,  1.7110,  0.5411, -0.2987,\n         -0.7465],\n        [ 1.4956,  1.2802, -1.6046, -2.6453, -1.4046,  2.2290,  1.1225, -0.6104,\n         -0.0910],\n        [-0.9693, -1.8670,  2.2290,  1.4747,  1.5995, -2.6824, -0.2895,  1.7110,\n         -0.6302],\n        [-0.2738,  1.1136, -0.0910,  0.7085, -1.1039, -0.6302, -0.6152, -0.7465,\n          1.3777]], dtype=torch.float64)\n",
     "output_type": "error",
     "traceback": [
      "\u001b[0;31m---------------------------------------------------------------------------\u001b[0m",
      "\u001b[0;31mGradcheckError\u001b[0m                            Traceback (most recent call last)",
      "Cell \u001b[0;32mIn[4], line 32\u001b[0m\n\u001b[1;32m     29\u001b[0m logm \u001b[38;5;241m=\u001b[39m Logm\u001b[38;5;241m.\u001b[39mapply\n\u001b[1;32m     31\u001b[0m A \u001b[38;5;241m=\u001b[39m torch\u001b[38;5;241m.\u001b[39mrand(\u001b[38;5;241m3\u001b[39m, \u001b[38;5;241m3\u001b[39m, dtype\u001b[38;5;241m=\u001b[39mtorch\u001b[38;5;241m.\u001b[39mfloat64, requires_grad\u001b[38;5;241m=\u001b[39m\u001b[38;5;28;01mTrue\u001b[39;00m)\n\u001b[0;32m---> 32\u001b[0m \u001b[43mtorch\u001b[49m\u001b[38;5;241;43m.\u001b[39;49m\u001b[43mautograd\u001b[49m\u001b[38;5;241;43m.\u001b[39;49m\u001b[43mgradcheck\u001b[49m\u001b[43m(\u001b[49m\u001b[43mlogm\u001b[49m\u001b[43m,\u001b[49m\u001b[43m \u001b[49m\u001b[43mA\u001b[49m\u001b[43m)\u001b[49m\n\u001b[1;32m     33\u001b[0m A \u001b[38;5;241m=\u001b[39m torch\u001b[38;5;241m.\u001b[39mrand(\u001b[38;5;241m3\u001b[39m, \u001b[38;5;241m3\u001b[39m, dtype\u001b[38;5;241m=\u001b[39mtorch\u001b[38;5;241m.\u001b[39mcomplex128, requires_grad\u001b[38;5;241m=\u001b[39m\u001b[38;5;28;01mTrue\u001b[39;00m)\n\u001b[1;32m     34\u001b[0m torch\u001b[38;5;241m.\u001b[39mautograd\u001b[38;5;241m.\u001b[39mgradcheck(logm, A)\n",
      "File \u001b[0;32m~/miniconda3/envs/env_geo_meta_rl/lib/python3.9/site-packages/torch/autograd/gradcheck.py:2049\u001b[0m, in \u001b[0;36mgradcheck\u001b[0;34m(func, inputs, eps, atol, rtol, raise_exception, nondet_tol, check_undefined_grad, check_grad_dtypes, check_batched_grad, check_batched_forward_grad, check_forward_ad, check_backward_ad, fast_mode, masked)\u001b[0m\n\u001b[1;32m   2047\u001b[0m         \u001b[38;5;28;01mreturn\u001b[39;00m \u001b[38;5;28;01mFalse\u001b[39;00m\n\u001b[1;32m   2048\u001b[0m \u001b[38;5;28;01melse\u001b[39;00m:\n\u001b[0;32m-> 2049\u001b[0m     \u001b[38;5;28;01mreturn\u001b[39;00m \u001b[43m_gradcheck_helper\u001b[49m\u001b[43m(\u001b[49m\u001b[38;5;241;43m*\u001b[39;49m\u001b[38;5;241;43m*\u001b[39;49m\u001b[43margs\u001b[49m\u001b[43m)\u001b[49m\n",
      "File \u001b[0;32m~/miniconda3/envs/env_geo_meta_rl/lib/python3.9/site-packages/torch/autograd/gradcheck.py:2078\u001b[0m, in \u001b[0;36m_gradcheck_helper\u001b[0;34m(func, inputs, eps, atol, rtol, nondet_tol, check_undefined_grad, check_grad_dtypes, check_batched_grad, check_batched_forward_grad, check_forward_ad, check_backward_ad, fast_mode, masked)\u001b[0m\n\u001b[1;32m   2073\u001b[0m _check_outputs(outputs)\n\u001b[1;32m   2075\u001b[0m gradcheck_fn \u001b[38;5;241m=\u001b[39m functools\u001b[38;5;241m.\u001b[39mpartial(\n\u001b[1;32m   2076\u001b[0m     _fast_gradcheck \u001b[38;5;28;01mif\u001b[39;00m fast_mode \u001b[38;5;28;01melse\u001b[39;00m _slow_gradcheck, masked\u001b[38;5;241m=\u001b[39mmasked\n\u001b[1;32m   2077\u001b[0m )\n\u001b[0;32m-> 2078\u001b[0m \u001b[43m_gradcheck_real_imag\u001b[49m\u001b[43m(\u001b[49m\n\u001b[1;32m   2079\u001b[0m \u001b[43m    \u001b[49m\u001b[43mgradcheck_fn\u001b[49m\u001b[43m,\u001b[49m\n\u001b[1;32m   2080\u001b[0m \u001b[43m    \u001b[49m\u001b[43mfunc\u001b[49m\u001b[43m,\u001b[49m\n\u001b[1;32m   2081\u001b[0m \u001b[43m    \u001b[49m\u001b[43mfunc_out\u001b[49m\u001b[43m,\u001b[49m\n\u001b[1;32m   2082\u001b[0m \u001b[43m    \u001b[49m\u001b[43mtupled_inputs\u001b[49m\u001b[43m,\u001b[49m\n\u001b[1;32m   2083\u001b[0m \u001b[43m    \u001b[49m\u001b[43moutputs\u001b[49m\u001b[43m,\u001b[49m\n\u001b[1;32m   2084\u001b[0m \u001b[43m    \u001b[49m\u001b[43meps\u001b[49m\u001b[43m,\u001b[49m\n\u001b[1;32m   2085\u001b[0m \u001b[43m    \u001b[49m\u001b[43mrtol\u001b[49m\u001b[43m,\u001b[49m\n\u001b[1;32m   2086\u001b[0m \u001b[43m    \u001b[49m\u001b[43matol\u001b[49m\u001b[43m,\u001b[49m\n\u001b[1;32m   2087\u001b[0m \u001b[43m    \u001b[49m\u001b[43mcheck_grad_dtypes\u001b[49m\u001b[43m,\u001b[49m\n\u001b[1;32m   2088\u001b[0m \u001b[43m    \u001b[49m\u001b[43mcheck_forward_ad\u001b[49m\u001b[38;5;241;43m=\u001b[39;49m\u001b[43mcheck_forward_ad\u001b[49m\u001b[43m,\u001b[49m\n\u001b[1;32m   2089\u001b[0m \u001b[43m    \u001b[49m\u001b[43mcheck_backward_ad\u001b[49m\u001b[38;5;241;43m=\u001b[39;49m\u001b[43mcheck_backward_ad\u001b[49m\u001b[43m,\u001b[49m\n\u001b[1;32m   2090\u001b[0m \u001b[43m    \u001b[49m\u001b[43mnondet_tol\u001b[49m\u001b[38;5;241;43m=\u001b[39;49m\u001b[43mnondet_tol\u001b[49m\u001b[43m,\u001b[49m\n\u001b[1;32m   2091\u001b[0m \u001b[43m    \u001b[49m\u001b[43mcheck_undefined_grad\u001b[49m\u001b[38;5;241;43m=\u001b[39;49m\u001b[43mcheck_undefined_grad\u001b[49m\u001b[43m,\u001b[49m\n\u001b[1;32m   2092\u001b[0m \u001b[43m\u001b[49m\u001b[43m)\u001b[49m\n\u001b[1;32m   2094\u001b[0m \u001b[38;5;28;01mif\u001b[39;00m check_batched_forward_grad:\n\u001b[1;32m   2095\u001b[0m     _test_batched_grad_forward_ad(func, tupled_inputs)\n",
      "File \u001b[0;32m~/miniconda3/envs/env_geo_meta_rl/lib/python3.9/site-packages/torch/autograd/gradcheck.py:1459\u001b[0m, in \u001b[0;36m_gradcheck_real_imag\u001b[0;34m(gradcheck_fn, func, func_out, tupled_inputs, outputs, eps, rtol, atol, check_grad_dtypes, check_forward_ad, check_backward_ad, nondet_tol, check_undefined_grad)\u001b[0m\n\u001b[1;32m   1457\u001b[0m imag_func_out \u001b[38;5;241m=\u001b[39m imag_fn(\u001b[38;5;241m*\u001b[39mtupled_inputs)\n\u001b[1;32m   1458\u001b[0m imag_outputs \u001b[38;5;241m=\u001b[39m _differentiable_outputs(imag_func_out)\n\u001b[0;32m-> 1459\u001b[0m \u001b[43mgradcheck_fn\u001b[49m\u001b[43m(\u001b[49m\n\u001b[1;32m   1460\u001b[0m \u001b[43m    \u001b[49m\u001b[43mimag_fn\u001b[49m\u001b[43m,\u001b[49m\n\u001b[1;32m   1461\u001b[0m \u001b[43m    \u001b[49m\u001b[43mimag_func_out\u001b[49m\u001b[43m,\u001b[49m\n\u001b[1;32m   1462\u001b[0m \u001b[43m    \u001b[49m\u001b[43mtupled_inputs\u001b[49m\u001b[43m,\u001b[49m\n\u001b[1;32m   1463\u001b[0m \u001b[43m    \u001b[49m\u001b[43mimag_outputs\u001b[49m\u001b[43m,\u001b[49m\n\u001b[1;32m   1464\u001b[0m \u001b[43m    \u001b[49m\u001b[43meps\u001b[49m\u001b[43m,\u001b[49m\n\u001b[1;32m   1465\u001b[0m \u001b[43m    \u001b[49m\u001b[43mrtol\u001b[49m\u001b[43m,\u001b[49m\n\u001b[1;32m   1466\u001b[0m \u001b[43m    \u001b[49m\u001b[43matol\u001b[49m\u001b[43m,\u001b[49m\n\u001b[1;32m   1467\u001b[0m \u001b[43m    \u001b[49m\u001b[43mcheck_grad_dtypes\u001b[49m\u001b[43m,\u001b[49m\n\u001b[1;32m   1468\u001b[0m \u001b[43m    \u001b[49m\u001b[43mnondet_tol\u001b[49m\u001b[43m,\u001b[49m\n\u001b[1;32m   1469\u001b[0m \u001b[43m    \u001b[49m\u001b[43mcomplex_indices\u001b[49m\u001b[38;5;241;43m=\u001b[39;49m\u001b[43mcomplex_out_indices\u001b[49m\u001b[43m,\u001b[49m\n\u001b[1;32m   1470\u001b[0m \u001b[43m    \u001b[49m\u001b[43mtest_imag\u001b[49m\u001b[38;5;241;43m=\u001b[39;49m\u001b[38;5;28;43;01mTrue\u001b[39;49;00m\u001b[43m,\u001b[49m\n\u001b[1;32m   1471\u001b[0m \u001b[43m\u001b[49m\u001b[43m)\u001b[49m\n\u001b[1;32m   1473\u001b[0m real_func_out \u001b[38;5;241m=\u001b[39m real_fn(\u001b[38;5;241m*\u001b[39mtupled_inputs)\n\u001b[1;32m   1474\u001b[0m real_outputs \u001b[38;5;241m=\u001b[39m _differentiable_outputs(real_func_out)\n",
      "File \u001b[0;32m~/miniconda3/envs/env_geo_meta_rl/lib/python3.9/site-packages/torch/autograd/gradcheck.py:1629\u001b[0m, in \u001b[0;36m_slow_gradcheck\u001b[0;34m(func, func_out, tupled_inputs, outputs, eps, rtol, atol, check_grad_dtypes, nondet_tol, use_forward_ad, complex_indices, test_imag, masked)\u001b[0m\n\u001b[1;32m   1627\u001b[0m         \u001b[38;5;28;01mfor\u001b[39;00m j, (a, n) \u001b[38;5;129;01min\u001b[39;00m \u001b[38;5;28menumerate\u001b[39m(\u001b[38;5;28mzip\u001b[39m(analytical, numerical[i])):\n\u001b[1;32m   1628\u001b[0m             \u001b[38;5;28;01mif\u001b[39;00m \u001b[38;5;129;01mnot\u001b[39;00m _allclose_with_type_promotion(a, n\u001b[38;5;241m.\u001b[39mto(a\u001b[38;5;241m.\u001b[39mdevice), rtol, atol):\n\u001b[0;32m-> 1629\u001b[0m                 \u001b[38;5;28;01mraise\u001b[39;00m GradcheckError(\n\u001b[1;32m   1630\u001b[0m                     _get_notallclose_msg(a, n, i, j, complex_indices, test_imag)\n\u001b[1;32m   1631\u001b[0m                 )\n\u001b[1;32m   1633\u001b[0m \u001b[38;5;28;01mreturn\u001b[39;00m \u001b[38;5;28;01mTrue\u001b[39;00m\n",
      "\u001b[0;31mGradcheckError\u001b[0m: While considering the imaginary part of complex outputs only, Jacobian mismatch for output 0 with respect to input 0,\nnumerical:tensor([[ 0.6153,  1.7057, -1.4956, -0.7274, -0.8891,  0.9693,  0.1948, -0.5146,\n          0.2738],\n        [-0.7274, -3.1035,  2.6453,  0.5457,  1.4359, -1.4747,  0.0637,  1.1065,\n         -0.7085],\n        [ 0.1948,  1.6455, -1.1225,  0.0637, -0.8100,  0.2895, -0.2133, -0.5411,\n          0.6152],\n        [ 1.7057,  0.6839, -1.2802, -3.1035, -0.5921,  1.8670,  1.6455,  0.4885,\n         -1.1136],\n        [-0.8891, -0.5921,  1.4046,  1.4359, -0.2148, -1.5995, -0.8100, -0.2319,\n          1.1039],\n        [-0.5146,  0.4885,  0.6104,  1.1065, -0.2319, -1.7110, -0.5411,  0.2987,\n          0.7465],\n        [-1.4956, -1.2802,  1.6046,  2.6453,  1.4046, -2.2290, -1.1225,  0.6104,\n          0.0910],\n        [ 0.9693,  1.8670, -2.2290, -1.4747, -1.5995,  2.6824,  0.2895, -1.7110,\n          0.6302],\n        [ 0.2738, -1.1136,  0.0910, -0.7085,  1.1039,  0.6302,  0.6152,  0.7465,\n         -1.3777]], dtype=torch.float64)\nanalytical:tensor([[-0.6153, -1.7057,  1.4956,  0.7274,  0.8891, -0.9693, -0.1948,  0.5146,\n         -0.2738],\n        [ 0.7274,  3.1035, -2.6453, -0.5457, -1.4359,  1.4747, -0.0637, -1.1065,\n          0.7085],\n        [-0.1948, -1.6455,  1.1225, -0.0637,  0.8100, -0.2895,  0.2133,  0.5411,\n         -0.6152],\n        [-1.7057, -0.6839,  1.2802,  3.1035,  0.5921, -1.8670, -1.6455, -0.4885,\n          1.1136],\n        [ 0.8891,  0.5921, -1.4046, -1.4359,  0.2148,  1.5995,  0.8100,  0.2319,\n         -1.1039],\n        [ 0.5146, -0.4885, -0.6104, -1.1065,  0.2319,  1.7110,  0.5411, -0.2987,\n         -0.7465],\n        [ 1.4956,  1.2802, -1.6046, -2.6453, -1.4046,  2.2290,  1.1225, -0.6104,\n         -0.0910],\n        [-0.9693, -1.8670,  2.2290,  1.4747,  1.5995, -2.6824, -0.2895,  1.7110,\n         -0.6302],\n        [-0.2738,  1.1136, -0.0910,  0.7085, -1.1039, -0.6302, -0.6152, -0.7465,\n          1.3777]], dtype=torch.float64)\n"
     ]
    }
   ],
   "source": [
    "import scipy.linalg\n",
    "import torch\n",
    "\n",
    "def adjoint(A, E, f):\n",
    "    A_H = A.mH.to(E.dtype)\n",
    "    n = A.size(0)\n",
    "    M = torch.zeros(2*n, 2*n, dtype=E.dtype, device=E.device)\n",
    "    M[:n, :n] = A_H\n",
    "    M[n:, n:] = A_H\n",
    "    M[:n, n:] = E\n",
    "    return f(M)[:n, n:].to(A.dtype)\n",
    "\n",
    "def logm_scipy(A):\n",
    "    return torch.from_numpy(scipy.linalg.logm(A.cpu(), disp=False)[0]).to(A.device)\n",
    "\n",
    "class Logm(torch.autograd.Function):\n",
    "    @staticmethod\n",
    "    def forward(ctx, A):\n",
    "        assert A.ndim == 2 and A.size(0) == A.size(1)  # Square matrix\n",
    "        assert A.dtype in (torch.float32, torch.float64, torch.complex64, torch.complex128)\n",
    "        ctx.save_for_backward(A)\n",
    "        return logm_scipy(A)\n",
    "\n",
    "    @staticmethod\n",
    "    def backward(ctx, G):\n",
    "        A, = ctx.saved_tensors\n",
    "        return adjoint(A, G, logm_scipy)\n",
    "\n",
    "logm = Logm.apply\n",
    "\n",
    "A = torch.rand(3, 3, dtype=torch.float64, requires_grad=True)\n",
    "torch.autograd.gradcheck(logm, A)\n",
    "A = torch.rand(3, 3, dtype=torch.complex128, requires_grad=True)\n",
    "torch.autograd.gradcheck(logm, A)"
   ]
  }
 ],
 "metadata": {
  "kernelspec": {
   "display_name": "env_geo_meta_rl",
   "language": "python",
   "name": "python3"
  },
  "language_info": {
   "codemirror_mode": {
    "name": "ipython",
    "version": 3
   },
   "file_extension": ".py",
   "mimetype": "text/x-python",
   "name": "python",
   "nbconvert_exporter": "python",
   "pygments_lexer": "ipython3",
   "version": "3.9.21"
  }
 },
 "nbformat": 4,
 "nbformat_minor": 2
}
