{
 "cells": [
  {
   "cell_type": "markdown",
   "metadata": {},
   "source": [
    "## Hereditary Geometry Discovery\n",
    "\n",
    "- Simultaneously learn:\n",
    "    - 1. Tensor that aligns Kernels (the left-action).\n",
    "    - 2. Learn generator W that contains log of left-actions.\n",
    "- Not implemented yet:\n",
    "    - 1. Charts\n",
    "    - 2. Symmetry Penalizer"
   ]
  },
  {
   "cell_type": "code",
   "execution_count": 1,
   "metadata": {},
   "outputs": [
    {
     "name": "stderr",
     "output_type": "stream",
     "text": [
      "2025-07-02 13:56:15.584036: I tensorflow/core/platform/cpu_feature_guard.cc:210] This TensorFlow binary is optimized to use available CPU instructions in performance-critical operations.\n",
      "To enable the following instructions: SSE4.1 SSE4.2, in other operations, rebuild TensorFlow with the appropriate compiler flags.\n",
      "INFO:faiss.loader:Loading faiss.\n",
      "INFO:faiss.loader:Successfully loaded faiss.\n",
      "INFO:faiss:Failed to load GPU Faiss: name 'GpuIndexIVFFlat' is not defined. Will not load constructor refs for GPU indexes. This is only an error if you're trying to use GPU Faiss.\n",
      "/Users/paulnitschke/Desktop/projects/geo_meta_rl/src/utils.py:68: UserWarning: Replay buffer contains more samples than selected.\n",
      "  warnings.warn(\"Replay buffer contains more samples than selected.\")\n"
     ]
    },
    {
     "name": "stdout",
     "output_type": "stream",
     "text": [
      "Loaded next_observations from sac_circle_rotation_task_0_replay_buffer.pkl with shape torch.Size([100000, 2])\n"
     ]
    },
    {
     "name": "stderr",
     "output_type": "stream",
     "text": [
      "INFO:root:Setup kernel frame evaluation with k-NN index.\n"
     ]
    },
    {
     "name": "stdout",
     "output_type": "stream",
     "text": [
      "Loaded next_observations from sac_circle_rotation_task_1_replay_buffer.pkl with shape torch.Size([100000, 2])\n"
     ]
    },
    {
     "name": "stderr",
     "output_type": "stream",
     "text": [
      "INFO:root:Setup kernel frame evaluation with k-NN index.\n"
     ]
    },
    {
     "name": "stdout",
     "output_type": "stream",
     "text": [
      "Loaded next_observations from sac_circle_rotation_task_2_replay_buffer.pkl with shape torch.Size([100000, 2])\n"
     ]
    },
    {
     "name": "stderr",
     "output_type": "stream",
     "text": [
      "INFO:root:Setup kernel frame evaluation with k-NN index.\n"
     ]
    }
   ],
   "source": [
    "import pickle\n",
    "\n",
    "from src.utils import load_replay_buffer\n",
    "from src.learning.symmetry_discovery.differential.kernel_approx import KernelFrameEstimator\n",
    "\n",
    "TASK_0_NAME=\"sac_circle_rotation_task_0\"\n",
    "TASK_1_NAME=\"sac_circle_rotation_task_1\"\n",
    "TASK_2_NAME=\"sac_circle_rotation_task_2\"\n",
    "\n",
    "LOAD_WHAT:str=\"next_observations\"\n",
    "KERNEL_DIM=1\n",
    "N_SAMPLES=50_000\n",
    "\n",
    "\n",
    "def load_replay_buffer_and_kernel(task_name:str, load_what:str, kernel_dim: int, n_samples:int):\n",
    "    \"\"\"Loads samples and kernel evaluator of a task.\"\"\"\n",
    "\n",
    "    assert load_what in [\"observations\", \"actions\", \"next_observations\"], \"Learn hereditary geometry for states, actions or next states.\"\n",
    "\n",
    "    buffer_name= f\"{task_name}_replay_buffer.pkl\"\n",
    "    kernel_name= f\"{task_name}_kernel_bases.pkl\"\n",
    "\n",
    "    buffer= load_replay_buffer(buffer_name, N_steps=n_samples)\n",
    "    ps=buffer[load_what]\n",
    "    print(f\"Loaded {load_what} from {buffer_name} with shape {ps.shape}\")\n",
    "\n",
    "    # Load kernel bases\n",
    "    frameestimator=KernelFrameEstimator(ps=ps, kernel_dim=kernel_dim)\n",
    "    with open(kernel_name, 'rb') as f:\n",
    "        kernel_samples = pickle.load(f)\n",
    "    frameestimator.set_frame(frame=kernel_samples)\n",
    "\n",
    "    return ps, frameestimator\n",
    "\n",
    "ps_task_0, frameestimator_task_0 = load_replay_buffer_and_kernel(TASK_0_NAME, \"next_observations\", kernel_dim=KERNEL_DIM, n_samples=N_SAMPLES)\n",
    "ps_task_1, frameestimator_task_1 = load_replay_buffer_and_kernel(TASK_1_NAME, \"next_observations\", kernel_dim=KERNEL_DIM, n_samples=N_SAMPLES)\n",
    "ps_task_2, frameestimator_task_2 = load_replay_buffer_and_kernel(TASK_2_NAME, \"next_observations\", kernel_dim=KERNEL_DIM, n_samples=N_SAMPLES)"
   ]
  },
  {
   "cell_type": "code",
   "execution_count": 2,
   "metadata": {},
   "outputs": [
    {
     "name": "stderr",
     "output_type": "stream",
     "text": [
      "/Users/paulnitschke/Desktop/projects/geo_meta_rl/src/learning/symmetry_discovery/differential/hereditary_geometry_discovery.py:34: UserWarning: Only one left-action implemented.\n",
      "  warnings.warn(\"Only one left-action implemented.\")\n",
      "/Users/paulnitschke/Desktop/projects/geo_meta_rl/src/learning/symmetry_discovery/differential/hereditary_geometry_discovery.py:35: UserWarning: To copy construct from a tensor, it is recommended to use sourceTensor.clone().detach() or sourceTensor.clone().detach().requires_grad_(True), rather than torch.tensor(sourceTensor).\n",
      "  self.lg_i=torch.tensor(torch.randn(self.n, self.n), requires_grad=True)\n",
      "Inferring left-action:   0%|          | 0/1000 [00:00<?, ?it/s]\n"
     ]
    },
    {
     "ename": "RuntimeError",
     "evalue": "Can't call numpy() on Tensor that requires grad. Use tensor.detach().numpy() instead.",
     "output_type": "error",
     "traceback": [
      "\u001b[0;31m---------------------------------------------------------------------------\u001b[0m",
      "\u001b[0;31mRuntimeError\u001b[0m                              Traceback (most recent call last)",
      "Cell \u001b[0;32mIn[2], line 7\u001b[0m\n\u001b[1;32m      5\u001b[0m tasks_frameestimators\u001b[38;5;241m=\u001b[39m [frameestimator_task_0, frameestimator_task_1, frameestimator_task_2]\n\u001b[1;32m      6\u001b[0m her_geo_dis\u001b[38;5;241m=\u001b[39mHereditaryGeometryDiscovery(tasks_ps\u001b[38;5;241m=\u001b[39mtasks_ps,tasks_frameestimators\u001b[38;5;241m=\u001b[39mtasks_frameestimators, kernel_dim\u001b[38;5;241m=\u001b[39mKERNEL_DIM, batch_size\u001b[38;5;241m=\u001b[39m\u001b[38;5;241m64\u001b[39m, knn\u001b[38;5;241m=\u001b[39m\u001b[38;5;241m10\u001b[39m, bandwidth\u001b[38;5;241m=\u001b[39m\u001b[38;5;241m0.5\u001b[39m)\n\u001b[0;32m----> 7\u001b[0m \u001b[43mher_geo_dis\u001b[49m\u001b[38;5;241;43m.\u001b[39;49m\u001b[43moptimize\u001b[49m\u001b[43m(\u001b[49m\u001b[43mn_steps\u001b[49m\u001b[38;5;241;43m=\u001b[39;49m\u001b[38;5;241;43m1000\u001b[39;49m\u001b[43m)\u001b[49m\n",
      "File \u001b[0;32m~/Desktop/projects/geo_meta_rl/src/learning/symmetry_discovery/differential/hereditary_geometry_discovery.py:129\u001b[0m, in \u001b[0;36mHereditaryGeometryDiscovery.optimize\u001b[0;34m(self, n_steps)\u001b[0m\n\u001b[1;32m    126\u001b[0m progress_bar \u001b[38;5;241m=\u001b[39m tqdm(\u001b[38;5;28mrange\u001b[39m(n_steps), desc\u001b[38;5;241m=\u001b[39m\u001b[38;5;124m\"\u001b[39m\u001b[38;5;124mInferring left-action\u001b[39m\u001b[38;5;124m\"\u001b[39m)\n\u001b[1;32m    128\u001b[0m \u001b[38;5;28;01mfor\u001b[39;00m _ \u001b[38;5;129;01min\u001b[39;00m progress_bar:\n\u001b[0;32m--> 129\u001b[0m     loss \u001b[38;5;241m=\u001b[39m \u001b[38;5;28;43mself\u001b[39;49m\u001b[38;5;241;43m.\u001b[39;49m\u001b[43mtake_one_gradient_step_diff\u001b[49m\u001b[43m(\u001b[49m\n\u001b[1;32m    130\u001b[0m \u001b[43m        \u001b[49m\u001b[43mbase_task_idx\u001b[49m\u001b[38;5;241;43m=\u001b[39;49m\u001b[38;5;241;43m0\u001b[39;49m\u001b[43m,\u001b[49m\n\u001b[1;32m    131\u001b[0m \u001b[43m        \u001b[49m\u001b[43mtask_i_idx\u001b[49m\u001b[38;5;241;43m=\u001b[39;49m\u001b[38;5;241;43m1\u001b[39;49m\n\u001b[1;32m    132\u001b[0m \u001b[43m    \u001b[49m\u001b[43m)\u001b[49m\n\u001b[1;32m    133\u001b[0m     progress_bar\u001b[38;5;241m.\u001b[39mset_description(\u001b[38;5;124mf\u001b[39m\u001b[38;5;124m\"\u001b[39m\u001b[38;5;124mLoss: \u001b[39m\u001b[38;5;132;01m{\u001b[39;00mloss\u001b[38;5;241m.\u001b[39mitem()\u001b[38;5;132;01m:\u001b[39;00m\u001b[38;5;124m.4e\u001b[39m\u001b[38;5;132;01m}\u001b[39;00m\u001b[38;5;124m\"\u001b[39m)\n",
      "File \u001b[0;32m~/Desktop/projects/geo_meta_rl/src/learning/symmetry_discovery/differential/hereditary_geometry_discovery.py:110\u001b[0m, in \u001b[0;36mHereditaryGeometryDiscovery.take_one_gradient_step_diff\u001b[0;34m(self, base_task_idx, task_i_idx)\u001b[0m\n\u001b[1;32m    106\u001b[0m \u001b[38;5;28;01mdef\u001b[39;00m \u001b[38;5;21mtake_one_gradient_step_diff\u001b[39m(\u001b[38;5;28mself\u001b[39m,\n\u001b[1;32m    107\u001b[0m                   base_task_idx,\n\u001b[1;32m    108\u001b[0m                   task_i_idx):\n\u001b[0;32m--> 110\u001b[0m     loss \u001b[38;5;241m=\u001b[39m \u001b[38;5;28;43mself\u001b[39;49m\u001b[38;5;241;43m.\u001b[39;49m\u001b[43mevaluate_left_action\u001b[49m\u001b[43m(\u001b[49m\n\u001b[1;32m    111\u001b[0m \u001b[43m        \u001b[49m\u001b[43mlg_i\u001b[49m\u001b[38;5;241;43m=\u001b[39;49m\u001b[38;5;28;43mself\u001b[39;49m\u001b[38;5;241;43m.\u001b[39;49m\u001b[43mlg_i\u001b[49m\u001b[43m,\u001b[49m\n\u001b[1;32m    112\u001b[0m \u001b[43m        \u001b[49m\u001b[43midx_task_base\u001b[49m\u001b[38;5;241;43m=\u001b[39;49m\u001b[43mbase_task_idx\u001b[49m\u001b[43m,\u001b[49m\n\u001b[1;32m    113\u001b[0m \u001b[43m        \u001b[49m\u001b[43midx_task_i\u001b[49m\u001b[38;5;241;43m=\u001b[39;49m\u001b[43mtask_i_idx\u001b[49m\n\u001b[1;32m    114\u001b[0m \u001b[43m    \u001b[49m\u001b[43m)\u001b[49m\n\u001b[1;32m    116\u001b[0m     \u001b[38;5;66;03m# Update generator\u001b[39;00m\n\u001b[1;32m    117\u001b[0m     \u001b[38;5;28mself\u001b[39m\u001b[38;5;241m.\u001b[39moptimizer_lg_i\u001b[38;5;241m.\u001b[39mzero_grad()\n",
      "File \u001b[0;32m~/Desktop/projects/geo_meta_rl/src/learning/symmetry_discovery/differential/hereditary_geometry_discovery.py:50\u001b[0m, in \u001b[0;36mHereditaryGeometryDiscovery.evaluate_left_action\u001b[0;34m(self, lg_i, idx_task_base, idx_task_i)\u001b[0m\n\u001b[1;32m     48\u001b[0m ps_base_push\u001b[38;5;241m=\u001b[39mtorch\u001b[38;5;241m.\u001b[39mmatmul(lg_i, ps_base_batch\u001b[38;5;241m.\u001b[39mT)\u001b[38;5;241m.\u001b[39mT\n\u001b[1;32m     49\u001b[0m frame_base\u001b[38;5;241m=\u001b[39m\u001b[38;5;28mself\u001b[39m\u001b[38;5;241m.\u001b[39m_sample_frame(ps_base_task, frame_base_task)\n\u001b[0;32m---> 50\u001b[0m frame_i_push\u001b[38;5;241m=\u001b[39m \u001b[38;5;28;43mself\u001b[39;49m\u001b[38;5;241;43m.\u001b[39;49m\u001b[43m_sample_frame\u001b[49m\u001b[43m(\u001b[49m\u001b[43mps_base_push\u001b[49m\u001b[43m,\u001b[49m\u001b[43m \u001b[49m\u001b[43mframe_i_task\u001b[49m\u001b[43m)\u001b[49m\n\u001b[1;32m     52\u001b[0m \u001b[38;5;66;03m# Compute the orthogonal complement of frame_base with respect to frame_i_push and vice versa\u001b[39;00m\n\u001b[1;32m     53\u001b[0m ortho_frame_i_push\u001b[38;5;241m=\u001b[39m\u001b[38;5;28mself\u001b[39m\u001b[38;5;241m.\u001b[39m_ortho_comp(frame_i_push, frame_base)\n",
      "File \u001b[0;32m~/Desktop/projects/geo_meta_rl/src/learning/symmetry_discovery/differential/hereditary_geometry_discovery.py:71\u001b[0m, in \u001b[0;36mHereditaryGeometryDiscovery._sample_frame\u001b[0;34m(self, ps, frame_evaluator)\u001b[0m\n\u001b[1;32m     68\u001b[0m frame_ps\u001b[38;5;241m=\u001b[39mtorch\u001b[38;5;241m.\u001b[39mzeros(size\u001b[38;5;241m=\u001b[39m(\u001b[38;5;28mself\u001b[39m\u001b[38;5;241m.\u001b[39mb, \u001b[38;5;28mself\u001b[39m\u001b[38;5;241m.\u001b[39md, \u001b[38;5;28mself\u001b[39m\u001b[38;5;241m.\u001b[39mn))\n\u001b[1;32m     69\u001b[0m \u001b[38;5;28;01mfor\u001b[39;00m i \u001b[38;5;129;01min\u001b[39;00m \u001b[38;5;28mrange\u001b[39m(\u001b[38;5;28mself\u001b[39m\u001b[38;5;241m.\u001b[39mb):\n\u001b[1;32m     70\u001b[0m     \u001b[38;5;66;03m#TODO, kernel_approx.py computes the frame of shape (n,d) while we need (d,n)\u001b[39;00m\n\u001b[0;32m---> 71\u001b[0m     frame_ps[i]\u001b[38;5;241m=\u001b[39m\u001b[43mframe_evaluator\u001b[49m\u001b[38;5;241;43m.\u001b[39;49m\u001b[43mevaluate\u001b[49m\u001b[43m(\u001b[49m\u001b[43mps\u001b[49m\u001b[43m[\u001b[49m\u001b[43mi\u001b[49m\u001b[43m]\u001b[49m\u001b[43m,\u001b[49m\u001b[43m \u001b[49m\u001b[43mk\u001b[49m\u001b[38;5;241;43m=\u001b[39;49m\u001b[38;5;28;43mself\u001b[39;49m\u001b[38;5;241;43m.\u001b[39;49m\u001b[43mk\u001b[49m\u001b[43m,\u001b[49m\u001b[43m \u001b[49m\u001b[43mbandwidth\u001b[49m\u001b[38;5;241;43m=\u001b[39;49m\u001b[38;5;28;43mself\u001b[39;49m\u001b[38;5;241;43m.\u001b[39;49m\u001b[43mbandwidth\u001b[49m\u001b[43m)\u001b[49m\u001b[38;5;241m.\u001b[39mT\n",
      "File \u001b[0;32m~/Desktop/projects/geo_meta_rl/src/learning/symmetry_discovery/differential/kernel_approx.py:100\u001b[0m, in \u001b[0;36mKernelFrameEstimator.evaluate\u001b[0;34m(self, p, k, bandwidth)\u001b[0m\n\u001b[1;32m     97\u001b[0m \u001b[38;5;28;01massert\u001b[39;00m \u001b[38;5;28mself\u001b[39m\u001b[38;5;241m.\u001b[39m_finished_setup_evaluation, \u001b[38;5;124m\"\u001b[39m\u001b[38;5;124mKernelFrameEstimator must be setup for evaluation before calling evaluate(). Call setup_evaluation() first.\u001b[39m\u001b[38;5;124m\"\u001b[39m\n\u001b[1;32m     99\u001b[0m \u001b[38;5;66;03m# Get nearest neighbors\u001b[39;00m\n\u001b[0;32m--> 100\u001b[0m _, knn_idx \u001b[38;5;241m=\u001b[39m \u001b[38;5;28mself\u001b[39m\u001b[38;5;241m.\u001b[39mindex\u001b[38;5;241m.\u001b[39msearch(\u001b[43mp\u001b[49m\u001b[43m[\u001b[49m\u001b[38;5;28;43;01mNone\u001b[39;49;00m\u001b[43m]\u001b[49m\u001b[38;5;241;43m.\u001b[39;49m\u001b[43mcpu\u001b[49m\u001b[43m(\u001b[49m\u001b[43m)\u001b[49m\u001b[38;5;241;43m.\u001b[39;49m\u001b[43mnumpy\u001b[49m\u001b[43m(\u001b[49m\u001b[43m)\u001b[49m, k)\n\u001b[1;32m    101\u001b[0m knn_idx \u001b[38;5;241m=\u001b[39m torch\u001b[38;5;241m.\u001b[39mfrom_numpy(knn_idx[\u001b[38;5;241m0\u001b[39m])\u001b[38;5;241m.\u001b[39mto(\u001b[38;5;28mself\u001b[39m\u001b[38;5;241m.\u001b[39mknown_ps\u001b[38;5;241m.\u001b[39mdevice)\n\u001b[1;32m    102\u001b[0m knn_ps \u001b[38;5;241m=\u001b[39m \u001b[38;5;28mself\u001b[39m\u001b[38;5;241m.\u001b[39mknown_ps[knn_idx]\n",
      "\u001b[0;31mRuntimeError\u001b[0m: Can't call numpy() on Tensor that requires grad. Use tensor.detach().numpy() instead."
     ]
    }
   ],
   "source": [
    "from src.learning.symmetry_discovery.differential.hereditary_geometry_discovery import HereditaryGeometryDiscovery\n",
    "\n",
    "\n",
    "tasks_ps= [ps_task_0, ps_task_1, ps_task_2]\n",
    "tasks_frameestimators= [frameestimator_task_0, frameestimator_task_1, frameestimator_task_2]\n",
    "her_geo_dis=HereditaryGeometryDiscovery(tasks_ps=tasks_ps,tasks_frameestimators=tasks_frameestimators, kernel_dim=KERNEL_DIM, batch_size=64, knn=10, bandwidth=0.5)\n",
    "her_geo_dis.optimize(n_steps=1000)"
   ]
  }
 ],
 "metadata": {
  "kernelspec": {
   "display_name": "env_geo_meta_rl",
   "language": "python",
   "name": "python3"
  },
  "language_info": {
   "codemirror_mode": {
    "name": "ipython",
    "version": 3
   },
   "file_extension": ".py",
   "mimetype": "text/x-python",
   "name": "python",
   "nbconvert_exporter": "python",
   "pygments_lexer": "ipython3",
   "version": "3.9.21"
  }
 },
 "nbformat": 4,
 "nbformat_minor": 2
}
