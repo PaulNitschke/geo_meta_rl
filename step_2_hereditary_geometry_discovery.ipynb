{
 "cells": [
  {
   "cell_type": "markdown",
   "metadata": {},
   "source": [
    "## Hereditary Geometry Discovery\n",
    "\n",
    "- Simultaneously learn:\n",
    "    - 1. Tensor that aligns Kernels (the left-action).\n",
    "    - 2. Learn generator W that contains log of left-actions.\n",
    "- Not implemented yet:\n",
    "    - 1. Charts\n",
    "    - 2. Symmetry Penalizer"
   ]
  },
  {
   "cell_type": "code",
   "execution_count": 1,
   "metadata": {},
   "outputs": [
    {
     "name": "stderr",
     "output_type": "stream",
     "text": [
      "2025-07-02 11:55:02.103196: I tensorflow/core/platform/cpu_feature_guard.cc:210] This TensorFlow binary is optimized to use available CPU instructions in performance-critical operations.\n",
      "To enable the following instructions: SSE4.1 SSE4.2, in other operations, rebuild TensorFlow with the appropriate compiler flags.\n",
      "/Users/paulnitschke/Desktop/projects/geo_meta_rl/src/utils.py:68: UserWarning: Replay buffer contains more samples than selected.\n",
      "  warnings.warn(\"Replay buffer contains more samples than selected.\")\n"
     ]
    },
    {
     "name": "stdout",
     "output_type": "stream",
     "text": [
      "Loaded next_observations from sac_circle_rotation_task_0_replay_buffer.pkl with shape torch.Size([100000, 2])\n",
      "Loaded next_observations from sac_circle_rotation_task_1_replay_buffer.pkl with shape torch.Size([100000, 2])\n",
      "Loaded next_observations from sac_circle_rotation_task_2_replay_buffer.pkl with shape torch.Size([100000, 2])\n"
     ]
    }
   ],
   "source": [
    "import pickle\n",
    "\n",
    "from src.utils import load_replay_buffer\n",
    "from src.learning.symmetry_discovery.differential.kernel_approx import KernelFrameEstimator\n",
    "\n",
    "TASK_0_NAME=\"sac_circle_rotation_task_0\"\n",
    "TASK_1_NAME=\"sac_circle_rotation_task_1\"\n",
    "TASK_2_NAME=\"sac_circle_rotation_task_2\"\n",
    "\n",
    "LOAD_WHAT:str=\"next_observations\"\n",
    "KERNEL_DIM=1\n",
    "N_SAMPLES=50_000\n",
    "\n",
    "\n",
    "def load_replay_buffer_and_kernel(task_name:str, load_what:str, kernel_dim: int, n_samples:int):\n",
    "    \"\"\"Loads samples and kernel evaluator of a task.\"\"\"\n",
    "\n",
    "    assert load_what in [\"observations\", \"actions\", \"next_observations\"], \"Learn hereditary geometry for states, actions or next states.\"\n",
    "\n",
    "    buffer_name= f\"{task_name}_replay_buffer.pkl\"\n",
    "    kernel_name= f\"{task_name}_kernel_bases.pkl\"\n",
    "\n",
    "    buffer= load_replay_buffer(buffer_name, N_steps=n_samples)\n",
    "    ps=buffer[load_what]\n",
    "    print(f\"Loaded {load_what} from {buffer_name} with shape {ps.shape}\")\n",
    "\n",
    "    # Load kernel bases\n",
    "    frameestimator=KernelFrameEstimator(ps=ps, kernel_dim=kernel_dim)\n",
    "    with open(kernel_name, 'rb') as f:\n",
    "        kernel_samples = pickle.load(f)\n",
    "    frameestimator.set_frame(frame=kernel_samples)\n",
    "\n",
    "    return ps, frameestimator\n",
    "\n",
    "ps_task_0, frameestimator_task_0 = load_replay_buffer_and_kernel(TASK_0_NAME, \"next_observations\", kernel_dim=KERNEL_DIM, n_samples=N_SAMPLES)\n",
    "ps_task_1, frameestimator_task_1 = load_replay_buffer_and_kernel(TASK_1_NAME, \"next_observations\", kernel_dim=KERNEL_DIM, n_samples=N_SAMPLES)\n",
    "ps_task_2, frameestimator_task_2 = load_replay_buffer_and_kernel(TASK_2_NAME, \"next_observations\", kernel_dim=KERNEL_DIM, n_samples=N_SAMPLES)"
   ]
  },
  {
   "cell_type": "code",
   "execution_count": 4,
   "metadata": {},
   "outputs": [
    {
     "name": "stderr",
     "output_type": "stream",
     "text": [
      "/var/folders/cm/rfx_nb1x16zcxk4frrwkp_1r0000gn/T/ipykernel_79380/1291826865.py:34: UserWarning: Only one left-action implemented.\n",
      "  warnings.warn(\"Only one left-action implemented.\")\n",
      "/var/folders/cm/rfx_nb1x16zcxk4frrwkp_1r0000gn/T/ipykernel_79380/1291826865.py:35: UserWarning: To copy construct from a tensor, it is recommended to use sourceTensor.clone().detach() or sourceTensor.clone().detach().requires_grad_(True), rather than torch.tensor(sourceTensor).\n",
      "  self.lg_i=torch.tensor(torch.randn(self.n, self.n), requires_grad=True)\n",
      "Inferring left-action:   0%|          | 0/1000 [00:48<?, ?it/s]\n"
     ]
    },
    {
     "ename": "UnboundLocalError",
     "evalue": "local variable 'proj_vecs' referenced before assignment",
     "output_type": "error",
     "traceback": [
      "\u001b[0;31m---------------------------------------------------------------------------\u001b[0m",
      "\u001b[0;31mUnboundLocalError\u001b[0m                         Traceback (most recent call last)",
      "Cell \u001b[0;32mIn[4], line 138\u001b[0m\n\u001b[1;32m    136\u001b[0m tasks_frameestimators\u001b[38;5;241m=\u001b[39m [frameestimator_task_0, frameestimator_task_1, frameestimator_task_2]\n\u001b[1;32m    137\u001b[0m her_geo_dis\u001b[38;5;241m=\u001b[39mHereditaryGeometryDiscovery(tasks_ps\u001b[38;5;241m=\u001b[39mtasks_ps,tasks_frameestimators\u001b[38;5;241m=\u001b[39mtasks_frameestimators, kernel_dim\u001b[38;5;241m=\u001b[39mKERNEL_DIM, batch_size\u001b[38;5;241m=\u001b[39m\u001b[38;5;241m64\u001b[39m, knn\u001b[38;5;241m=\u001b[39m\u001b[38;5;241m10\u001b[39m, bandwidth\u001b[38;5;241m=\u001b[39m\u001b[38;5;241m0.5\u001b[39m)\n\u001b[0;32m--> 138\u001b[0m \u001b[43mher_geo_dis\u001b[49m\u001b[38;5;241;43m.\u001b[39;49m\u001b[43moptimize\u001b[49m\u001b[43m(\u001b[49m\u001b[43mn_steps\u001b[49m\u001b[38;5;241;43m=\u001b[39;49m\u001b[38;5;241;43m1000\u001b[39;49m\u001b[43m)\u001b[49m\n",
      "Cell \u001b[0;32mIn[4], line 128\u001b[0m, in \u001b[0;36mHereditaryGeometryDiscovery.optimize\u001b[0;34m(self, n_steps)\u001b[0m\n\u001b[1;32m    125\u001b[0m progress_bar \u001b[38;5;241m=\u001b[39m tqdm(\u001b[38;5;28mrange\u001b[39m(n_steps), desc\u001b[38;5;241m=\u001b[39m\u001b[38;5;124m\"\u001b[39m\u001b[38;5;124mInferring left-action\u001b[39m\u001b[38;5;124m\"\u001b[39m)\n\u001b[1;32m    127\u001b[0m \u001b[38;5;28;01mfor\u001b[39;00m _ \u001b[38;5;129;01min\u001b[39;00m progress_bar:\n\u001b[0;32m--> 128\u001b[0m     loss \u001b[38;5;241m=\u001b[39m \u001b[38;5;28;43mself\u001b[39;49m\u001b[38;5;241;43m.\u001b[39;49m\u001b[43mtake_one_gradient_step_diff\u001b[49m\u001b[43m(\u001b[49m\n\u001b[1;32m    129\u001b[0m \u001b[43m        \u001b[49m\u001b[43mbase_task_idx\u001b[49m\u001b[38;5;241;43m=\u001b[39;49m\u001b[38;5;241;43m0\u001b[39;49m\u001b[43m,\u001b[49m\n\u001b[1;32m    130\u001b[0m \u001b[43m        \u001b[49m\u001b[43mtask_i_idx\u001b[49m\u001b[38;5;241;43m=\u001b[39;49m\u001b[38;5;241;43m1\u001b[39;49m\n\u001b[1;32m    131\u001b[0m \u001b[43m    \u001b[49m\u001b[43m)\u001b[49m\n\u001b[1;32m    132\u001b[0m     progress_bar\u001b[38;5;241m.\u001b[39mset_description(\u001b[38;5;124mf\u001b[39m\u001b[38;5;124m\"\u001b[39m\u001b[38;5;124mLoss: \u001b[39m\u001b[38;5;132;01m{\u001b[39;00mloss\u001b[38;5;241m.\u001b[39mitem()\u001b[38;5;132;01m:\u001b[39;00m\u001b[38;5;124m.4e\u001b[39m\u001b[38;5;132;01m}\u001b[39;00m\u001b[38;5;124m\"\u001b[39m)\n",
      "Cell \u001b[0;32mIn[4], line 109\u001b[0m, in \u001b[0;36mHereditaryGeometryDiscovery.take_one_gradient_step_diff\u001b[0;34m(self, base_task_idx, task_i_idx)\u001b[0m\n\u001b[1;32m    105\u001b[0m \u001b[38;5;28;01mdef\u001b[39;00m \u001b[38;5;21mtake_one_gradient_step_diff\u001b[39m(\u001b[38;5;28mself\u001b[39m,\n\u001b[1;32m    106\u001b[0m                   base_task_idx,\n\u001b[1;32m    107\u001b[0m                   task_i_idx):\n\u001b[0;32m--> 109\u001b[0m     loss \u001b[38;5;241m=\u001b[39m \u001b[38;5;28;43mself\u001b[39;49m\u001b[38;5;241;43m.\u001b[39;49m\u001b[43mevaluate_left_action\u001b[49m\u001b[43m(\u001b[49m\n\u001b[1;32m    110\u001b[0m \u001b[43m        \u001b[49m\u001b[43mlg_i\u001b[49m\u001b[38;5;241;43m=\u001b[39;49m\u001b[38;5;28;43mself\u001b[39;49m\u001b[38;5;241;43m.\u001b[39;49m\u001b[43mlg_i\u001b[49m\u001b[43m,\u001b[49m\n\u001b[1;32m    111\u001b[0m \u001b[43m        \u001b[49m\u001b[43midx_task_base\u001b[49m\u001b[38;5;241;43m=\u001b[39;49m\u001b[43mbase_task_idx\u001b[49m\u001b[43m,\u001b[49m\n\u001b[1;32m    112\u001b[0m \u001b[43m        \u001b[49m\u001b[43midx_task_i\u001b[49m\u001b[38;5;241;43m=\u001b[39;49m\u001b[43mtask_i_idx\u001b[49m\n\u001b[1;32m    113\u001b[0m \u001b[43m    \u001b[49m\u001b[43m)\u001b[49m\n\u001b[1;32m    115\u001b[0m     \u001b[38;5;66;03m# Update generator\u001b[39;00m\n\u001b[1;32m    116\u001b[0m     \u001b[38;5;28mself\u001b[39m\u001b[38;5;241m.\u001b[39moptimizer_lg_i\u001b[38;5;241m.\u001b[39mzero_grad()\n",
      "Cell \u001b[0;32mIn[4], line 52\u001b[0m, in \u001b[0;36mHereditaryGeometryDiscovery.evaluate_left_action\u001b[0;34m(self, lg_i, idx_task_base, idx_task_i)\u001b[0m\n\u001b[1;32m     49\u001b[0m frame_i_push\u001b[38;5;241m=\u001b[39m \u001b[38;5;28mself\u001b[39m\u001b[38;5;241m.\u001b[39m_sample_frame(ps_base_push, frame_i_task)\n\u001b[1;32m     51\u001b[0m \u001b[38;5;66;03m# Compute the orthogonal complement of frame_base with respect to frame_i_push and vice versa\u001b[39;00m\n\u001b[0;32m---> 52\u001b[0m ortho_frame_i_push\u001b[38;5;241m=\u001b[39m\u001b[38;5;28;43mself\u001b[39;49m\u001b[38;5;241;43m.\u001b[39;49m\u001b[43m_ortho_comp\u001b[49m\u001b[43m(\u001b[49m\u001b[43mframe_i_push\u001b[49m\u001b[43m,\u001b[49m\u001b[43m \u001b[49m\u001b[43mframe_base\u001b[49m\u001b[43m)\u001b[49m\n\u001b[1;32m     53\u001b[0m ortho_frame_base\u001b[38;5;241m=\u001b[39m \u001b[38;5;28mself\u001b[39m\u001b[38;5;241m.\u001b[39m_ortho_comp(frame_base, frame_i_push)\n\u001b[1;32m     55\u001b[0m \u001b[38;5;66;03m# We minimize the two orthogonal complements. If both are zero, the frames are aligned.\u001b[39;00m\n",
      "Cell \u001b[0;32mIn[4], line 103\u001b[0m, in \u001b[0;36mHereditaryGeometryDiscovery._ortho_comp\u001b[0;34m(self, vecs, basis)\u001b[0m\n\u001b[1;32m    101\u001b[0m \u001b[38;5;28;01mexcept\u001b[39;00m:\n\u001b[1;32m    102\u001b[0m     \u001b[38;5;28mbreakpoint\u001b[39m\u001b[38;5;241m=\u001b[39m\u001b[38;5;28;01mTrue\u001b[39;00m\n\u001b[0;32m--> 103\u001b[0m \u001b[38;5;28;01mreturn\u001b[39;00m vecs \u001b[38;5;241m-\u001b[39m \u001b[43mproj_vecs\u001b[49m\n",
      "\u001b[0;31mUnboundLocalError\u001b[0m: local variable 'proj_vecs' referenced before assignment"
     ]
    }
   ],
   "source": [
    "from src.learning.symmetry_discovery.differential.hereditary_geometry_discovery import HereditaryGeometryDiscovery\n",
    "\n",
    "\n",
    "tasks_ps= [ps_task_0, ps_task_1, ps_task_2]\n",
    "tasks_frameestimators= [frameestimator_task_0, frameestimator_task_1, frameestimator_task_2]\n",
    "her_geo_dis=HereditaryGeometryDiscovery(tasks_ps=tasks_ps,tasks_frameestimators=tasks_frameestimators, kernel_dim=KERNEL_DIM, batch_size=64, knn=10, bandwidth=0.5)\n",
    "her_geo_dis.optimize(n_steps=1000)"
   ]
  }
 ],
 "metadata": {
  "kernelspec": {
   "display_name": "env_geo_meta_rl",
   "language": "python",
   "name": "python3"
  },
  "language_info": {
   "codemirror_mode": {
    "name": "ipython",
    "version": 3
   },
   "file_extension": ".py",
   "mimetype": "text/x-python",
   "name": "python",
   "nbconvert_exporter": "python",
   "pygments_lexer": "ipython3",
   "version": "3.9.21"
  }
 },
 "nbformat": 4,
 "nbformat_minor": 2
}
