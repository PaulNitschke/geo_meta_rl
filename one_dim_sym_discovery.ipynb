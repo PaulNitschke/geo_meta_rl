{
 "cells": [
  {
   "cell_type": "markdown",
   "metadata": {},
   "source": [
    "## Define Function and its Symmetry"
   ]
  },
  {
   "cell_type": "code",
   "execution_count": 1,
   "metadata": {},
   "outputs": [],
   "source": [
    "import random\n",
    "import torch\n",
    "import matplotlib.pyplot as plt\n",
    "from tqdm import tqdm\n",
    "RANDOM_SEED = 41\n",
    "\n",
    "from constants import DTYPE, LABEL_FONT_SIZE\n",
    "\n",
    "random.seed(RANDOM_SEED)\n",
    "torch.manual_seed(RANDOM_SEED)\n",
    "\n",
    "%load_ext autoreload\n",
    "%autoreload 2\n",
    "\n",
    "N_RUNS = 3\n",
    "_random_seeds = [random.randint(0, 10000) for _ in range(N_RUNS)]"
   ]
  },
  {
   "cell_type": "markdown",
   "metadata": {},
   "source": [
    "## Generate Dataset"
   ]
  },
  {
   "cell_type": "code",
   "execution_count": 2,
   "metadata": {},
   "outputs": [],
   "source": [
    "N_SAMPLES = 100_000\n",
    "n_features = 2\n",
    "LAMBDA = 1\n",
    "RHO = 1\n",
    "\n",
    "SYMMETRY_DIM = 1\n",
    "\n",
    "cost_matrix = torch.tensor([[LAMBDA, 0], [0, RHO]], dtype=DTYPE)\n",
    "\n",
    "def f(state, cost_matrix=cost_matrix):\n",
    "    \"\"\"Evaluates f:M \\rightarrow N for a batch of states s and a cost_matrix.\n",
    "    Args:\n",
    "        state: torch.Tensor of shape (batch_size, n_features)\n",
    "    Returns:\n",
    "        torch.Tensor of shape (batch_size,)\n",
    "    \"\"\"\n",
    "    return torch.einsum('bi,ij,jb->b', state, cost_matrix, state.T)\n",
    "\n",
    "p = torch.randn(N_SAMPLES, n_features, dtype=DTYPE)\n",
    "n = f(p)"
   ]
  },
  {
   "cell_type": "markdown",
   "metadata": {},
   "source": [
    "## Differential Symmetry Discovery"
   ]
  },
  {
   "cell_type": "markdown",
   "metadata": {},
   "source": [
    "### Step 1: Learn Basis of Kernel at each Point"
   ]
  },
  {
   "cell_type": "code",
   "execution_count": 3,
   "metadata": {},
   "outputs": [
    {
     "name": "stderr",
     "output_type": "stream",
     "text": [
      "/Users/paulnitschke/Desktop/projects/geo_meta_rl/src/learning/symmetry_discovery/differential/kernel_pprox.py:62: UserWarning: Kernel Approximation currently only supports real-valued functions.\n",
      "  warnings.warn(\"Kernel Approximation currently only supports real-valued functions.\")\n",
      "Compute Kernel Samples...: 100000it [00:02, 37972.65it/s]\n",
      "Compute Point-Wise Bases...: 100%|██████████| 100000/100000 [00:06<00:00, 14536.25it/s]\n",
      "INFO:root:Computed kernel bases from:\n",
      "  - multiple tangent vectors for 66.66% of samples (good)\n",
      "  - one tangent vector for 13.72% of samples (okay)\n",
      "  - no tangent vector for 19.62% of samples (not good, no basis).\n"
     ]
    }
   ],
   "source": [
    "KERNEL_DIM=1\n",
    "EPSILON_BALL = 0.05\n",
    "EPSILON_LEVEL_SET = 0.005\n",
    "\n",
    "from src.learning.symmetry_discovery.differential.kernel_pprox import pointwise_kernel_approx\n",
    "\n",
    "kernel_bases = pointwise_kernel_approx(p=p, n=n, kernel_dim=KERNEL_DIM, epsilon_ball=EPSILON_BALL, epsilon_level_set=EPSILON_LEVEL_SET)"
   ]
  },
  {
   "cell_type": "markdown",
   "metadata": {},
   "source": [
    "## Compare Both Approaches"
   ]
  },
  {
   "cell_type": "code",
   "execution_count": 13,
   "metadata": {},
   "outputs": [],
   "source": [
    "diff_func_generators = []\n",
    "N_STEPS = 30_000"
   ]
  },
  {
   "cell_type": "code",
   "execution_count": 4,
   "metadata": {},
   "outputs": [
    {
     "name": "stderr",
     "output_type": "stream",
     "text": [
      "/Users/paulnitschke/Desktop/projects/geo_meta_rl/src/learning/symmetry_discovery/differential/diff_generator.py:53: UserWarning: Differential Generator is not Normalized During Training\n",
      "  warnings.warn(\"Differential Generator is not Normalized During Training\")\n",
      "/Users/paulnitschke/Desktop/projects/geo_meta_rl/src/learning/symmetry_discovery/functional/func_generator.py:50: UserWarning: Sampled group actions are in 2pi range.\n",
      "  warnings.warn(\"Sampled group actions are in 2pi range.\")\n",
      "/Users/paulnitschke/Desktop/projects/geo_meta_rl/src/experiments/diff_vs_func/compare_generators.py:32: UserWarning: Current evaluation only supports rotation symmetry.\n",
      "  warnings.warn(\"Current evaluation only supports rotation symmetry.\")\n",
      "Learning Differential and Functional Generator:   0%|          | 64/25000 [00:00<02:35, 160.61it/s, Diff. loss=190.81, Func. loss=190.97]"
     ]
    }
   ],
   "source": [
    "from src.experiments.diff_vs_func.compare_generators import DiffFuncGenerator\n",
    "\n",
    "g_init_all = torch.rand((1,n_features,n_features), dtype=DTYPE)\n",
    "g_0 = torch.nn.Parameter(g_init_all)\n",
    "g_oracle = torch.tensor([[0, -1], [1, 0]], dtype=DTYPE).unsqueeze(0)\n",
    "\n",
    "diff_func_generator = DiffFuncGenerator(\n",
    "    g_0=g_0,\n",
    "    p=p,\n",
    "    bases=kernel_bases,\n",
    "    func=f,\n",
    "    batch_size=128,\n",
    "    n_steps = 25_000,\n",
    "    g_oracle=g_oracle\n",
    ")\n",
    "diff_func_generator.optimize()"
   ]
  },
  {
   "cell_type": "code",
   "execution_count": 161,
   "metadata": {},
   "outputs": [
    {
     "data": {
      "text/plain": [
       "Parameter containing:\n",
       "tensor([[[ 0.0002, -0.0225],\n",
       "         [ 0.0224,  0.0002]]], requires_grad=True)"
      ]
     },
     "execution_count": 161,
     "metadata": {},
     "output_type": "execute_result"
    }
   ],
   "source": [
    "diff_func_generator.g_0_diff"
   ]
  },
  {
   "cell_type": "code",
   "execution_count": 162,
   "metadata": {},
   "outputs": [
    {
     "data": {
      "text/plain": [
       "Parameter containing:\n",
       "tensor([[[ 3.5174e-05, -2.5424e-01],\n",
       "         [ 2.5431e-01,  1.7940e-05]]], requires_grad=True)"
      ]
     },
     "execution_count": 162,
     "metadata": {},
     "output_type": "execute_result"
    }
   ],
   "source": [
    "diff_func_generator.g_0_func"
   ]
  },
  {
   "cell_type": "code",
   "execution_count": null,
   "metadata": {},
   "outputs": [],
   "source": [
    "from src.experiments.diff_vs_func.compare_generators import DiffFuncGenerator\n",
    "\n",
    "for idx_run in range(N_RUNS):\n",
    "    print(f\"Run {idx_run+1} out of {N_RUNS}\")\n",
    "\n",
    "    g_init_all = torch.rand((1,n_features,n_features), dtype=DTYPE)\n",
    "    g_0 = torch.nn.Parameter(g_init_all)\n",
    "    g_oracle = torch.tensor([[0, -1], [1, 0]], dtype=DTYPE).unsqueeze(0)\n",
    "\n",
    "    diff_func_generator = DiffFuncGenerator(\n",
    "        g_0=g_0,\n",
    "        p=p,\n",
    "        bases=kernel_bases,\n",
    "        func=f,\n",
    "        batch_size=128,\n",
    "        n_steps = 25_000,\n",
    "        g_oracle=g_oracle\n",
    "    )\n",
    "    diff_func_generator.optimize()\n",
    "    diff_func_generators.append(diff_func_generator)"
   ]
  }
 ],
 "metadata": {
  "kernelspec": {
   "display_name": "env_geo_meta_rl",
   "language": "python",
   "name": "python3"
  },
  "language_info": {
   "codemirror_mode": {
    "name": "ipython",
    "version": 3
   },
   "file_extension": ".py",
   "mimetype": "text/x-python",
   "name": "python",
   "nbconvert_exporter": "python",
   "pygments_lexer": "ipython3",
   "version": "3.9.21"
  }
 },
 "nbformat": 4,
 "nbformat_minor": 2
}
