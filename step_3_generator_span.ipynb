{
 "cells": [
  {
   "cell_type": "code",
   "execution_count": 1,
   "metadata": {},
   "outputs": [
    {
     "name": "stderr",
     "output_type": "stream",
     "text": [
      "2025-07-08 12:09:21.326685: I tensorflow/core/platform/cpu_feature_guard.cc:210] This TensorFlow binary is optimized to use available CPU instructions in performance-critical operations.\n",
      "To enable the following instructions: SSE4.1 SSE4.2, in other operations, rebuild TensorFlow with the appropriate compiler flags.\n",
      "/Users/paulnitschke/Desktop/projects/geo_meta_rl/src/utils.py:69: UserWarning: Replay buffer contains more samples than selected.\n",
      "  warnings.warn(\"Replay buffer contains more samples than selected.\")\n"
     ]
    },
    {
     "name": "stdout",
     "output_type": "stream",
     "text": [
      "Loaded next_observations from data/local/experiment/circle_rotation/sac_circle_rotation_task_0_replay_buffer.pkl with shape torch.Size([100000, 2])\n"
     ]
    },
    {
     "name": "stderr",
     "output_type": "stream",
     "text": [
      "INFO:root:Setup kernel frame evaluation.\n"
     ]
    },
    {
     "name": "stdout",
     "output_type": "stream",
     "text": [
      "Loaded next_observations from data/local/experiment/circle_rotation/sac_circle_rotation_task_1_replay_buffer.pkl with shape torch.Size([100000, 2])\n"
     ]
    },
    {
     "name": "stderr",
     "output_type": "stream",
     "text": [
      "INFO:root:Setup kernel frame evaluation.\n"
     ]
    },
    {
     "name": "stdout",
     "output_type": "stream",
     "text": [
      "Loaded next_observations from data/local/experiment/circle_rotation/sac_circle_rotation_task_2_replay_buffer.pkl with shape torch.Size([100000, 2])\n"
     ]
    },
    {
     "name": "stderr",
     "output_type": "stream",
     "text": [
      "INFO:root:Setup kernel frame evaluation.\n"
     ]
    },
    {
     "name": "stdout",
     "output_type": "stream",
     "text": [
      "Loaded next_observations from data/local/experiment/circle_rotation/sac_circle_rotation_task_3_replay_buffer.pkl with shape torch.Size([100000, 2])\n"
     ]
    },
    {
     "name": "stderr",
     "output_type": "stream",
     "text": [
      "INFO:root:Setup kernel frame evaluation.\n"
     ]
    }
   ],
   "source": [
    "import pickle\n",
    "import os\n",
    "\n",
    "from src.utils import load_replay_buffer\n",
    "from src.learning.symmetry_discovery.differential.kernel_approx import KernelFrameEstimator\n",
    "\n",
    "FOLDER_NAME: str=\"data/local/experiment/circle_rotation\"\n",
    "TASK_NAMES=[\"sac_circle_rotation_task_0\", \"sac_circle_rotation_task_1\", \"sac_circle_rotation_task_2\", \"sac_circle_rotation_task_3\"]\n",
    "\n",
    "LOAD_WHAT:str=\"next_observations\"\n",
    "KERNEL_DIM=1\n",
    "N_SAMPLES=50_000\n",
    "\n",
    "\n",
    "def load_replay_buffer_and_kernel(task_name:str, load_what:str, kernel_dim: int, n_samples:int, folder_name):\n",
    "    \"\"\"Loads samples and kernel evaluator of a task.\"\"\"\n",
    "\n",
    "    assert load_what in [\"observations\", \"actions\", \"next_observations\"], \"Learn hereditary geometry for states, actions or next states.\"\n",
    "\n",
    "    buffer_name= os.path.join(folder_name, f\"{task_name}_replay_buffer.pkl\")\n",
    "    kernel_name= os.path.join(folder_name, f\"{task_name}_kernel_bases.pkl\")\n",
    "\n",
    "\n",
    "    buffer= load_replay_buffer(buffer_name, N_steps=n_samples)\n",
    "    ps=buffer[load_what]\n",
    "    print(f\"Loaded {load_what} from {buffer_name} with shape {ps.shape}\")\n",
    "\n",
    "    # Load kernel bases\n",
    "    frameestimator=KernelFrameEstimator(ps=ps, kernel_dim=kernel_dim)\n",
    "    with open(kernel_name, 'rb') as f:\n",
    "        kernel_samples = pickle.load(f)\n",
    "    frameestimator.set_frame(frame=kernel_samples)\n",
    "\n",
    "    return ps, frameestimator\n",
    "\n",
    "tasks_ps, tasks_frameestimators=[], []\n",
    "for task_name in TASK_NAMES:\n",
    "    ps, frameestimator = load_replay_buffer_and_kernel(task_name, LOAD_WHAT, KERNEL_DIM, N_SAMPLES, FOLDER_NAME)\n",
    "    tasks_ps.append(ps)\n",
    "    tasks_frameestimators.append(frameestimator)"
   ]
  },
  {
   "cell_type": "code",
   "execution_count": 2,
   "metadata": {},
   "outputs": [
    {
     "name": "stderr",
     "output_type": "stream",
     "text": [
      "/Users/paulnitschke/Desktop/projects/geo_meta_rl/src/utils.py:91: UserWarning: torch.searchsorted(): input value tensor is non-contiguous, this will lower the performance due to extra data copy when converting non-contiguous tensor to contiguous, please use contiguous input value tensor if possible. This message will only appear once per program. (Triggered internally at /private/var/folders/c_/qfmhj66j0tn016nkx_th4hxm0000gp/T/abs_290u7eqnqq/croot/pytorch-select_1730848721858/work/aten/src/ATen/native/BucketizationUtils.h:34.)\n",
      "  bin_indices = th.bucketize(col, bins)\n",
      "/Users/paulnitschke/miniconda3/envs/env_geo_meta_rl/lib/python3.9/site-packages/scipy/linalg/_matfuncs.py:203: LogmExactlySingularWarning: The logm input matrix is exactly singular.\n",
      "  F = scipy.linalg._matfuncs_inv_ssq._logm(A)\n",
      "/Users/paulnitschke/miniconda3/envs/env_geo_meta_rl/lib/python3.9/site-packages/scipy/linalg/_matfuncs.py:203: LogmExactlySingularWarning: The logm input matrix is exactly singular.\n",
      "  F = scipy.linalg._matfuncs_inv_ssq._logm(A)\n",
      "/Users/paulnitschke/miniconda3/envs/env_geo_meta_rl/lib/python3.9/site-packages/scipy/linalg/_matfuncs.py:203: LogmExactlySingularWarning: The logm input matrix is exactly singular.\n",
      "  F = scipy.linalg._matfuncs_inv_ssq._logm(A)\n"
     ]
    },
    {
     "ename": "TypeError",
     "evalue": "'matrixLogarithm' object is not callable",
     "output_type": "error",
     "traceback": [
      "\u001b[0;31m---------------------------------------------------------------------------\u001b[0m",
      "\u001b[0;31mTypeError\u001b[0m                                 Traceback (most recent call last)",
      "Cell \u001b[0;32mIn[2], line 17\u001b[0m\n\u001b[1;32m     12\u001b[0m ORACLE_KERNEL\u001b[38;5;241m=\u001b[39m\u001b[38;5;28;01mFalse\u001b[39;00m\n\u001b[1;32m     14\u001b[0m her_geo_dis\u001b[38;5;241m=\u001b[39mHereditaryGeometryDiscovery(tasks_ps\u001b[38;5;241m=\u001b[39mtasks_ps,tasks_frameestimators\u001b[38;5;241m=\u001b[39mtasks_frameestimators, kernel_dim\u001b[38;5;241m=\u001b[39mKERNEL_DIM, batch_size\u001b[38;5;241m=\u001b[39m\u001b[38;5;241m128\u001b[39m, seed\u001b[38;5;241m=\u001b[39mSEED, bandwidth\u001b[38;5;241m=\u001b[39m\u001b[38;5;241m0.5\u001b[39m,\n\u001b[1;32m     15\u001b[0m                                         task_specifications\u001b[38;5;241m=\u001b[39mtrain_goal_locations,use_oracle_rotation_kernel\u001b[38;5;241m=\u001b[39mORACLE_KERNEL,\n\u001b[1;32m     16\u001b[0m                                         lg_inits_how\u001b[38;5;241m=\u001b[39m\u001b[38;5;124m\"\u001b[39m\u001b[38;5;124mmode\u001b[39m\u001b[38;5;124m\"\u001b[39m)\n\u001b[0;32m---> 17\u001b[0m \u001b[43mher_geo_dis\u001b[49m\u001b[38;5;241;43m.\u001b[39;49m\u001b[43mevaluate_generator_span\u001b[49m\u001b[43m(\u001b[49m\u001b[43m)\u001b[49m\n",
      "File \u001b[0;32m~/Desktop/projects/geo_meta_rl/src/learning/symmetry_discovery/differential/hereditary_geometry_discovery.py:156\u001b[0m, in \u001b[0;36mHereditaryGeometryDiscovery.evaluate_generator_span\u001b[0;34m(self, track_loss)\u001b[0m\n\u001b[1;32m    154\u001b[0m \u001b[38;5;28;01mdef\u001b[39;00m \u001b[38;5;21mevaluate_generator_span\u001b[39m(\u001b[38;5;28mself\u001b[39m, track_loss:\u001b[38;5;28mbool\u001b[39m\u001b[38;5;241m=\u001b[39m\u001b[38;5;28;01mTrue\u001b[39;00m)\u001b[38;5;241m-\u001b[39m\u001b[38;5;241m>\u001b[39m\u001b[38;5;28mfloat\u001b[39m:\n\u001b[1;32m    155\u001b[0m \u001b[38;5;250m    \u001b[39m\u001b[38;5;124;03m\"\"\"Evalutes whether all left-actions are inside the span of the generator.\"\"\"\u001b[39;00m\n\u001b[0;32m--> 156\u001b[0m     log_lgs\u001b[38;5;241m=\u001b[39mtorch\u001b[38;5;241m.\u001b[39mstack([\u001b[38;5;28mself\u001b[39m\u001b[38;5;241m.\u001b[39m_matrix_log\u001b[38;5;241m.\u001b[39mapply(\u001b[38;5;28mself\u001b[39m\u001b[38;5;241m.\u001b[39mlgs[idx_task]) \u001b[38;5;28;01mfor\u001b[39;00m idx_task \u001b[38;5;129;01min\u001b[39;00m \u001b[38;5;28mrange\u001b[39m(\u001b[38;5;28mself\u001b[39m\u001b[38;5;241m.\u001b[39m_n_tasks\u001b[38;5;241m-\u001b[39m\u001b[38;5;241m1\u001b[39m)], dim\u001b[38;5;241m=\u001b[39m\u001b[38;5;241m0\u001b[39m)\n\u001b[1;32m    158\u001b[0m     ortho_log_lgs_generator\u001b[38;5;241m=\u001b[39m\u001b[38;5;28mself\u001b[39m\u001b[38;5;241m.\u001b[39m_ortho_comp(log_lgs, \u001b[38;5;28mself\u001b[39m\u001b[38;5;241m.\u001b[39mgenerator)\n",
      "\u001b[0;31mTypeError\u001b[0m: 'matrixLogarithm' object is not callable"
     ]
    }
   ],
   "source": [
    "import torch\n",
    "SEED=40\n",
    "train_goal_locations=[\n",
    "    {'goal': torch.tensor([-0.70506063,  0.70914702])},\n",
    " {'goal': torch.tensor([ 0.95243384, -0.30474544])},\n",
    " {'goal': torch.tensor([-0.11289421, -0.99360701])},\n",
    " {'goal': torch.tensor([-0.81394263, -0.58094525])}]\n",
    "\n",
    "%load_ext autoreload\n",
    "%autoreload 2\n",
    "from src.learning.symmetry_discovery.differential.hereditary_geometry_discovery import HereditaryGeometryDiscovery\n",
    "ORACLE_KERNEL=False\n",
    "\n",
    "her_geo_dis=HereditaryGeometryDiscovery(tasks_ps=tasks_ps,tasks_frameestimators=tasks_frameestimators, kernel_dim=KERNEL_DIM, batch_size=128, seed=SEED, bandwidth=0.5,\n",
    "                                        task_specifications=train_goal_locations,use_oracle_rotation_kernel=ORACLE_KERNEL,\n",
    "                                        lg_inits_how=\"mode\")\n",
    "her_geo_dis.evaluate_generator_span()"
   ]
  }
 ],
 "metadata": {
  "kernelspec": {
   "display_name": "env_geo_meta_rl",
   "language": "python",
   "name": "python3"
  },
  "language_info": {
   "codemirror_mode": {
    "name": "ipython",
    "version": 3
   },
   "file_extension": ".py",
   "mimetype": "text/x-python",
   "name": "python",
   "nbconvert_exporter": "python",
   "pygments_lexer": "ipython3",
   "version": "3.9.21"
  }
 },
 "nbformat": 4,
 "nbformat_minor": 2
}
