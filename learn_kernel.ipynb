{
 "cells": [
  {
   "cell_type": "markdown",
   "metadata": {},
   "source": [
    "## Load replay buffer"
   ]
  },
  {
   "cell_type": "code",
   "execution_count": 2,
   "metadata": {},
   "outputs": [],
   "source": [
    "import pickle\n",
    "from src.utils import load_replay_buffer\n",
    "\n",
    "TASK_NAME=\"sac_circle_rotation_task_0\"\n",
    "N_SAMPLES:int=100_000\n",
    "KERNEL_DIM=1\n",
    "EPSILON_BALL = 0.025\n",
    "EPSILON_LEVEL_SET = 0.0025\n",
    "\n",
    "LEARN_KERNEL_BASES: bool=True\n",
    "\n",
    "\n",
    "replay_buffer_name:str=TASK_NAME+\"_replay_buffer.pkl\"\n",
    "kernel_bases_name:str=TASK_NAME+\"_kernel_bases.pkl\"\n",
    "\n",
    "\n",
    "replay_buffer_task_1= load_replay_buffer(replay_buffer_name, N_steps=N_SAMPLES)"
   ]
  },
  {
   "cell_type": "markdown",
   "metadata": {},
   "source": [
    "## Pointwise kernel bases of reward function\n",
    "\n",
    "- We have $R(p)=n$ where $p=(s,a)$ and $n$ is the real-valued reward value.\n",
    "- Learn the component of $G$ that acts on $S$ and the component of $G$ that acts on $A$ independently."
   ]
  },
  {
   "cell_type": "code",
   "execution_count": 3,
   "metadata": {},
   "outputs": [
    {
     "name": "stderr",
     "output_type": "stream",
     "text": [
      "/Users/paulnitschke/Desktop/projects/geo_meta_rl/src/learning/symmetry_discovery/differential/kernel_approx.py:32: UserWarning: TODO: Dimension of kernel should be actively inferred, not passed as an argument.\n",
      "  warnings.warn(\"TODO: Dimension of kernel should be actively inferred, not passed as an argument.\")\n",
      "/Users/paulnitschke/Desktop/projects/geo_meta_rl/src/learning/symmetry_discovery/differential/kernel_approx.py:62: UserWarning: Kernel Approximation currently only supports real-valued functions.\n",
      "  warnings.warn(\"Kernel Approximation currently only supports real-valued functions.\")\n",
      "INFO:root:Computing neighborhood of samples via kdtree...\n"
     ]
    },
    {
     "name": "stdout",
     "output_type": "stream",
     "text": [
      "Shape of ps:  torch.Size([100000, 2])  (should be (N_steps, |S|))\n",
      "Shape of ns:  torch.Size([100000])  (should be (N_steps))\n"
     ]
    },
    {
     "name": "stderr",
     "output_type": "stream",
     "text": [
      "Locate samples in neighborhood...: 100%|██████████| 100000/100000 [00:33<00:00, 3025.27it/s]\n",
      "Compute pointwise kernel samples...: 100%|██████████| 100000/100000 [00:10<00:00, 9998.09it/s]\n",
      "Compute Point-Wise Bases via PCA...: 100%|██████████| 100000/100000 [00:08<00:00, 11256.60it/s]\n",
      "INFO:root:Computed kernel bases from:\n",
      "  - multiple tangent vectors for 92.94% of samples (good)\n",
      "  - one tangent vector for 2.01% of samples (okay)\n",
      "  - no tangent vector for 5.05% of samples (not good, no basis).\n"
     ]
    }
   ],
   "source": [
    "from src.learning.symmetry_discovery.differential.kernel_approx import pointwise_kernel_approx\n",
    "\n",
    "\n",
    "ps=replay_buffer_task_1[\"observations\"]\n",
    "ns=replay_buffer_task_1[\"rewards\"]\n",
    "\n",
    "print(\"Shape of ps: \", ps.shape, \" (should be (N_steps, |S|))\")\n",
    "print(\"Shape of ns: \", ns.shape, \" (should be (N_steps))\")\n",
    "\n",
    "if LEARN_KERNEL_BASES:\n",
    "    kernel_samples=pointwise_kernel_approx(p=ps, n=ns, kernel_dim=KERNEL_DIM, epsilon_ball=EPSILON_BALL, epsilon_level_set=EPSILON_LEVEL_SET)\n",
    "    with open(kernel_bases_name, 'wb') as f:\n",
    "        pickle.dump(kernel_samples, f)\n",
    "else:\n",
    "    with open(kernel_bases_name, 'rb') as f:\n",
    "        kernel_samples = pickle.load(f)  "
   ]
  },
  {
   "cell_type": "markdown",
   "metadata": {},
   "source": [
    "## Learn Grassman Subspace"
   ]
  },
  {
   "cell_type": "code",
   "execution_count": 22,
   "metadata": {},
   "outputs": [],
   "source": [
    "import torch\n",
    "import torch.nn.functional as F\n",
    "\n",
    "def kernel_weights(p_query, ps, bandwidth):\n",
    "    dists = torch.norm(ps - p_query, dim=1)\n",
    "    weights = torch.exp(-dists**2 / (2 * bandwidth**2))\n",
    "    return weights / weights.sum()\n",
    "\n",
    "def log_map_grassmann(V_ref, V):\n",
    "    # V_ref, V: both (d, k), orthonormal bases as column vectors\n",
    "    M = V_ref.T @ V  # (k, k)\n",
    "    U, S, Vt = torch.linalg.svd(M)\n",
    "    S = torch.clamp(S, -1.0 + 1e-6, 1.0 - 1e-6)\n",
    "    Theta = torch.arccos(S)\n",
    "    sin_Theta = torch.sin(Theta)\n",
    "    sin_Theta[sin_Theta == 0] = 1e-6\n",
    "    A = (V - V_ref @ M) @ torch.diag(Theta / sin_Theta)\n",
    "    return A  # (d, k) in tangent space at V_ref\n",
    "\n",
    "def exp_map_grassmann(V_ref, A):\n",
    "    U, S, Vt = torch.linalg.svd(A, full_matrices=False)\n",
    "    Theta = S\n",
    "    sin_Theta = torch.sin(Theta)\n",
    "    cos_Theta = torch.cos(Theta)\n",
    "    term1 = V_ref @ (Vt.T @ torch.diag(cos_Theta) @ Vt)\n",
    "    term2 = U @ torch.diag(sin_Theta) @ Vt\n",
    "    V_new = term1 + term2\n",
    "    return torch.linalg.qr(V_new, mode='reduced').Q  # (d, k)"
   ]
  },
  {
   "cell_type": "code",
   "execution_count": 23,
   "metadata": {},
   "outputs": [],
   "source": [
    "def smooth_subspace(p_query, ps, kernel_samples, bandwidth, n_neighbors=20):\n",
    "    \"\"\"\n",
    "    p_query: Tensor of shape (d,)\n",
    "    ps: Tensor of shape (N, d)\n",
    "    kernel_samples: dict {i: V_i}, each V_i of shape (d, k)\n",
    "    bandwidth: float\n",
    "    n_neighbors: number of closest samples to use\n",
    "    Returns: (d, k) smoothed orthonormal basis\n",
    "    \"\"\"\n",
    "    d = ps.shape[1]\n",
    "    all_indices = torch.tensor(list(kernel_samples.keys()))\n",
    "    ps_subset = ps[all_indices]  # (N, d)\n",
    "\n",
    "    # Find n_neighbors closest points\n",
    "    dists = torch.norm(ps_subset - p_query, dim=1)\n",
    "    nn_dists, nn_indices = torch.topk(dists, k=n_neighbors, largest=False)\n",
    "    selected_indices = all_indices[nn_indices]\n",
    "\n",
    "    # Kernel weights\n",
    "    weights = torch.exp(-nn_dists**2 / (2 * bandwidth**2))\n",
    "    weights = weights / weights.sum()\n",
    "\n",
    "    # Gather and orthonormalize bases\n",
    "    V_bases = [\n",
    "        torch.linalg.qr(kernel_samples[i], mode='reduced').Q  # (d, k)\n",
    "        for i in selected_indices.tolist()\n",
    "    ]\n",
    "\n",
    "    # Use the nearest basis as reference\n",
    "    V_ref = V_bases[0]  # (d, k)\n",
    "\n",
    "    # Log maps and weighted tangent sum\n",
    "    tangent_sum = torch.zeros_like(V_ref)\n",
    "    for w, V_i in zip(weights, V_bases):\n",
    "        W = log_map_grassmann(V_ref, V_i)  # (d, k)\n",
    "        tangent_sum += w * W\n",
    "\n",
    "    # Project back via exp map\n",
    "    V_smooth = exp_map_grassmann(V_ref, tangent_sum)  # (d, k)\n",
    "    return V_smooth\n",
    "\n",
    "\n",
    "p_query = torch.tensor([0.7, 0.2])  # Example query point in the same space as ps\n",
    "\n",
    "V_smooth = smooth_subspace(p_query, ps, kernel_samples, bandwidth=0.5, n_neighbors=20)"
   ]
  },
  {
   "cell_type": "code",
   "execution_count": 24,
   "metadata": {},
   "outputs": [
    {
     "data": {
      "text/plain": [
       "tensor([[-0.9415],\n",
       "        [ 0.3369]])"
      ]
     },
     "execution_count": 24,
     "metadata": {},
     "output_type": "execute_result"
    }
   ],
   "source": [
    "V_smooth"
   ]
  },
  {
   "cell_type": "code",
   "execution_count": 31,
   "metadata": {},
   "outputs": [
    {
     "data": {
      "image/png": "[encoded data removed]",
      "text/plain": [
       "<Figure size 800x800 with 1 Axes>"
      ]
     },
     "metadata": {},
     "output_type": "display_data"
    }
   ],
   "source": [
    "import numpy as np\n",
    "\n",
    "import matplotlib.pyplot as plt\n",
    "\n",
    "# Sample 50 points uniformly in the 2D plane\n",
    "num_points = 50\n",
    "x = np.random.uniform(-1, 1, num_points)\n",
    "y = np.random.uniform(-1, 1, num_points)\n",
    "points = np.stack([x, y], axis=1)\n",
    "\n",
    "# Feed points into smooth_subspace and collect vectors\n",
    "vectors = []\n",
    "for point in points:\n",
    "    p_query = torch.tensor(point, dtype=torch.float32)\n",
    "    V_smooth = smooth_subspace(p_query, ps, kernel_samples, bandwidth=0.5, n_neighbors=20)\n",
    "    vectors.append(V_smooth.numpy())  # Extract the first row of the smoothed subspace\n",
    "\n",
    "vectors = np.array(vectors)\n",
    "# Add circles around the specified goal point\n",
    "\n",
    "# Plot points and vectors using quiver\n",
    "plt.figure(figsize=(8, 8))\n",
    "plt.quiver(points[:, 0], points[:, 1], vectors[:, 0], vectors[:, 1], angles='xy', scale_units='xy', scale=5, color='blue')\n",
    "\n",
    "\n",
    "goal = np.array([-0.70506063, 0.70914702])\n",
    "circle_radii = [0.5, 1, 1.5]\n",
    "for radius in circle_radii:\n",
    "    circle = plt.Circle(goal, radius, color='red', fill=False, linestyle='--')\n",
    "    plt.gca().add_artist(circle)\n",
    "\n",
    "plt.xlim(-2, 2)\n",
    "plt.ylim(-2, 2)\n",
    "plt.xlabel('x')\n",
    "plt.ylabel('y')\n",
    "plt.title('Quiver Plot of Points and Vectors')\n",
    "plt.grid()\n",
    "plt.show()"
   ]
  },
  {
   "cell_type": "code",
   "execution_count": 8,
   "metadata": {},
   "outputs": [
    {
     "name": "stderr",
     "output_type": "stream",
     "text": [
      "/Users/paulnitschke/Desktop/projects/geo_meta_rl/src/learning/symmetry_discovery/differential/diff_generator.py:195: UserWarning: TODO: only learns linear Kernel distributions.\n",
      "  warnings.warn(\"TODO: only learns linear Kernel distributions.\")\n",
      "/Users/paulnitschke/Desktop/projects/geo_meta_rl/src/learning/symmetry_discovery/differential/diff_generator.py:196: UserWarning: TODO: Implement early stopping in Kernel learning.\n",
      "  warnings.warn(\"TODO: Implement early stopping in Kernel learning.\")\n",
      "/Users/paulnitschke/Desktop/projects/geo_meta_rl/src/learning/symmetry_discovery/differential/diff_generator.py:58: UserWarning: TODO: Differential Generator is not Normalized During Training\n",
      "  warnings.warn(\"TODO: Differential Generator is not Normalized During Training\")\n",
      "Loss: 2.0795e+02: 100%|██████████| 10000/10000 [00:21<00:00, 470.47it/s]\n"
     ]
    },
    {
     "data": {
      "text/plain": [
       "tensor([[[-1.0462, -0.0700],\n",
       "         [-0.6525,  0.9691]]], requires_grad=True)"
      ]
     },
     "execution_count": 8,
     "metadata": {},
     "output_type": "execute_result"
    }
   ],
   "source": [
    "import torch as th\n",
    "from src.learning.symmetry_discovery.differential.diff_generator import DiffGenerator\n",
    "\n",
    "g_0=th.randn(KERNEL_DIM, ps.shape[1], ps.shape[1], requires_grad=True)\n",
    "optimizer= th.optim.Adam([g_0], lr=5e-5)\n",
    "N_steps=10_000\n",
    "\n",
    "linear_kernel=DiffGenerator(g_0=g_0, p=ps, bases=kernel_samples, n_steps=N_steps, optimizer=optimizer, batch_size=256)\n",
    "linear_kernel.optimize()"
   ]
  },
  {
   "cell_type": "code",
   "execution_count": 5,
   "metadata": {},
   "outputs": [
    {
     "data": {
      "text/plain": [
       "tensor([[[ 0.0775,  0.2187],\n",
       "         [-0.5813, -0.4310]]], requires_grad=True)"
      ]
     },
     "execution_count": 5,
     "metadata": {},
     "output_type": "execute_result"
    }
   ],
   "source": [
    "linear_kernel.g"
   ]
  }
 ],
 "metadata": {
  "kernelspec": {
   "display_name": "env_geo_meta_rl",
   "language": "python",
   "name": "python3"
  },
  "language_info": {
   "codemirror_mode": {
    "name": "ipython",
    "version": 3
   },
   "file_extension": ".py",
   "mimetype": "text/x-python",
   "name": "python",
   "nbconvert_exporter": "python",
   "pygments_lexer": "ipython3",
   "version": "3.9.21"
  }
 },
 "nbformat": 4,
 "nbformat_minor": 2
}
