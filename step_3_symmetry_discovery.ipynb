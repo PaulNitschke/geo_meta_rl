{
 "cells": [
  {
   "cell_type": "markdown",
   "metadata": {},
   "source": [
    "## Load Data"
   ]
  },
  {
   "cell_type": "code",
   "execution_count": 6,
   "metadata": {},
   "outputs": [
    {
     "name": "stderr",
     "output_type": "stream",
     "text": [
      "/Users/paulnitschke/Desktop/projects/geo_meta_rl/src/utils.py:68: UserWarning: Replay buffer contains more samples than selected.\n",
      "  warnings.warn(\"Replay buffer contains more samples than selected.\")\n"
     ]
    },
    {
     "name": "stdout",
     "output_type": "stream",
     "text": [
      "Loaded next_observations from data/local/experiment/circle_rotation/sac_circle_rotation_task_0_replay_buffer.pkl with shape torch.Size([100000, 2])\n"
     ]
    },
    {
     "name": "stderr",
     "output_type": "stream",
     "text": [
      "INFO:root:Setup kernel frame evaluation.\n"
     ]
    },
    {
     "name": "stdout",
     "output_type": "stream",
     "text": [
      "Loaded next_observations from data/local/experiment/circle_rotation/sac_circle_rotation_task_1_replay_buffer.pkl with shape torch.Size([100000, 2])\n"
     ]
    },
    {
     "name": "stderr",
     "output_type": "stream",
     "text": [
      "INFO:root:Setup kernel frame evaluation.\n"
     ]
    },
    {
     "name": "stdout",
     "output_type": "stream",
     "text": [
      "Loaded next_observations from data/local/experiment/circle_rotation/sac_circle_rotation_task_2_replay_buffer.pkl with shape torch.Size([100000, 2])\n"
     ]
    },
    {
     "name": "stderr",
     "output_type": "stream",
     "text": [
      "INFO:root:Setup kernel frame evaluation.\n"
     ]
    },
    {
     "name": "stdout",
     "output_type": "stream",
     "text": [
      "Loaded next_observations from data/local/experiment/circle_rotation/sac_circle_rotation_task_3_replay_buffer.pkl with shape torch.Size([100000, 2])\n"
     ]
    },
    {
     "name": "stderr",
     "output_type": "stream",
     "text": [
      "INFO:root:Setup kernel frame evaluation.\n"
     ]
    }
   ],
   "source": [
    "import pickle\n",
    "import os\n",
    "\n",
    "from src.utils import load_replay_buffer\n",
    "from src.learning.symmetry.kernel_approx import KernelFrameEstimator\n",
    "\n",
    "FOLDER_NAME: str=\"data/local/experiment/circle_rotation\"\n",
    "TASK_NAMES=[\"sac_circle_rotation_task_0\", \"sac_circle_rotation_task_1\", \"sac_circle_rotation_task_2\", \"sac_circle_rotation_task_3\"]\n",
    "\n",
    "LOAD_WHAT:str=\"next_observations\"\n",
    "KERNEL_DIM=1\n",
    "N_SAMPLES=50_000\n",
    "\n",
    "\n",
    "def load_replay_buffer_and_kernel(task_name:str, load_what:str, kernel_dim: int, n_samples:int, folder_name):\n",
    "    \"\"\"Loads samples and kernel evaluator of a task.\"\"\"\n",
    "\n",
    "    assert load_what in [\"observations\", \"actions\", \"next_observations\"], \"Learn hereditary geometry for states, actions or next states.\"\n",
    "\n",
    "    buffer_name= os.path.join(folder_name, f\"{task_name}_replay_buffer.pkl\")\n",
    "    kernel_name= os.path.join(folder_name, f\"{task_name}_kernel_bases.pkl\")\n",
    "\n",
    "\n",
    "    buffer= load_replay_buffer(buffer_name, N_steps=n_samples)\n",
    "    ps=buffer[load_what]\n",
    "    print(f\"Loaded {load_what} from {buffer_name} with shape {ps.shape}\")\n",
    "\n",
    "    # Load kernel bases\n",
    "    frameestimator=KernelFrameEstimator(ps=ps, kernel_dim=kernel_dim)\n",
    "    with open(kernel_name, 'rb') as f:\n",
    "        kernel_samples = pickle.load(f)\n",
    "    frameestimator.set_frame(frame=kernel_samples)\n",
    "\n",
    "    return ps, frameestimator\n",
    "\n",
    "tasks_ps, tasks_frameestimators=[], []\n",
    "for task_name in TASK_NAMES:\n",
    "    ps, frameestimator = load_replay_buffer_and_kernel(task_name, LOAD_WHAT, KERNEL_DIM, N_SAMPLES, FOLDER_NAME)\n",
    "    tasks_ps.append(ps)\n",
    "    tasks_frameestimators.append(frameestimator)"
   ]
  },
  {
   "cell_type": "code",
   "execution_count": 12,
   "metadata": {},
   "outputs": [
    {
     "name": "stdout",
     "output_type": "stream",
     "text": [
      "The autoreload extension is already loaded. To reload it, use:\n",
      "  %reload_ext autoreload\n"
     ]
    },
    {
     "name": "stderr",
     "output_type": "stream",
     "text": [
      "Initializing to identity: 100%|██████████| 5000/5000 [00:09<00:00, 526.52it/s, total=1.2881e-11]\n",
      "Initializing to identity: 100%|██████████| 5000/5000 [00:09<00:00, 516.95it/s, total=2.6535e-10]\n",
      "Inferring left-action:   0%|          | 0/50000 [00:00<?, ?it/s]/Users/paulnitschke/Desktop/projects/geo_meta_rl/src/learning/symmetry_discovery/differential/hereditary_geometry_discovery.py:195: UserWarning: Using oracle generator. Only use for debugging.\n",
      "  warnings.warn(\"Using oracle generator. Only use for debugging.\")\n",
      "Symmetry Loss: 0.0 | Reconstruction Loss: 0.476: 100%|██████████| 50000/50000 [01:05<00:00, 764.79it/s] \n"
     ]
    }
   ],
   "source": [
    "%load_ext autoreload\n",
    "%autoreload 2\n",
    "\n",
    "import torch\n",
    "from src.learning.symmetry_discovery.hereditary_geometry_discovery import HereditaryGeometryDiscovery\n",
    "ORACLE_GENERATOR=torch.tensor([[0, -1], [1,0]], dtype=torch.float32, requires_grad=False).unsqueeze(0)\n",
    "train_goal_locations=[\n",
    "    {'goal': torch.tensor([-0.70506063,  0.70914702])},\n",
    " {'goal': torch.tensor([ 0.95243384, -0.30474544])},\n",
    " {'goal': torch.tensor([-0.11289421, -0.99360701])},\n",
    " {'goal': torch.tensor([-0.81394263, -0.58094525])}]\n",
    "\n",
    "class Affine2D(torch.nn.Module):\n",
    "    def __init__(self, input_dim, output_dim):\n",
    "        super().__init__()\n",
    "        self.linear = torch.nn.Linear(input_dim, output_dim, bias=True)\n",
    "\n",
    "    def forward(self, x):\n",
    "        return self.linear(x)\n",
    "\n",
    "SEED=42\n",
    "LEARN_LEFT_ACTIONS=False\n",
    "LEARN_GENERATOR=False\n",
    "\n",
    "ENCODER=Affine2D(input_dim=2, output_dim=2)\n",
    "DECODER=Affine2D(input_dim=2, output_dim=2)\n",
    "\n",
    "her_geo_dis=HereditaryGeometryDiscovery(tasks_ps=tasks_ps,\n",
    "                                        tasks_frameestimators=tasks_frameestimators, \n",
    "                                        kernel_dim=KERNEL_DIM, \n",
    "                                        batch_size=128, \n",
    "                                        seed=SEED, \n",
    "                                        bandwidth=0.5,\n",
    "                                        learn_encoder_decoder=True,\n",
    "                                        task_specifications=train_goal_locations,\n",
    "                                        learn_left_actions=LEARN_LEFT_ACTIONS,\n",
    "                                        learn_generator=LEARN_GENERATOR,\n",
    "                                        oracle_generator=ORACLE_GENERATOR,\n",
    "                                        encoder=ENCODER,\n",
    "                                        decoder=DECODER)\n",
    "her_geo_dis.optimize(n_steps=50_000)"
   ]
  },
  {
   "cell_type": "code",
   "execution_count": 13,
   "metadata": {},
   "outputs": [
    {
     "data": {
      "text/plain": [
       "<matplotlib.legend.Legend at 0x1cb542d00>"
      ]
     },
     "execution_count": 13,
     "metadata": {},
     "output_type": "execute_result"
    },
    {
     "data": {
      "image/png": "[encoded data removed]",
      "text/plain": [
       "<Figure size 640x480 with 1 Axes>"
      ]
     },
     "metadata": {},
     "output_type": "display_data"
    }
   ],
   "source": [
    "import matplotlib.pyplot as plt\n",
    "\n",
    "losses=her_geo_dis.losses\n",
    "plt.plot(losses['symmetry'], label='Symmetry Loss')\n",
    "plt.plot(losses['reconstruction'], label='Reconstruction Loss')\n",
    "plt.yscale(\"log\")\n",
    "plt.grid()\n",
    "plt.ylabel(\"Loss\")\n",
    "plt.xlabel(\"Training step\")\n",
    "plt.legend()"
   ]
  },
  {
   "cell_type": "markdown",
   "metadata": {},
   "source": [
    "## Compare Lassos"
   ]
  },
  {
   "cell_type": "code",
   "execution_count": null,
   "metadata": {},
   "outputs": [],
   "source": [
    "%load_ext autoreload\n",
    "%autoreload 2\n",
    "import numpy as np\n",
    "from src.learning.symmetry_discovery.hereditary_geometry_discovery import HereditaryGeometryDiscovery\n",
    "ORACLE_KERNEL=True\n",
    "\n",
    "lasso_strenghts=[0, 0.05, 0.1, 0.2, 0.4, 0.8, 1.6]\n",
    "N_RUNS=5\n",
    "Seeds= [39, 42, 43, 44, 45]\n",
    "N_TASKS=4\n",
    "N_steps=10_000\n",
    "losses_symmetry=np.zeros((len(lasso_strenghts), N_RUNS, N_steps))\n",
    "losses_reconstruction=np.zeros((len(lasso_strenghts), N_RUNS, N_steps))\n",
    "losses_symmetry_reg=np.zeros((len(lasso_strenghts), N_RUNS, N_steps))\n",
    "\n",
    "for idx_lasso, lasso_strength in enumerate(lasso_strenghts):\n",
    "    for idx_run, run in enumerate(range(N_RUNS)):\n",
    "        print(f\"Run {run+1}/{N_RUNS} for lasso strength {lasso_strength}\")\n",
    "\n",
    "        ENCODER=Affine2D(input_dim=2, output_dim=2)\n",
    "        DECODER=Affine2D(input_dim=2, output_dim=2)\n",
    "\n",
    "        her_geo_dis=HereditaryGeometryDiscovery(tasks_ps=tasks_ps,\n",
    "                                                tasks_frameestimators=tasks_frameestimators, \n",
    "                                                kernel_dim=KERNEL_DIM, \n",
    "                                                batch_size=128, \n",
    "                                                seed=Seeds[idx_run], \n",
    "                                                bandwidth=0.5,\n",
    "                                                learn_encoder_decoder=True,\n",
    "                                                task_specifications=train_goal_locations,\n",
    "                                                learn_left_actions=LEARN_LEFT_ACTIONS,\n",
    "                                                learn_generator=LEARN_GENERATOR,\n",
    "                                                oracle_generator=ORACLE_GENERATOR,\n",
    "                                                encoder=ENCODER,\n",
    "                                                decoder=DECODER)\n",
    "        her_geo_dis.optimize(n_steps=N_steps)\n",
    "        losses=her_geo_dis.losses\n",
    "        del her_geo_dis\n",
    "\n",
    "        losses_symmetry[idx_lasso, run] = losses[\"symmetry\"]\n",
    "        losses_reconstruction[idx_lasso, run] = losses[\"reconstruction\"]\n",
    "        losses_symmetry_reg[idx_lasso, run] = losses[\"symmetry_reg\"]"
   ]
  }
 ],
 "metadata": {
  "kernelspec": {
   "display_name": "env_geo_meta_rl",
   "language": "python",
   "name": "python3"
  },
  "language_info": {
   "codemirror_mode": {
    "name": "ipython",
    "version": 3
   },
   "file_extension": ".py",
   "mimetype": "text/x-python",
   "name": "python",
   "nbconvert_exporter": "python",
   "pygments_lexer": "ipython3",
   "version": "3.9.21"
  }
 },
 "nbformat": 4,
 "nbformat_minor": 2
}
