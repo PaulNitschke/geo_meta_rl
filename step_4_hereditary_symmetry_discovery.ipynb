{
 "cells": [
  {
   "cell_type": "markdown",
   "metadata": {},
   "source": [
    "## Load Data"
   ]
  },
  {
   "cell_type": "code",
   "execution_count": 1,
   "metadata": {},
   "outputs": [
    {
     "name": "stderr",
     "output_type": "stream",
     "text": [
      "2025-07-16 10:10:14.513489: I tensorflow/core/platform/cpu_feature_guard.cc:210] This TensorFlow binary is optimized to use available CPU instructions in performance-critical operations.\n",
      "To enable the following instructions: SSE4.1 SSE4.2, in other operations, rebuild TensorFlow with the appropriate compiler flags.\n",
      "/Users/paulnitschke/Desktop/projects/geo_meta_rl/src/utils.py:100: UserWarning: Replay buffer contains more samples than selected.\n",
      "  warnings.warn(\"Replay buffer contains more samples than selected.\")\n"
     ]
    },
    {
     "name": "stdout",
     "output_type": "stream",
     "text": [
      "Loaded next_observations from data/local/experiment/circle_rotation/sac_circle_rotation_task_0_replay_buffer.pkl with shape torch.Size([100000, 2])\n"
     ]
    },
    {
     "name": "stderr",
     "output_type": "stream",
     "text": [
      "INFO:root:Setup kernel frame evaluation.\n"
     ]
    },
    {
     "name": "stdout",
     "output_type": "stream",
     "text": [
      "Loaded next_observations from data/local/experiment/circle_rotation/sac_circle_rotation_task_1_replay_buffer.pkl with shape torch.Size([100000, 2])\n"
     ]
    },
    {
     "name": "stderr",
     "output_type": "stream",
     "text": [
      "INFO:root:Setup kernel frame evaluation.\n"
     ]
    },
    {
     "name": "stdout",
     "output_type": "stream",
     "text": [
      "Loaded next_observations from data/local/experiment/circle_rotation/sac_circle_rotation_task_2_replay_buffer.pkl with shape torch.Size([100000, 2])\n"
     ]
    },
    {
     "name": "stderr",
     "output_type": "stream",
     "text": [
      "INFO:root:Setup kernel frame evaluation.\n"
     ]
    },
    {
     "name": "stdout",
     "output_type": "stream",
     "text": [
      "Loaded next_observations from data/local/experiment/circle_rotation/sac_circle_rotation_task_3_replay_buffer.pkl with shape torch.Size([100000, 2])\n"
     ]
    },
    {
     "name": "stderr",
     "output_type": "stream",
     "text": [
      "INFO:root:Setup kernel frame evaluation.\n"
     ]
    }
   ],
   "source": [
    "from src.utils import load_replay_buffer_and_kernel\n",
    "\n",
    "FOLDER_NAME: str=\"data/local/experiment/circle_rotation\"\n",
    "TASK_NAMES=[\"sac_circle_rotation_task_0\", \"sac_circle_rotation_task_1\", \"sac_circle_rotation_task_2\", \"sac_circle_rotation_task_3\"]\n",
    "\n",
    "LOAD_WHAT:str=\"next_observations\"\n",
    "KERNEL_DIM=1\n",
    "N_SAMPLES=50_000\n",
    "\n",
    "tasks_ps, tasks_frameestimators=[], []\n",
    "for task_name in TASK_NAMES:\n",
    "    ps, frameestimator = load_replay_buffer_and_kernel(task_name, LOAD_WHAT, KERNEL_DIM, N_SAMPLES, FOLDER_NAME)\n",
    "    tasks_ps.append(ps)\n",
    "    tasks_frameestimators.append(frameestimator)"
   ]
  },
  {
   "cell_type": "code",
   "execution_count": 8,
   "metadata": {},
   "outputs": [
    {
     "name": "stdout",
     "output_type": "stream",
     "text": [
      "The autoreload extension is already loaded. To reload it, use:\n",
      "  %reload_ext autoreload\n"
     ]
    },
    {
     "data": {
      "text/html": [
       "creating run (0.0s)"
      ],
      "text/plain": [
       "<IPython.core.display.HTML object>"
      ]
     },
     "metadata": {},
     "output_type": "display_data"
    },
    {
     "data": {
      "text/html": [
       "Tracking run with wandb version 0.21.0"
      ],
      "text/plain": [
       "<IPython.core.display.HTML object>"
      ]
     },
     "metadata": {},
     "output_type": "display_data"
    },
    {
     "data": {
      "text/html": [
       "Run data is saved locally in <code>/Users/paulnitschke/Desktop/projects/geo_meta_rl/wandb/run-20250716_110655-pl587bty</code>"
      ],
      "text/plain": [
       "<IPython.core.display.HTML object>"
      ]
     },
     "metadata": {},
     "output_type": "display_data"
    },
    {
     "data": {
      "text/html": [
       "Syncing run <strong><a href='https://wandb.ai/pnitschke/circle_hereditary_geometry_discovery/runs/pl587bty' target=\"_blank\">lr_chart:0.00015_update_n:150</a></strong> to <a href='https://wandb.ai/pnitschke/circle_hereditary_geometry_discovery' target=\"_blank\">Weights & Biases</a> (<a href='https://wandb.me/developer-guide' target=\"_blank\">docs</a>)<br>"
      ],
      "text/plain": [
       "<IPython.core.display.HTML object>"
      ]
     },
     "metadata": {},
     "output_type": "display_data"
    },
    {
     "data": {
      "text/html": [
       " View project at <a href='https://wandb.ai/pnitschke/circle_hereditary_geometry_discovery' target=\"_blank\">https://wandb.ai/pnitschke/circle_hereditary_geometry_discovery</a>"
      ],
      "text/plain": [
       "<IPython.core.display.HTML object>"
      ]
     },
     "metadata": {},
     "output_type": "display_data"
    },
    {
     "data": {
      "text/html": [
       " View run at <a href='https://wandb.ai/pnitschke/circle_hereditary_geometry_discovery/runs/pl587bty' target=\"_blank\">https://wandb.ai/pnitschke/circle_hereditary_geometry_discovery/runs/pl587bty</a>"
      ],
      "text/plain": [
       "<IPython.core.display.HTML object>"
      ]
     },
     "metadata": {},
     "output_type": "display_data"
    },
    {
     "name": "stderr",
     "output_type": "stream",
     "text": [
      "INFO:root:Fitting left-actions: True\n",
      "INFO:root:Fitting generator: True\n",
      "INFO:root:Fitting encoder and decoder: True\n",
      "INFO:root:Fitting log-linear regressors to initialize left actions.\n",
      "INFO:root:Finished fitting log-linear regressors to initialize left actions.\n",
      "Initializing to identity: 100%|██████████| 5000/5000 [00:15<00:00, 327.57it/s, total=1.1430e-11]\n",
      "Initializing to identity: 100%|██████████| 5000/5000 [00:12<00:00, 391.37it/s, total=1.1261e-11]\n",
      "Hereditary Symmetry Discovery:   0%|          | 0/150000 [00:00<?, ?it/s]/Users/paulnitschke/Desktop/projects/geo_meta_rl/src/learning/symmetry/hereditary_geometry_discovery.py:175: UserWarning: To copy construct from a tensor, it is recommended to use sourceTensor.clone().detach() or sourceTensor.clone().detach().requires_grad_(True), rather than torch.tensor(sourceTensor).\n",
      "  goals = torch.stack([torch.tensor(self.task_specifications[i]['goal']) for i in self.task_idxs])\n",
      "Left-Action Loss: 0.003 | Task Losses: [0.    0.007 0.002] | Task Losses (reg): 1.0470000505447388 | Generator Span Loss: 0.005 | Symmetry Loss: 0.005 | Reconstruction Loss: 0.0:   1%|          | 927/150000 [42:48<104:45:32,  2.53s/it]INFO:root:Reached maximum number of steps, stopping optimization.\n",
      "Left-Action Loss: 0.003 | Task Losses: [0.    0.007 0.002] | Task Losses (reg): 1.0470000505447388 | Generator Span Loss: 0.005 | Symmetry Loss: 0.005 | Reconstruction Loss: 0.0:   1%|          | 927/150000 [42:48<114:44:49,  2.77s/it]\n"
     ]
    },
    {
     "data": {
      "text/html": [],
      "text/plain": [
       "<IPython.core.display.HTML object>"
      ]
     },
     "metadata": {},
     "output_type": "display_data"
    },
    {
     "data": {
      "text/html": [
       "<br>    <style><br>        .wandb-row {<br>            display: flex;<br>            flex-direction: row;<br>            flex-wrap: wrap;<br>            justify-content: flex-start;<br>            width: 100%;<br>        }<br>        .wandb-col {<br>            display: flex;<br>            flex-direction: column;<br>            flex-basis: 100%;<br>            flex: 1;<br>            padding: 10px;<br>        }<br>    </style><br><div class=\"wandb-row\"><div class=\"wandb-col\"><h3>Run history:</h3><br/><table class=\"wandb\"><tr><td>init/identity_decoder</td><td>█▆▅▅▄▃▃▂▂▂▂▂▁▁▁▁▁▁▁▁▁▁▁▁▁▁▁▁▁▁▁▁▁▁▁▁▁▁▁▁</td></tr><tr><td>init/identity_encoder</td><td>█▆▅▄▃▂▂▂▁▁▁▁▁▁▁▁▁▁▁▁▁▁▁▁▁▁▁▁▁▁▁▁▁▁▁▁▁▁▁▁</td></tr><tr><td>init/log_left_actions</td><td>▄▄▂▂▁▁▁▁▁▁▁▁▁█▂▁▁▁▁▁▁▁▁▁▁▁▁▁▅▁▁▁▁▁▁▁▁▁▁▁</td></tr><tr><td>train/generator</td><td>█▁▁▁▁▁▁▁▁▁▁▁▁▁▁▁▁▁▁▁▁▁▁▁▁▁▁▁▁▁▁▁▁▁▁▁▁▁▁▁</td></tr><tr><td>train/left_actions/mean</td><td>█▁▁▁▁▁▁▁▁▁▁▁▁▁▁▁▁▁▁▁▁▁▁▁▁▁▁▁▁▁▁▁▁▁▁▁▁▁▁▁</td></tr><tr><td>train/regularizers/left_actions/lasso</td><td>█▁▁▁▁▁▁▁▁▁▁▁▁▁▁▁▁▁▁▁▁▁▁▁▁▁▁▁▁▁▁▁▁▁▁▁▁▁▁▁</td></tr><tr><td>train/regularizers/symmetry</td><td>▁▁▁▁▂▂▃▃▃▃▃▃▃▃▄▄▄▄▄▄▅▅▅▆▆▆▆▆▆▆▆▆▇▇▇▇▇▇▇█</td></tr><tr><td>train/symmetry/reconstruction</td><td>▁▁█▄▃▂▂▂▃▄▆▃▃▅▃▃▃▃▄▄▃▂▂▃▂▃▄▄▂▂▂▃▂▂▃▃▃▂▂▃</td></tr><tr><td>train/symmetry/span</td><td>█▅▃▃▃▂▂▂▂▂▁▁▁▁▁▁▁▁▁▁▁▁▁▁▁▁▁▁▁▁▁▁▁▁▁▁▁▁▁▁</td></tr></table><br/></div><div class=\"wandb-col\"><h3>Run summary:</h3><br/><table class=\"wandb\"><tr><td>init/identity_decoder</td><td>0.0</td></tr><tr><td>init/identity_encoder</td><td>0.0</td></tr><tr><td>init/log_left_actions</td><td>0.09191</td></tr><tr><td>train/generator</td><td>0.00382</td></tr><tr><td>train/left_actions/mean</td><td>0.00324</td></tr><tr><td>train/regularizers/left_actions/lasso</td><td>1.04677</td></tr><tr><td>train/regularizers/symmetry</td><td>0.02006</td></tr><tr><td>train/symmetry/reconstruction</td><td>5e-05</td></tr><tr><td>train/symmetry/span</td><td>0.00545</td></tr></table><br/></div></div>"
      ],
      "text/plain": [
       "<IPython.core.display.HTML object>"
      ]
     },
     "metadata": {},
     "output_type": "display_data"
    },
    {
     "data": {
      "text/html": [
       " View run <strong style=\"color:#cdcd00\">lr_chart:0.00015_update_n:150</strong> at: <a href='https://wandb.ai/pnitschke/circle_hereditary_geometry_discovery/runs/pl587bty' target=\"_blank\">https://wandb.ai/pnitschke/circle_hereditary_geometry_discovery/runs/pl587bty</a><br> View project at: <a href='https://wandb.ai/pnitschke/circle_hereditary_geometry_discovery' target=\"_blank\">https://wandb.ai/pnitschke/circle_hereditary_geometry_discovery</a><br>Synced 5 W&B file(s), 0 media file(s), 0 artifact file(s) and 0 other file(s)"
      ],
      "text/plain": [
       "<IPython.core.display.HTML object>"
      ]
     },
     "metadata": {},
     "output_type": "display_data"
    },
    {
     "data": {
      "text/html": [
       "Find logs at: <code>./wandb/run-20250716_110655-pl587bty/logs</code>"
      ],
      "text/plain": [
       "<IPython.core.display.HTML object>"
      ]
     },
     "metadata": {},
     "output_type": "display_data"
    }
   ],
   "source": [
    "import wandb\n",
    "%load_ext autoreload\n",
    "%autoreload 2\n",
    "\n",
    "import torch\n",
    "from src.learning.symmetry.hereditary_geometry_discovery import HereditaryGeometryDiscovery\n",
    "from src.utils import Affine2D\n",
    "\n",
    "\n",
    "train_goal_locations=[\n",
    "    {'goal': torch.tensor([-0.70506063,  0.70914702])},\n",
    " {'goal': torch.tensor([ 0.95243384, -0.30474544])},\n",
    " {'goal': torch.tensor([-0.11289421, -0.99360701])},\n",
    " {'goal': torch.tensor([-0.81394263, -0.58094525])}]\n",
    "\n",
    "SEED=42\n",
    "LEARN_LEFT_ACTIONS=True\n",
    "LEARN_GENERATOR=True\n",
    "LEARN_ENCODER_DECODER=True\n",
    "USE_ORACLE_ROTATION_KERNEL=True\n",
    "N_STEPS=150_000\n",
    "BATCH_SIZE=128\n",
    "BANDWIDTH=None\n",
    "LEARNING_RATE_LEFT_ACTIONS=0.00035\n",
    "LEARNING_RATE_GENERATOR=0.00035\n",
    "lr_chart=0.00015\n",
    "update_chart_every_n_steps=150\n",
    "N_STEPS_PRETRAIN_GEOMETRY=10_000\n",
    "\n",
    "ENCODER=Affine2D(input_dim=2, output_dim=2)\n",
    "DECODER=Affine2D(input_dim=2, output_dim=2)\n",
    "ORACLE_GENERATOR=torch.tensor([[0, -1], [1,0]], dtype=torch.float32, requires_grad=False).unsqueeze(0) if not LEARN_GENERATOR else None\n",
    "\n",
    "WAND_PROJECT_NAME=\"circle_hereditary_geometry_discovery\"\n",
    "\n",
    "wandb.init(project=WAND_PROJECT_NAME, name=f\"lr_chart:{lr_chart}_update_n:{update_chart_every_n_steps}\",config={\n",
    "    \"n_steps\": N_STEPS,\n",
    "    \"batch_size\": BATCH_SIZE,\n",
    "    \"kernel_dim\": KERNEL_DIM,\n",
    "    \"bandwidth\": BANDWIDTH,\n",
    "    \"learn_encoder_decoder\": LEARN_ENCODER_DECODER,\n",
    "    \"learn_left_actions\": LEARN_LEFT_ACTIONS,\n",
    "    \"learn_generator\": LEARN_GENERATOR,\n",
    "    \"seed\": SEED,\n",
    "    \"use_oracle_rotation_kernel\": USE_ORACLE_ROTATION_KERNEL,\n",
    "    \"learning_rate_left_actions\": LEARNING_RATE_LEFT_ACTIONS,\n",
    "    \"learning_rate_generator\": LEARNING_RATE_GENERATOR,\n",
    "    \"learning_rate_encoder\": lr_chart,\n",
    "    \"learning_rate_decoder\": lr_chart,\n",
    "    \"update_chart_every_n_steps\": update_chart_every_n_steps,\n",
    "    \"n_steps_pretrain_geometry\": N_STEPS_PRETRAIN_GEOMETRY,\n",
    "}, reinit=True)\n",
    "\n",
    "her_geo_dis=HereditaryGeometryDiscovery(tasks_ps=tasks_ps,\n",
    "                                        tasks_frameestimators=tasks_frameestimators, \n",
    "                                        kernel_dim=KERNEL_DIM, \n",
    "                                        batch_size=BATCH_SIZE, \n",
    "                                        seed=SEED, \n",
    "                                        bandwidth=BANDWIDTH,\n",
    "                                        log_wandb=True,\n",
    "                                        learn_encoder_decoder=LEARN_ENCODER_DECODER,\n",
    "                                        use_oracle_rotation_kernel=USE_ORACLE_ROTATION_KERNEL,\n",
    "                                        task_specifications=train_goal_locations,\n",
    "                                        learn_left_actions=LEARN_LEFT_ACTIONS,\n",
    "                                        learn_generator=LEARN_GENERATOR,\n",
    "                                        oracle_generator=ORACLE_GENERATOR,\n",
    "                                        n_steps_pretrain_geometry=N_STEPS_PRETRAIN_GEOMETRY,\n",
    "                                        update_chart_every_n_steps=update_chart_every_n_steps,\n",
    "                                        learning_rate_left_actions=LEARNING_RATE_LEFT_ACTIONS,\n",
    "                                        learning_rate_generator=LEARNING_RATE_GENERATOR,\n",
    "                                        learning_rate_encoder=lr_chart,\n",
    "                                        learning_rate_decoder=lr_chart,\n",
    "                                        encoder=ENCODER,\n",
    "                                        decoder=DECODER)\n",
    "her_geo_dis.optimize(n_steps=N_STEPS)\n",
    "wandb.finish()"
   ]
  },
  {
   "cell_type": "code",
   "execution_count": null,
   "metadata": {},
   "outputs": [],
   "source": [
    "her_geo_dis.save(\"dump/\")"
   ]
  },
  {
   "cell_type": "code",
   "execution_count": 4,
   "metadata": {},
   "outputs": [
    {
     "data": {
      "text/plain": [
       "Parameter containing:\n",
       "tensor([[[-6.0437e-06, -5.4854e-02],\n",
       "         [ 5.4203e-02,  3.0285e-05]]], requires_grad=True)"
      ]
     },
     "execution_count": 4,
     "metadata": {},
     "output_type": "execute_result"
    }
   ],
   "source": [
    "her_geo_dis.generator"
   ]
  },
  {
   "cell_type": "code",
   "execution_count": 5,
   "metadata": {},
   "outputs": [
    {
     "data": {
      "text/plain": [
       "tensor([[[-0.8919,  0.4562],\n",
       "         [-0.4475, -0.8919]],\n",
       "\n",
       "        [[-0.6130, -0.7982],\n",
       "         [ 0.7808, -0.6126]],\n",
       "\n",
       "        [[ 0.1772, -0.9955],\n",
       "         [ 0.9743,  0.1775]]], grad_fn=<LinalgMatrixExpBackward0>)"
      ]
     },
     "execution_count": 5,
     "metadata": {},
     "output_type": "execute_result"
    }
   ],
   "source": [
    "her_geo_dis.lgs"
   ]
  },
  {
   "cell_type": "code",
   "execution_count": 6,
   "metadata": {},
   "outputs": [
    {
     "name": "stdout",
     "output_type": "stream",
     "text": [
      "tensor([[1.0099e+00, 2.3543e-04],\n",
      "        [1.7655e-04, 9.8977e-01]])\n",
      "tensor([-0.0041, -0.0023])\n"
     ]
    }
   ],
   "source": [
    "for param in her_geo_dis.encoder.parameters():\n",
    "    print(param.data)"
   ]
  },
  {
   "cell_type": "code",
   "execution_count": 7,
   "metadata": {},
   "outputs": [
    {
     "name": "stdout",
     "output_type": "stream",
     "text": [
      "tensor([[ 9.8997e-01, -5.9011e-04],\n",
      "        [-4.0776e-04,  1.0104e+00]])\n",
      "tensor([0.0041, 0.0022])\n"
     ]
    }
   ],
   "source": [
    "for param in her_geo_dis.decoder.parameters():\n",
    "    print(param.data)"
   ]
  }
 ],
 "metadata": {
  "kernelspec": {
   "display_name": "env_geo_meta_rl",
   "language": "python",
   "name": "python3"
  },
  "language_info": {
   "codemirror_mode": {
    "name": "ipython",
    "version": 3
   },
   "file_extension": ".py",
   "mimetype": "text/x-python",
   "name": "python",
   "nbconvert_exporter": "python",
   "pygments_lexer": "ipython3",
   "version": "3.9.21"
  }
 },
 "nbformat": 4,
 "nbformat_minor": 2
}
