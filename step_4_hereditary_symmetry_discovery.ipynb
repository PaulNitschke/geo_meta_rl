{
 "cells": [
  {
   "cell_type": "markdown",
   "metadata": {},
   "source": [
    "## Load Data"
   ]
  },
  {
   "cell_type": "code",
   "execution_count": 1,
   "metadata": {},
   "outputs": [
    {
     "name": "stderr",
     "output_type": "stream",
     "text": [
      "2025-07-13 17:06:51.538624: I tensorflow/core/platform/cpu_feature_guard.cc:210] This TensorFlow binary is optimized to use available CPU instructions in performance-critical operations.\n",
      "To enable the following instructions: SSE4.1 SSE4.2, in other operations, rebuild TensorFlow with the appropriate compiler flags.\n",
      "/Users/paulnitschke/Desktop/projects/geo_meta_rl/src/utils.py:100: UserWarning: Replay buffer contains more samples than selected.\n",
      "  warnings.warn(\"Replay buffer contains more samples than selected.\")\n"
     ]
    },
    {
     "name": "stdout",
     "output_type": "stream",
     "text": [
      "Loaded next_observations from data/local/experiment/circle_rotation/sac_circle_rotation_task_0_replay_buffer.pkl with shape torch.Size([100000, 2])\n"
     ]
    },
    {
     "name": "stderr",
     "output_type": "stream",
     "text": [
      "INFO:root:Setup kernel frame evaluation.\n"
     ]
    },
    {
     "name": "stdout",
     "output_type": "stream",
     "text": [
      "Loaded next_observations from data/local/experiment/circle_rotation/sac_circle_rotation_task_1_replay_buffer.pkl with shape torch.Size([100000, 2])\n"
     ]
    },
    {
     "name": "stderr",
     "output_type": "stream",
     "text": [
      "INFO:root:Setup kernel frame evaluation.\n"
     ]
    },
    {
     "name": "stdout",
     "output_type": "stream",
     "text": [
      "Loaded next_observations from data/local/experiment/circle_rotation/sac_circle_rotation_task_2_replay_buffer.pkl with shape torch.Size([100000, 2])\n"
     ]
    },
    {
     "name": "stderr",
     "output_type": "stream",
     "text": [
      "INFO:root:Setup kernel frame evaluation.\n"
     ]
    },
    {
     "name": "stdout",
     "output_type": "stream",
     "text": [
      "Loaded next_observations from data/local/experiment/circle_rotation/sac_circle_rotation_task_3_replay_buffer.pkl with shape torch.Size([100000, 2])\n"
     ]
    },
    {
     "name": "stderr",
     "output_type": "stream",
     "text": [
      "INFO:root:Setup kernel frame evaluation.\n"
     ]
    }
   ],
   "source": [
    "from src.utils import load_replay_buffer_and_kernel\n",
    "\n",
    "FOLDER_NAME: str=\"data/local/experiment/circle_rotation\"\n",
    "TASK_NAMES=[\"sac_circle_rotation_task_0\", \"sac_circle_rotation_task_1\", \"sac_circle_rotation_task_2\", \"sac_circle_rotation_task_3\"]\n",
    "\n",
    "LOAD_WHAT:str=\"next_observations\"\n",
    "KERNEL_DIM=1\n",
    "N_SAMPLES=50_000\n",
    "\n",
    "tasks_ps, tasks_frameestimators=[], []\n",
    "for task_name in TASK_NAMES:\n",
    "    ps, frameestimator = load_replay_buffer_and_kernel(task_name, LOAD_WHAT, KERNEL_DIM, N_SAMPLES, FOLDER_NAME)\n",
    "    tasks_ps.append(ps)\n",
    "    tasks_frameestimators.append(frameestimator)"
   ]
  },
  {
   "cell_type": "code",
   "execution_count": 31,
   "metadata": {},
   "outputs": [
    {
     "name": "stdout",
     "output_type": "stream",
     "text": [
      "The autoreload extension is already loaded. To reload it, use:\n",
      "  %reload_ext autoreload\n"
     ]
    },
    {
     "data": {
      "text/html": [
       "Finishing previous runs because reinit is set to True."
      ],
      "text/plain": [
       "<IPython.core.display.HTML object>"
      ]
     },
     "metadata": {},
     "output_type": "display_data"
    },
    {
     "data": {
      "text/html": [],
      "text/plain": [
       "<IPython.core.display.HTML object>"
      ]
     },
     "metadata": {},
     "output_type": "display_data"
    },
    {
     "data": {
      "text/html": [
       "<br>    <style><br>        .wandb-row {<br>            display: flex;<br>            flex-direction: row;<br>            flex-wrap: wrap;<br>            justify-content: flex-start;<br>            width: 100%;<br>        }<br>        .wandb-col {<br>            display: flex;<br>            flex-direction: column;<br>            flex-basis: 100%;<br>            flex: 1;<br>            padding: 10px;<br>        }<br>    </style><br><div class=\"wandb-row\"><div class=\"wandb-col\"><h3>Run history:</h3><br/><table class=\"wandb\"><tr><td>init/identity_decoder</td><td>█▅▃▂▁</td></tr><tr><td>init/identity_encoder</td><td>█▆▅▄▃▃▂▂▂▂▁▁▁▁▁▁▁▁▁▁▁▁▁▁▁▁▁▁▁▁▁▁▁▁▁▁▁▁▁▁</td></tr><tr><td>init/log_left_actions</td><td>▆▅▂▂▁▁▁▁▁▁▁▁█▄▂▁▁▁▁▁▁▁▁▁▁▁▁▁▁▁▁▁▁▁▁▁▁▁▁▁</td></tr></table><br/></div><div class=\"wandb-col\"><h3>Run summary:</h3><br/><table class=\"wandb\"><tr><td>init/identity_decoder</td><td>0.10527</td></tr><tr><td>init/identity_encoder</td><td>0.0</td></tr><tr><td>init/log_left_actions</td><td>0.09191</td></tr></table><br/></div></div>"
      ],
      "text/plain": [
       "<IPython.core.display.HTML object>"
      ]
     },
     "metadata": {},
     "output_type": "display_data"
    },
    {
     "data": {
      "text/html": [
       " View run <strong style=\"color:#cdcd00\">lyric-leaf-43</strong> at: <a href='https://wandb.ai/pnitschke/circle_hereditary_geometry_discovery/runs/gightnhk' target=\"_blank\">https://wandb.ai/pnitschke/circle_hereditary_geometry_discovery/runs/gightnhk</a><br> View project at: <a href='https://wandb.ai/pnitschke/circle_hereditary_geometry_discovery' target=\"_blank\">https://wandb.ai/pnitschke/circle_hereditary_geometry_discovery</a><br>Synced 5 W&B file(s), 0 media file(s), 0 artifact file(s) and 0 other file(s)"
      ],
      "text/plain": [
       "<IPython.core.display.HTML object>"
      ]
     },
     "metadata": {},
     "output_type": "display_data"
    },
    {
     "data": {
      "text/html": [
       "Find logs at: <code>./wandb/run-20250714_103824-gightnhk/logs</code>"
      ],
      "text/plain": [
       "<IPython.core.display.HTML object>"
      ]
     },
     "metadata": {},
     "output_type": "display_data"
    },
    {
     "data": {
      "text/html": [
       "Tracking run with wandb version 0.21.0"
      ],
      "text/plain": [
       "<IPython.core.display.HTML object>"
      ]
     },
     "metadata": {},
     "output_type": "display_data"
    },
    {
     "data": {
      "text/html": [
       "Run data is saved locally in <code>/Users/paulnitschke/Desktop/projects/geo_meta_rl/wandb/run-20250714_104218-7fsyteh2</code>"
      ],
      "text/plain": [
       "<IPython.core.display.HTML object>"
      ]
     },
     "metadata": {},
     "output_type": "display_data"
    },
    {
     "data": {
      "text/html": [
       "Syncing run <strong><a href='https://wandb.ai/pnitschke/circle_hereditary_geometry_discovery/runs/7fsyteh2' target=\"_blank\">classic-firefly-44</a></strong> to <a href='https://wandb.ai/pnitschke/circle_hereditary_geometry_discovery' target=\"_blank\">Weights & Biases</a> (<a href='https://wandb.me/developer-guide' target=\"_blank\">docs</a>)<br>"
      ],
      "text/plain": [
       "<IPython.core.display.HTML object>"
      ]
     },
     "metadata": {},
     "output_type": "display_data"
    },
    {
     "data": {
      "text/html": [
       " View project at <a href='https://wandb.ai/pnitschke/circle_hereditary_geometry_discovery' target=\"_blank\">https://wandb.ai/pnitschke/circle_hereditary_geometry_discovery</a>"
      ],
      "text/plain": [
       "<IPython.core.display.HTML object>"
      ]
     },
     "metadata": {},
     "output_type": "display_data"
    },
    {
     "data": {
      "text/html": [
       " View run at <a href='https://wandb.ai/pnitschke/circle_hereditary_geometry_discovery/runs/7fsyteh2' target=\"_blank\">https://wandb.ai/pnitschke/circle_hereditary_geometry_discovery/runs/7fsyteh2</a>"
      ],
      "text/plain": [
       "<IPython.core.display.HTML object>"
      ]
     },
     "metadata": {},
     "output_type": "display_data"
    },
    {
     "name": "stderr",
     "output_type": "stream",
     "text": [
      "INFO:root:Fitting left-actions: True\n",
      "INFO:root:Fitting generator: True\n",
      "INFO:root:Fitting encoder and decoder: True\n",
      "INFO:root:Fitting log-linear regressors to initialize left actions.\n"
     ]
    },
    {
     "name": "stdout",
     "output_type": "stream",
     "text": [
      "supposed to be logging...\n",
      "supposed to be logging...\n",
      "supposed to be logging...\n",
      "supposed to be logging...\n",
      "supposed to be logging...\n",
      "supposed to be logging...\n",
      "supposed to be logging...\n",
      "supposed to be logging...\n",
      "supposed to be logging...\n",
      "supposed to be logging...\n",
      "supposed to be logging...\n",
      "supposed to be logging...\n",
      "supposed to be logging...\n",
      "supposed to be logging...\n",
      "supposed to be logging...\n",
      "supposed to be logging...\n",
      "supposed to be logging...\n",
      "supposed to be logging...\n",
      "supposed to be logging...\n",
      "supposed to be logging...\n",
      "supposed to be logging...\n",
      "supposed to be logging...\n",
      "supposed to be logging...\n",
      "supposed to be logging...\n",
      "supposed to be logging...\n",
      "supposed to be logging...\n",
      "supposed to be logging...\n",
      "supposed to be logging...\n",
      "supposed to be logging...\n",
      "supposed to be logging...\n",
      "supposed to be logging...\n",
      "supposed to be logging...\n",
      "supposed to be logging...\n",
      "supposed to be logging...\n",
      "supposed to be logging...\n",
      "supposed to be logging...\n",
      "supposed to be logging...\n",
      "supposed to be logging...\n",
      "supposed to be logging...\n",
      "supposed to be logging...\n",
      "supposed to be logging...\n",
      "supposed to be logging...\n",
      "supposed to be logging...\n",
      "supposed to be logging...\n",
      "supposed to be logging...\n",
      "supposed to be logging...\n",
      "supposed to be logging...\n",
      "supposed to be logging...\n",
      "supposed to be logging...\n",
      "supposed to be logging...\n",
      "supposed to be logging...\n",
      "supposed to be logging...\n",
      "supposed to be logging...\n",
      "supposed to be logging...\n",
      "supposed to be logging...\n",
      "supposed to be logging...\n",
      "supposed to be logging...\n",
      "supposed to be logging...\n",
      "supposed to be logging...\n",
      "supposed to be logging...\n",
      "supposed to be logging...\n",
      "supposed to be logging...\n",
      "supposed to be logging...\n",
      "supposed to be logging...\n",
      "supposed to be logging...\n",
      "supposed to be logging...\n",
      "supposed to be logging...\n",
      "supposed to be logging...\n",
      "supposed to be logging...\n",
      "supposed to be logging...\n",
      "supposed to be logging...\n",
      "supposed to be logging...\n",
      "supposed to be logging...\n",
      "supposed to be logging...\n",
      "supposed to be logging...\n",
      "supposed to be logging...\n",
      "supposed to be logging...\n",
      "supposed to be logging...\n",
      "supposed to be logging...\n",
      "supposed to be logging...\n",
      "supposed to be logging...\n",
      "supposed to be logging...\n",
      "supposed to be logging...\n",
      "supposed to be logging...\n",
      "supposed to be logging...\n",
      "supposed to be logging...\n",
      "supposed to be logging...\n",
      "supposed to be logging...\n",
      "supposed to be logging...\n",
      "supposed to be logging...\n",
      "supposed to be logging...\n",
      "supposed to be logging...\n",
      "supposed to be logging...\n",
      "supposed to be logging...\n",
      "supposed to be logging...\n",
      "supposed to be logging...\n",
      "supposed to be logging...\n",
      "supposed to be logging...\n",
      "supposed to be logging...\n",
      "supposed to be logging...\n",
      "supposed to be logging...\n",
      "supposed to be logging...\n",
      "supposed to be logging...\n",
      "supposed to be logging...\n",
      "supposed to be logging...\n",
      "supposed to be logging...\n",
      "supposed to be logging...\n",
      "supposed to be logging...\n",
      "supposed to be logging...\n",
      "supposed to be logging...\n",
      "supposed to be logging...\n",
      "supposed to be logging...\n",
      "supposed to be logging...\n",
      "supposed to be logging...\n",
      "supposed to be logging...\n",
      "supposed to be logging...\n",
      "supposed to be logging...\n",
      "supposed to be logging...\n",
      "supposed to be logging...\n",
      "supposed to be logging...\n",
      "supposed to be logging...\n",
      "supposed to be logging...\n",
      "supposed to be logging...\n",
      "supposed to be logging...\n",
      "supposed to be logging...\n",
      "supposed to be logging...\n",
      "supposed to be logging...\n",
      "supposed to be logging...\n",
      "supposed to be logging...\n",
      "supposed to be logging...\n",
      "supposed to be logging...\n",
      "supposed to be logging...\n",
      "supposed to be logging...\n",
      "supposed to be logging...\n",
      "supposed to be logging...\n",
      "supposed to be logging...\n",
      "supposed to be logging...\n",
      "supposed to be logging...\n",
      "supposed to be logging...\n",
      "supposed to be logging...\n",
      "supposed to be logging...\n",
      "supposed to be logging...\n",
      "supposed to be logging...\n",
      "supposed to be logging...\n",
      "supposed to be logging...\n",
      "supposed to be logging...\n",
      "supposed to be logging...\n",
      "supposed to be logging...\n",
      "supposed to be logging...\n"
     ]
    },
    {
     "name": "stderr",
     "output_type": "stream",
     "text": [
      "INFO:root:Finished fitting log-linear regressors to initialize left actions.\n"
     ]
    },
    {
     "name": "stdout",
     "output_type": "stream",
     "text": [
      "supposed to be logging...\n"
     ]
    },
    {
     "name": "stderr",
     "output_type": "stream",
     "text": [
      "Initializing to identity: 100%|██████████| 5000/5000 [00:14<00:00, 355.96it/s, total=1.6082e-13]\n",
      "Initializing to identity: 100%|██████████| 5000/5000 [00:13<00:00, 366.48it/s, total=1.6803e-12]\n",
      "Inferring left-action:   0%|          | 0/100000 [00:00<?, ?it/s]/Users/paulnitschke/Desktop/projects/geo_meta_rl/src/learning/symmetry/hereditary_geometry_discovery.py:161: UserWarning: To copy construct from a tensor, it is recommended to use sourceTensor.clone().detach() or sourceTensor.clone().detach().requires_grad_(True), rather than torch.tensor(sourceTensor).\n",
      "  goals = torch.stack([torch.tensor(self.task_specifications[i]['goal']) for i in self.task_idxs])\n",
      "Left-Action Loss: 0.721 | Task Losses: [1.114 0.452 0.597] | Task Losses (reg): 0.7549999952316284 | Generator Span Loss: 0.742 | Symmetry Loss: 0.0 | Reconstruction Loss: 0.0:  67%|██████▋   | 67493/100000 [22:24<10:47, 50.20it/s]      \n"
     ]
    },
    {
     "name": "stdout",
     "output_type": "stream",
     "text": [
      "Unexpected exception formatting exception. Falling back to standard exception\n"
     ]
    },
    {
     "name": "stderr",
     "output_type": "stream",
     "text": [
      "Traceback (most recent call last):\n",
      "  File \"/Users/paulnitschke/miniconda3/envs/env_geo_meta_rl/lib/python3.9/site-packages/IPython/core/interactiveshell.py\", line 3550, in run_code\n",
      "    exec(code_obj, self.user_global_ns, self.user_ns)\n",
      "  File \"/var/folders/cm/rfx_nb1x16zcxk4frrwkp_1r0000gn/T/ipykernel_78027/187933616.py\", line 58, in <module>\n",
      "    her_geo_dis.optimize(n_steps=N_STEPS)\n",
      "  File \"/Users/paulnitschke/Desktop/projects/geo_meta_rl/src/learning/symmetry/hereditary_geometry_discovery.py\", line 318, in optimize\n",
      "    loss.backward()\n",
      "  File \"/Users/paulnitschke/Desktop/projects/geo_meta_rl/src/learning/symmetry/hereditary_geometry_discovery.py\", line 298, in take_grad_step\n",
      "  File \"/Users/paulnitschke/Desktop/projects/geo_meta_rl/src/learning/symmetry/hereditary_geometry_discovery.py\", line 185, in evaluate_generator_span\n",
      "    if track_loss:\n",
      "  File \"/Users/paulnitschke/Desktop/projects/geo_meta_rl/src/learning/symmetry/hereditary_geometry_discovery.py\", line 278, in _project_onto_tensor_subspace\n",
      "    b, d, _, _ = basis.shape\n",
      "  File \"/Users/paulnitschke/miniconda3/envs/env_geo_meta_rl/lib/python3.9/site-packages/torch/functional.py\", line 385, in einsum\n",
      "    return _VF.einsum(equation, operands)  # type: ignore[attr-defined]\n",
      "KeyboardInterrupt\n",
      "\n",
      "During handling of the above exception, another exception occurred:\n",
      "\n",
      "Traceback (most recent call last):\n",
      "  File \"/Users/paulnitschke/miniconda3/envs/env_geo_meta_rl/lib/python3.9/site-packages/IPython/core/interactiveshell.py\", line 2144, in showtraceback\n",
      "    stb = self.InteractiveTB.structured_traceback(\n",
      "  File \"/Users/paulnitschke/miniconda3/envs/env_geo_meta_rl/lib/python3.9/site-packages/IPython/core/ultratb.py\", line 1435, in structured_traceback\n",
      "    return FormattedTB.structured_traceback(\n",
      "  File \"/Users/paulnitschke/miniconda3/envs/env_geo_meta_rl/lib/python3.9/site-packages/IPython/core/ultratb.py\", line 1326, in structured_traceback\n",
      "    return VerboseTB.structured_traceback(\n",
      "  File \"/Users/paulnitschke/miniconda3/envs/env_geo_meta_rl/lib/python3.9/site-packages/IPython/core/ultratb.py\", line 1173, in structured_traceback\n",
      "    formatted_exception = self.format_exception_as_a_whole(etype, evalue, etb, number_of_lines_of_context,\n",
      "  File \"/Users/paulnitschke/miniconda3/envs/env_geo_meta_rl/lib/python3.9/site-packages/IPython/core/ultratb.py\", line 1088, in format_exception_as_a_whole\n",
      "    frames.append(self.format_record(record))\n",
      "  File \"/Users/paulnitschke/miniconda3/envs/env_geo_meta_rl/lib/python3.9/site-packages/IPython/core/ultratb.py\", line 970, in format_record\n",
      "    frame_info.lines, Colors, self.has_colors, lvals\n",
      "  File \"/Users/paulnitschke/miniconda3/envs/env_geo_meta_rl/lib/python3.9/site-packages/IPython/core/ultratb.py\", line 792, in lines\n",
      "    return self._sd.lines\n",
      "  File \"/Users/paulnitschke/miniconda3/envs/env_geo_meta_rl/lib/python3.9/site-packages/stack_data/utils.py\", line 145, in cached_property_wrapper\n",
      "    value = obj.__dict__[self.func.__name__] = self.func(obj)\n",
      "  File \"/Users/paulnitschke/miniconda3/envs/env_geo_meta_rl/lib/python3.9/site-packages/stack_data/core.py\", line 734, in lines\n",
      "    pieces = self.included_pieces\n",
      "  File \"/Users/paulnitschke/miniconda3/envs/env_geo_meta_rl/lib/python3.9/site-packages/stack_data/utils.py\", line 145, in cached_property_wrapper\n",
      "    value = obj.__dict__[self.func.__name__] = self.func(obj)\n",
      "  File \"/Users/paulnitschke/miniconda3/envs/env_geo_meta_rl/lib/python3.9/site-packages/stack_data/core.py\", line 681, in included_pieces\n",
      "    pos = scope_pieces.index(self.executing_piece)\n",
      "  File \"/Users/paulnitschke/miniconda3/envs/env_geo_meta_rl/lib/python3.9/site-packages/stack_data/utils.py\", line 145, in cached_property_wrapper\n",
      "    value = obj.__dict__[self.func.__name__] = self.func(obj)\n",
      "  File \"/Users/paulnitschke/miniconda3/envs/env_geo_meta_rl/lib/python3.9/site-packages/stack_data/core.py\", line 660, in executing_piece\n",
      "    return only(\n",
      "  File \"/Users/paulnitschke/miniconda3/envs/env_geo_meta_rl/lib/python3.9/site-packages/executing/executing.py\", line 116, in only\n",
      "    raise NotOneValueFound('Expected one value, found 0')\n",
      "executing.executing.NotOneValueFound: Expected one value, found 0\n"
     ]
    }
   ],
   "source": [
    "import wandb\n",
    "%load_ext autoreload\n",
    "%autoreload 2\n",
    "\n",
    "import torch\n",
    "from src.learning.symmetry.hereditary_geometry_discovery import HereditaryGeometryDiscovery\n",
    "from src.utils import Affine2D\n",
    "\n",
    "\n",
    "train_goal_locations=[\n",
    "    {'goal': torch.tensor([-0.70506063,  0.70914702])},\n",
    " {'goal': torch.tensor([ 0.95243384, -0.30474544])},\n",
    " {'goal': torch.tensor([-0.11289421, -0.99360701])},\n",
    " {'goal': torch.tensor([-0.81394263, -0.58094525])}]\n",
    "\n",
    "SEED=42\n",
    "LEARN_LEFT_ACTIONS=True\n",
    "LEARN_GENERATOR=True\n",
    "LEARN_ENCODER_DECODER=True\n",
    "USE_ORACLE_ROTATION_KERNEL=True\n",
    "N_STEPS=100_000\n",
    "BATCH_SIZE=128\n",
    "BANDWIDTH=None\n",
    "\n",
    "ENCODER=Affine2D(input_dim=2, output_dim=2)\n",
    "DECODER=Affine2D(input_dim=2, output_dim=2)\n",
    "ORACLE_GENERATOR=torch.tensor([[0, -1], [1,0]], dtype=torch.float32, requires_grad=False).unsqueeze(0) if not LEARN_GENERATOR else None\n",
    "\n",
    "WAND_PROJECT_NAME=\"circle_hereditary_geometry_discovery\"\n",
    "\n",
    "wandb.init(project=WAND_PROJECT_NAME, config={\n",
    "    \"n_steps\": N_STEPS,\n",
    "    \"batch_size\": BATCH_SIZE,\n",
    "    \"kernel_dim\": KERNEL_DIM,\n",
    "    \"bandwidth\": BANDWIDTH,\n",
    "    \"learn_encoder_decoder\": LEARN_ENCODER_DECODER,\n",
    "    \"learn_left_actions\": LEARN_LEFT_ACTIONS,\n",
    "    \"learn_generator\": LEARN_GENERATOR,\n",
    "    \"seed\": SEED,\n",
    "    \"use_oracle_rotation_kernel\": USE_ORACLE_ROTATION_KERNEL,\n",
    "}, reinit=True)\n",
    "\n",
    "her_geo_dis=HereditaryGeometryDiscovery(tasks_ps=tasks_ps,\n",
    "                                        tasks_frameestimators=tasks_frameestimators, \n",
    "                                        kernel_dim=KERNEL_DIM, \n",
    "                                        batch_size=BATCH_SIZE, \n",
    "                                        seed=SEED, \n",
    "                                        bandwidth=BANDWIDTH,\n",
    "                                        log_wandb=True,\n",
    "                                        learn_encoder_decoder=LEARN_ENCODER_DECODER,\n",
    "                                        use_oracle_rotation_kernel=USE_ORACLE_ROTATION_KERNEL,\n",
    "                                        task_specifications=train_goal_locations,\n",
    "                                        learn_left_actions=LEARN_LEFT_ACTIONS,\n",
    "                                        learn_generator=LEARN_GENERATOR,\n",
    "                                        oracle_generator=ORACLE_GENERATOR,\n",
    "                                        encoder=ENCODER,\n",
    "                                        decoder=DECODER)\n",
    "her_geo_dis.optimize(n_steps=N_STEPS)\n",
    "wandb.finish()"
   ]
  },
  {
   "cell_type": "code",
   "execution_count": 19,
   "metadata": {},
   "outputs": [
    {
     "data": {
      "text/plain": [
       "Parameter containing:\n",
       "tensor([[[ 1.6041e-04, -1.7604e+00],\n",
       "         [ 5.6741e-01, -4.3644e-06]]], requires_grad=True)"
      ]
     },
     "execution_count": 19,
     "metadata": {},
     "output_type": "execute_result"
    }
   ],
   "source": [
    "her_geo_dis.generator"
   ]
  },
  {
   "cell_type": "code",
   "execution_count": 17,
   "metadata": {},
   "outputs": [
    {
     "data": {
      "text/plain": [
       "tensor([[[ 9.9982e-01,  1.8022e-05],\n",
       "         [-1.7940e+00,  1.0024e+00]],\n",
       "\n",
       "        [[-7.4284e-01, -1.1793e+00],\n",
       "         [ 3.8006e-01, -7.4292e-01]],\n",
       "\n",
       "        [[ 9.9992e-01, -1.6791e+00],\n",
       "         [-2.7793e-05,  1.0000e+00]]], grad_fn=<LinalgMatrixExpBackward0>)"
      ]
     },
     "execution_count": 17,
     "metadata": {},
     "output_type": "execute_result"
    }
   ],
   "source": [
    "her_geo_dis.lgs"
   ]
  },
  {
   "cell_type": "code",
   "execution_count": 18,
   "metadata": {},
   "outputs": [
    {
     "name": "stdout",
     "output_type": "stream",
     "text": [
      "tensor([[ 1.1399,  0.1600],\n",
      "        [-0.0908,  0.6472]])\n",
      "tensor([ 0.6903, -0.5230])\n"
     ]
    }
   ],
   "source": [
    "for param in her_geo_dis.encoder.parameters():\n",
    "    print(param.data)"
   ]
  }
 ],
 "metadata": {
  "kernelspec": {
   "display_name": "env_geo_meta_rl",
   "language": "python",
   "name": "python3"
  },
  "language_info": {
   "codemirror_mode": {
    "name": "ipython",
    "version": 3
   },
   "file_extension": ".py",
   "mimetype": "text/x-python",
   "name": "python",
   "nbconvert_exporter": "python",
   "pygments_lexer": "ipython3",
   "version": "3.9.21"
  }
 },
 "nbformat": 4,
 "nbformat_minor": 2
}
