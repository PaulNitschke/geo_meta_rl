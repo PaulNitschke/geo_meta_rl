{
 "cells": [
  {
   "cell_type": "code",
   "execution_count": 2,
   "metadata": {},
   "outputs": [
    {
     "name": "stdout",
     "output_type": "stream",
     "text": [
      "2025-01-03 10:38:38 | [CL_point_env] [CL_point_env] Logging to /Users/paulnitschke/Desktop/projects/geo_meta_rl/data/local/experiment/CL_point_env_4\n",
      "2025-01-03 10:38:38 | [CL_point_env] [CL_point_env] Logging to /Users/paulnitschke/Desktop/projects/geo_meta_rl/data/local/experiment/CL_point_env_4\n",
      "\n",
      "\n",
      "Failed to import TF-Keras. Please note that TF-Keras is not installed by default when you install TensorFlow Probability. This is so that JAX-only users do not have to install TensorFlow or TF-Keras. To use TensorFlow Probability with TensorFlow, please install the tf-keras or tf-keras-nightly package.\n",
      "This can be be done through installing the tensorflow-probability[tf] extra.\n",
      "\n",
      "\n",
      "2025-01-03 10:38:38 | [CL_point_env] [CL_point_env] Obtaining samples...\n",
      "2025-01-03 10:38:38 | [CL_point_env] [CL_point_env] Obtaining samples...\n"
     ]
    },
    {
     "name": "stderr",
     "output_type": "stream",
     "text": [
      "/Users/paulnitschke/Desktop/projects/geo_meta_rl/garage/experiment/deterministic.py:36: UserWarning: Enabeling deterministic mode in PyTorch can have a performance impact when using GPU.\n",
      "  warnings.warn(\n",
      "/Users/paulnitschke/Desktop/projects/geo_meta_rl/garage/_dtypes.py:1049: UserWarning: Observation array([0.        , 0.        , 2.15019274]) is outside observation_space Box(-inf, inf, (3,), float32)\n",
      "  warnings.warn(\n",
      "/Users/paulnitschke/Desktop/projects/geo_meta_rl/garage/_dtypes.py:1049: UserWarning: Observation array([0.        , 0.        , 2.15766252]) is outside observation_space Box(-inf, inf, (3,), float32)\n",
      "  warnings.warn(\n",
      "/Users/paulnitschke/Desktop/projects/geo_meta_rl/garage/_dtypes.py:1049: UserWarning: Observation array([0.        , 0.        , 1.39876599]) is outside observation_space Box(-inf, inf, (3,), float32)\n",
      "  warnings.warn(\n",
      "/Users/paulnitschke/Desktop/projects/geo_meta_rl/garage/_dtypes.py:1049: UserWarning: Observation array([0.        , 0.        , 0.44115654]) is outside observation_space Box(-inf, inf, (3,), float32)\n",
      "  warnings.warn(\n",
      "/Users/paulnitschke/Desktop/projects/geo_meta_rl/garage/_dtypes.py:1049: UserWarning: Observation array([0.        , 0.        , 0.80831469]) is outside observation_space Box(-inf, inf, (3,), float32)\n",
      "  warnings.warn(\n",
      "/Users/paulnitschke/Desktop/projects/geo_meta_rl/garage/_dtypes.py:1049: UserWarning: Observation array([0.        , 0.        , 1.91967192]) is outside observation_space Box(-inf, inf, (3,), float32)\n",
      "  warnings.warn(\n",
      "/Users/paulnitschke/Desktop/projects/geo_meta_rl/garage/_dtypes.py:1049: UserWarning: Observation array([0.        , 0.        , 2.00966329]) is outside observation_space Box(-inf, inf, (3,), float32)\n",
      "  warnings.warn(\n",
      "/Users/paulnitschke/Desktop/projects/geo_meta_rl/garage/_dtypes.py:1049: UserWarning: Observation array([0.        , 0.        , 0.40562035]) is outside observation_space Box(-inf, inf, (3,), float32)\n",
      "  warnings.warn(\n",
      "/Users/paulnitschke/Desktop/projects/geo_meta_rl/garage/_dtypes.py:1049: UserWarning: Observation array([0.        , 0.        , 1.87814489]) is outside observation_space Box(-inf, inf, (3,), float32)\n",
      "  warnings.warn(\n",
      "/Users/paulnitschke/Desktop/projects/geo_meta_rl/garage/_dtypes.py:1049: UserWarning: Observation array([0.        , 0.        , 2.22608607]) is outside observation_space Box(-inf, inf, (3,), float32)\n",
      "  warnings.warn(\n",
      "/Users/paulnitschke/Desktop/projects/geo_meta_rl/garage/_dtypes.py:1049: UserWarning: Observation array([0.        , 0.        , 1.07180988]) is outside observation_space Box(-inf, inf, (3,), float32)\n",
      "  warnings.warn(\n",
      "/Users/paulnitschke/Desktop/projects/geo_meta_rl/garage/_dtypes.py:1049: UserWarning: Observation array([0.        , 0.        , 2.18131415]) is outside observation_space Box(-inf, inf, (3,), float32)\n",
      "  warnings.warn(\n",
      "/Users/paulnitschke/Desktop/projects/geo_meta_rl/garage/_dtypes.py:1049: UserWarning: Observation array([0.       , 0.       , 2.4808347]) is outside observation_space Box(-inf, inf, (3,), float32)\n",
      "  warnings.warn(\n",
      "/Users/paulnitschke/Desktop/projects/geo_meta_rl/garage/_dtypes.py:1049: UserWarning: Observation array([0.        , 0.        , 2.00799882]) is outside observation_space Box(-inf, inf, (3,), float32)\n",
      "  warnings.warn(\n",
      "/Users/paulnitschke/Desktop/projects/geo_meta_rl/garage/_dtypes.py:1049: UserWarning: Observation array([0.        , 0.        , 1.63731132]) is outside observation_space Box(-inf, inf, (3,), float32)\n",
      "  warnings.warn(\n",
      "/Users/paulnitschke/Desktop/projects/geo_meta_rl/garage/_dtypes.py:1049: UserWarning: Observation array([0.        , 0.        , 1.83635621]) is outside observation_space Box(-inf, inf, (3,), float32)\n",
      "  warnings.warn(\n",
      "/Users/paulnitschke/Desktop/projects/geo_meta_rl/garage/_dtypes.py:1049: UserWarning: Observation array([0.        , 0.        , 1.06471637]) is outside observation_space Box(-inf, inf, (3,), float32)\n",
      "  warnings.warn(\n",
      "/Users/paulnitschke/Desktop/projects/geo_meta_rl/garage/_dtypes.py:1049: UserWarning: Observation array([0.        , 0.        , 1.53235472]) is outside observation_space Box(-inf, inf, (3,), float32)\n",
      "  warnings.warn(\n",
      "/Users/paulnitschke/Desktop/projects/geo_meta_rl/garage/_dtypes.py:1049: UserWarning: Observation array([0.        , 0.        , 2.17115034]) is outside observation_space Box(-inf, inf, (3,), float32)\n",
      "  warnings.warn(\n"
     ]
    },
    {
     "name": "stdout",
     "output_type": "stream",
     "text": [
      "2025-01-03 10:38:41 | [CL_point_env] [CL_point_env] epoch #0 | Training...\n",
      "2025-01-03 10:38:41 | [CL_point_env] [CL_point_env] epoch #0 | Training...\n"
     ]
    },
    {
     "ename": "KeyboardInterrupt",
     "evalue": "",
     "output_type": "error",
     "traceback": [
      "\u001b[0;31m---------------------------------------------------------------------------\u001b[0m",
      "\u001b[0;31mKeyboardInterrupt\u001b[0m                         Traceback (most recent call last)",
      "Cell \u001b[0;32mIn[2], line 1\u001b[0m\n\u001b[0;32m----> 1\u001b[0m \u001b[38;5;28;01mfrom\u001b[39;00m \u001b[38;5;21;01mgarage\u001b[39;00m\u001b[38;5;21;01m.\u001b[39;00m\u001b[38;5;21;01mexamples\u001b[39;00m\u001b[38;5;21;01m.\u001b[39;00m\u001b[38;5;21;01mtorch\u001b[39;00m\u001b[38;5;21;01m.\u001b[39;00m\u001b[38;5;21;01mmulti_env_CL\u001b[39;00m \u001b[38;5;28;01mimport\u001b[39;00m CL_point_env\n",
      "File \u001b[0;32m~/Desktop/projects/geo_meta_rl/garage/examples/torch/multi_env_CL.py:163\u001b[0m\n\u001b[1;32m    158\u001b[0m     trainer\u001b[38;5;241m.\u001b[39msetup(algo\u001b[38;5;241m=\u001b[39mpearl, env\u001b[38;5;241m=\u001b[39menv[\u001b[38;5;241m0\u001b[39m]())\n\u001b[1;32m    160\u001b[0m     trainer\u001b[38;5;241m.\u001b[39mtrain(n_epochs\u001b[38;5;241m=\u001b[39mnum_epochs, batch_size\u001b[38;5;241m=\u001b[39mbatch_size)\n\u001b[0;32m--> 163\u001b[0m \u001b[43mCL_point_env\u001b[49m\u001b[43m(\u001b[49m\u001b[43m)\u001b[49m\n",
      "File \u001b[0;32m~/Desktop/projects/geo_meta_rl/garage/experiment/experiment.py:369\u001b[0m, in \u001b[0;36mExperimentTemplate.__call__\u001b[0;34m(self, *args, **kwargs)\u001b[0m\n\u001b[1;32m    367\u001b[0m \u001b[38;5;28;01melse\u001b[39;00m:\n\u001b[1;32m    368\u001b[0m     ctxt \u001b[38;5;241m=\u001b[39m \u001b[38;5;28mself\u001b[39m\u001b[38;5;241m.\u001b[39m_make_context(\u001b[38;5;28mself\u001b[39m\u001b[38;5;241m.\u001b[39m_get_options(\u001b[38;5;241m*\u001b[39margs), \u001b[38;5;241m*\u001b[39m\u001b[38;5;241m*\u001b[39mkwargs)\n\u001b[0;32m--> 369\u001b[0m     result \u001b[38;5;241m=\u001b[39m \u001b[38;5;28;43mself\u001b[39;49m\u001b[38;5;241;43m.\u001b[39;49m\u001b[43mfunction\u001b[49m\u001b[43m(\u001b[49m\u001b[43mctxt\u001b[49m\u001b[43m,\u001b[49m\u001b[43m \u001b[49m\u001b[38;5;241;43m*\u001b[39;49m\u001b[38;5;241;43m*\u001b[39;49m\u001b[43mkwargs\u001b[49m\u001b[43m)\u001b[49m\n\u001b[1;32m    370\u001b[0m     logger\u001b[38;5;241m.\u001b[39mremove_all()\n\u001b[1;32m    371\u001b[0m     logger\u001b[38;5;241m.\u001b[39mpop_prefix()\n",
      "File \u001b[0;32m~/Desktop/projects/geo_meta_rl/garage/examples/torch/multi_env_CL.py:160\u001b[0m, in \u001b[0;36mCL_point_env\u001b[0;34m(ctxt, seed, num_epochs, num_train_tasks, num_test_tasks, latent_size, encoder_hidden_size, net_size, meta_batch_size, num_steps_per_epoch, num_initial_steps, num_tasks_sample, num_steps_prior, num_extra_rl_steps_posterior, batch_size, embedding_batch_size, embedding_mini_batch_size, reward_scale, max_episode_length, use_gpu)\u001b[0m\n\u001b[1;32m    156\u001b[0m     pearl\u001b[38;5;241m.\u001b[39mto()\n\u001b[1;32m    158\u001b[0m trainer\u001b[38;5;241m.\u001b[39msetup(algo\u001b[38;5;241m=\u001b[39mpearl, env\u001b[38;5;241m=\u001b[39menv[\u001b[38;5;241m0\u001b[39m]())\n\u001b[0;32m--> 160\u001b[0m \u001b[43mtrainer\u001b[49m\u001b[38;5;241;43m.\u001b[39;49m\u001b[43mtrain\u001b[49m\u001b[43m(\u001b[49m\u001b[43mn_epochs\u001b[49m\u001b[38;5;241;43m=\u001b[39;49m\u001b[43mnum_epochs\u001b[49m\u001b[43m,\u001b[49m\u001b[43m \u001b[49m\u001b[43mbatch_size\u001b[49m\u001b[38;5;241;43m=\u001b[39;49m\u001b[43mbatch_size\u001b[49m\u001b[43m)\u001b[49m\n",
      "File \u001b[0;32m~/Desktop/projects/geo_meta_rl/garage/trainer.py:396\u001b[0m, in \u001b[0;36mTrainer.train\u001b[0;34m(self, n_epochs, batch_size, plot, store_episodes, pause_for_plot)\u001b[0m\n\u001b[1;32m    393\u001b[0m summary_file \u001b[38;5;241m=\u001b[39m os\u001b[38;5;241m.\u001b[39mpath\u001b[38;5;241m.\u001b[39mjoin(log_dir, \u001b[38;5;124m'\u001b[39m\u001b[38;5;124mexperiment.json\u001b[39m\u001b[38;5;124m'\u001b[39m)\n\u001b[1;32m    394\u001b[0m dump_json(summary_file, \u001b[38;5;28mself\u001b[39m)\n\u001b[0;32m--> 396\u001b[0m average_return \u001b[38;5;241m=\u001b[39m \u001b[38;5;28;43mself\u001b[39;49m\u001b[38;5;241;43m.\u001b[39;49m\u001b[43m_algo\u001b[49m\u001b[38;5;241;43m.\u001b[39;49m\u001b[43mtrain\u001b[49m\u001b[43m(\u001b[49m\u001b[38;5;28;43mself\u001b[39;49m\u001b[43m)\u001b[49m\n\u001b[1;32m    397\u001b[0m \u001b[38;5;28mself\u001b[39m\u001b[38;5;241m.\u001b[39m_shutdown_worker()\n\u001b[1;32m    399\u001b[0m \u001b[38;5;28;01mreturn\u001b[39;00m average_return\n",
      "File \u001b[0;32m~/Desktop/projects/geo_meta_rl/garage/torch/algos/CLMeta.py:311\u001b[0m, in \u001b[0;36mCLMETA.train\u001b[0;34m(self, trainer)\u001b[0m\n\u001b[1;32m    309\u001b[0m logger\u001b[38;5;241m.\u001b[39mlog(\u001b[38;5;124m'\u001b[39m\u001b[38;5;124mTraining...\u001b[39m\u001b[38;5;124m'\u001b[39m)\n\u001b[1;32m    310\u001b[0m \u001b[38;5;66;03m# sample train tasks and optimize networks\u001b[39;00m\n\u001b[0;32m--> 311\u001b[0m \u001b[38;5;28;43mself\u001b[39;49m\u001b[38;5;241;43m.\u001b[39;49m\u001b[43m_train_once\u001b[49m\u001b[43m(\u001b[49m\u001b[43m)\u001b[49m\n\u001b[1;32m    312\u001b[0m trainer\u001b[38;5;241m.\u001b[39mstep_itr \u001b[38;5;241m+\u001b[39m\u001b[38;5;241m=\u001b[39m \u001b[38;5;241m1\u001b[39m\n\u001b[1;32m    314\u001b[0m logger\u001b[38;5;241m.\u001b[39mlog(\u001b[38;5;124m'\u001b[39m\u001b[38;5;124mEvaluating...\u001b[39m\u001b[38;5;124m'\u001b[39m)\n",
      "File \u001b[0;32m~/Desktop/projects/geo_meta_rl/garage/torch/algos/CLMeta.py:324\u001b[0m, in \u001b[0;36mCLMETA._train_once\u001b[0;34m(self)\u001b[0m\n\u001b[1;32m    321\u001b[0m \u001b[38;5;28;01mfor\u001b[39;00m _ \u001b[38;5;129;01min\u001b[39;00m \u001b[38;5;28mrange\u001b[39m(\u001b[38;5;28mself\u001b[39m\u001b[38;5;241m.\u001b[39m_num_steps_per_epoch):\n\u001b[1;32m    322\u001b[0m     indices \u001b[38;5;241m=\u001b[39m np\u001b[38;5;241m.\u001b[39mrandom\u001b[38;5;241m.\u001b[39mchoice(\u001b[38;5;28mrange\u001b[39m(\u001b[38;5;28mself\u001b[39m\u001b[38;5;241m.\u001b[39m_num_train_tasks),\n\u001b[1;32m    323\u001b[0m                                \u001b[38;5;28mself\u001b[39m\u001b[38;5;241m.\u001b[39m_meta_batch_size)\n\u001b[0;32m--> 324\u001b[0m     \u001b[38;5;28;43mself\u001b[39;49m\u001b[38;5;241;43m.\u001b[39;49m\u001b[43m_optimize_policy\u001b[49m\u001b[43m(\u001b[49m\u001b[43mindices\u001b[49m\u001b[43m)\u001b[49m\n",
      "File \u001b[0;32m~/Desktop/projects/geo_meta_rl/garage/torch/algos/CLMeta.py:360\u001b[0m, in \u001b[0;36mCLMETA._optimize_policy\u001b[0;34m(self, indices)\u001b[0m\n\u001b[1;32m    358\u001b[0m zero_optim_grads(\u001b[38;5;28mself\u001b[39m\u001b[38;5;241m.\u001b[39mcontext_optimizer)\n\u001b[1;32m    359\u001b[0m \u001b[38;5;28;01mif\u001b[39;00m \u001b[38;5;28mself\u001b[39m\u001b[38;5;241m.\u001b[39m_use_information_bottleneck:\n\u001b[0;32m--> 360\u001b[0m     kl_div \u001b[38;5;241m=\u001b[39m \u001b[38;5;28;43mself\u001b[39;49m\u001b[38;5;241;43m.\u001b[39;49m\u001b[43m_policy\u001b[49m\u001b[38;5;241;43m.\u001b[39;49m\u001b[43mcompute_kl_div\u001b[49m\u001b[43m(\u001b[49m\u001b[43m)\u001b[49m\n\u001b[1;32m    361\u001b[0m     kl_loss \u001b[38;5;241m=\u001b[39m \u001b[38;5;28mself\u001b[39m\u001b[38;5;241m.\u001b[39m_kl_lambda \u001b[38;5;241m*\u001b[39m kl_div\n\u001b[1;32m    362\u001b[0m     kl_loss\u001b[38;5;241m.\u001b[39mbackward(retain_graph\u001b[38;5;241m=\u001b[39m\u001b[38;5;28;01mTrue\u001b[39;00m)\n",
      "File \u001b[0;32m~/Desktop/projects/geo_meta_rl/garage/torch/policies/context_conditioned_policy.py:232\u001b[0m, in \u001b[0;36mContextConditionedPolicy.compute_kl_div\u001b[0;34m(self)\u001b[0m\n\u001b[1;32m    225\u001b[0m prior \u001b[38;5;241m=\u001b[39m torch\u001b[38;5;241m.\u001b[39mdistributions\u001b[38;5;241m.\u001b[39mNormal(\n\u001b[1;32m    226\u001b[0m     torch\u001b[38;5;241m.\u001b[39mzeros(\u001b[38;5;28mself\u001b[39m\u001b[38;5;241m.\u001b[39m_latent_dim)\u001b[38;5;241m.\u001b[39mto(global_device()),\n\u001b[1;32m    227\u001b[0m     torch\u001b[38;5;241m.\u001b[39mones(\u001b[38;5;28mself\u001b[39m\u001b[38;5;241m.\u001b[39m_latent_dim)\u001b[38;5;241m.\u001b[39mto(global_device()))\n\u001b[1;32m    228\u001b[0m posteriors \u001b[38;5;241m=\u001b[39m [\n\u001b[1;32m    229\u001b[0m     torch\u001b[38;5;241m.\u001b[39mdistributions\u001b[38;5;241m.\u001b[39mNormal(mu, torch\u001b[38;5;241m.\u001b[39msqrt(var)) \u001b[38;5;28;01mfor\u001b[39;00m mu, var \u001b[38;5;129;01min\u001b[39;00m \u001b[38;5;28mzip\u001b[39m(\n\u001b[1;32m    230\u001b[0m         torch\u001b[38;5;241m.\u001b[39munbind(\u001b[38;5;28mself\u001b[39m\u001b[38;5;241m.\u001b[39mz_means), torch\u001b[38;5;241m.\u001b[39munbind(\u001b[38;5;28mself\u001b[39m\u001b[38;5;241m.\u001b[39mz_vars))\n\u001b[1;32m    231\u001b[0m ]\n\u001b[0;32m--> 232\u001b[0m kl_divs \u001b[38;5;241m=\u001b[39m [\n\u001b[1;32m    233\u001b[0m     torch\u001b[38;5;241m.\u001b[39mdistributions\u001b[38;5;241m.\u001b[39mkl\u001b[38;5;241m.\u001b[39mkl_divergence(post, prior)\n\u001b[1;32m    234\u001b[0m     \u001b[38;5;28;01mfor\u001b[39;00m post \u001b[38;5;129;01min\u001b[39;00m posteriors\n\u001b[1;32m    235\u001b[0m ]\n\u001b[1;32m    236\u001b[0m kl_div_sum \u001b[38;5;241m=\u001b[39m torch\u001b[38;5;241m.\u001b[39msum(torch\u001b[38;5;241m.\u001b[39mstack(kl_divs))\n\u001b[1;32m    237\u001b[0m \u001b[38;5;28;01mreturn\u001b[39;00m kl_div_sum\n",
      "File \u001b[0;32m~/Desktop/projects/geo_meta_rl/garage/torch/policies/context_conditioned_policy.py:233\u001b[0m, in \u001b[0;36m<listcomp>\u001b[0;34m(.0)\u001b[0m\n\u001b[1;32m    225\u001b[0m prior \u001b[38;5;241m=\u001b[39m torch\u001b[38;5;241m.\u001b[39mdistributions\u001b[38;5;241m.\u001b[39mNormal(\n\u001b[1;32m    226\u001b[0m     torch\u001b[38;5;241m.\u001b[39mzeros(\u001b[38;5;28mself\u001b[39m\u001b[38;5;241m.\u001b[39m_latent_dim)\u001b[38;5;241m.\u001b[39mto(global_device()),\n\u001b[1;32m    227\u001b[0m     torch\u001b[38;5;241m.\u001b[39mones(\u001b[38;5;28mself\u001b[39m\u001b[38;5;241m.\u001b[39m_latent_dim)\u001b[38;5;241m.\u001b[39mto(global_device()))\n\u001b[1;32m    228\u001b[0m posteriors \u001b[38;5;241m=\u001b[39m [\n\u001b[1;32m    229\u001b[0m     torch\u001b[38;5;241m.\u001b[39mdistributions\u001b[38;5;241m.\u001b[39mNormal(mu, torch\u001b[38;5;241m.\u001b[39msqrt(var)) \u001b[38;5;28;01mfor\u001b[39;00m mu, var \u001b[38;5;129;01min\u001b[39;00m \u001b[38;5;28mzip\u001b[39m(\n\u001b[1;32m    230\u001b[0m         torch\u001b[38;5;241m.\u001b[39munbind(\u001b[38;5;28mself\u001b[39m\u001b[38;5;241m.\u001b[39mz_means), torch\u001b[38;5;241m.\u001b[39munbind(\u001b[38;5;28mself\u001b[39m\u001b[38;5;241m.\u001b[39mz_vars))\n\u001b[1;32m    231\u001b[0m ]\n\u001b[1;32m    232\u001b[0m kl_divs \u001b[38;5;241m=\u001b[39m [\n\u001b[0;32m--> 233\u001b[0m     \u001b[43mtorch\u001b[49m\u001b[38;5;241;43m.\u001b[39;49m\u001b[43mdistributions\u001b[49m\u001b[38;5;241;43m.\u001b[39;49m\u001b[43mkl\u001b[49m\u001b[38;5;241;43m.\u001b[39;49m\u001b[43mkl_divergence\u001b[49m\u001b[43m(\u001b[49m\u001b[43mpost\u001b[49m\u001b[43m,\u001b[49m\u001b[43m \u001b[49m\u001b[43mprior\u001b[49m\u001b[43m)\u001b[49m\n\u001b[1;32m    234\u001b[0m     \u001b[38;5;28;01mfor\u001b[39;00m post \u001b[38;5;129;01min\u001b[39;00m posteriors\n\u001b[1;32m    235\u001b[0m ]\n\u001b[1;32m    236\u001b[0m kl_div_sum \u001b[38;5;241m=\u001b[39m torch\u001b[38;5;241m.\u001b[39msum(torch\u001b[38;5;241m.\u001b[39mstack(kl_divs))\n\u001b[1;32m    237\u001b[0m \u001b[38;5;28;01mreturn\u001b[39;00m kl_div_sum\n",
      "File \u001b[0;32m~/miniconda3/envs/env_geo_meta_rl/lib/python3.9/site-packages/torch/distributions/kl.py:191\u001b[0m, in \u001b[0;36mkl_divergence\u001b[0;34m(p, q)\u001b[0m\n\u001b[1;32m    187\u001b[0m \u001b[38;5;28;01mif\u001b[39;00m fun \u001b[38;5;129;01mis\u001b[39;00m \u001b[38;5;28mNotImplemented\u001b[39m:\n\u001b[1;32m    188\u001b[0m     \u001b[38;5;28;01mraise\u001b[39;00m \u001b[38;5;167;01mNotImplementedError\u001b[39;00m(\n\u001b[1;32m    189\u001b[0m         \u001b[38;5;124mf\u001b[39m\u001b[38;5;124m\"\u001b[39m\u001b[38;5;124mNo KL(p || q) is implemented for p type \u001b[39m\u001b[38;5;132;01m{\u001b[39;00mp\u001b[38;5;241m.\u001b[39m\u001b[38;5;18m__class__\u001b[39m\u001b[38;5;241m.\u001b[39m\u001b[38;5;18m__name__\u001b[39m\u001b[38;5;132;01m}\u001b[39;00m\u001b[38;5;124m and q type \u001b[39m\u001b[38;5;132;01m{\u001b[39;00mq\u001b[38;5;241m.\u001b[39m\u001b[38;5;18m__class__\u001b[39m\u001b[38;5;241m.\u001b[39m\u001b[38;5;18m__name__\u001b[39m\u001b[38;5;132;01m}\u001b[39;00m\u001b[38;5;124m\"\u001b[39m\n\u001b[1;32m    190\u001b[0m     )\n\u001b[0;32m--> 191\u001b[0m \u001b[38;5;28;01mreturn\u001b[39;00m \u001b[43mfun\u001b[49m\u001b[43m(\u001b[49m\u001b[43mp\u001b[49m\u001b[43m,\u001b[49m\u001b[43m \u001b[49m\u001b[43mq\u001b[49m\u001b[43m)\u001b[49m\n",
      "File \u001b[0;32m~/miniconda3/envs/env_geo_meta_rl/lib/python3.9/site-packages/torch/distributions/kl.py:469\u001b[0m, in \u001b[0;36m_kl_normal_normal\u001b[0;34m(p, q)\u001b[0m\n\u001b[1;32m    467\u001b[0m var_ratio \u001b[38;5;241m=\u001b[39m (p\u001b[38;5;241m.\u001b[39mscale \u001b[38;5;241m/\u001b[39m q\u001b[38;5;241m.\u001b[39mscale)\u001b[38;5;241m.\u001b[39mpow(\u001b[38;5;241m2\u001b[39m)\n\u001b[1;32m    468\u001b[0m t1 \u001b[38;5;241m=\u001b[39m ((p\u001b[38;5;241m.\u001b[39mloc \u001b[38;5;241m-\u001b[39m q\u001b[38;5;241m.\u001b[39mloc) \u001b[38;5;241m/\u001b[39m q\u001b[38;5;241m.\u001b[39mscale)\u001b[38;5;241m.\u001b[39mpow(\u001b[38;5;241m2\u001b[39m)\n\u001b[0;32m--> 469\u001b[0m \u001b[38;5;28;01mreturn\u001b[39;00m \u001b[38;5;241m0.5\u001b[39m \u001b[38;5;241m*\u001b[39m (var_ratio \u001b[38;5;241m+\u001b[39m t1 \u001b[38;5;241m-\u001b[39m \u001b[38;5;241m1\u001b[39m \u001b[38;5;241m-\u001b[39m \u001b[43mvar_ratio\u001b[49m\u001b[38;5;241;43m.\u001b[39;49m\u001b[43mlog\u001b[49m\u001b[43m(\u001b[49m\u001b[43m)\u001b[49m)\n",
      "\u001b[0;31mKeyboardInterrupt\u001b[0m: "
     ]
    }
   ],
   "source": [
    "from garage.examples.torch.multi_env_CL import CL_point_env\n"
   ]
  },
  {
   "cell_type": "code",
   "execution_count": null,
   "metadata": {},
   "outputs": [],
   "source": []
  },
  {
   "cell_type": "markdown",
   "metadata": {},
   "source": [
    "## Load Experiment Data"
   ]
  },
  {
   "cell_type": "code",
   "execution_count": null,
   "metadata": {},
   "outputs": [],
   "source": []
  },
  {
   "cell_type": "code",
   "execution_count": 1,
   "metadata": {},
   "outputs": [
    {
     "name": "stderr",
     "output_type": "stream",
     "text": [
      "2025-01-03 09:33:48.880022: I tensorflow/core/platform/cpu_feature_guard.cc:210] This TensorFlow binary is optimized to use available CPU instructions in performance-critical operations.\n",
      "To enable the following instructions: SSE4.1 SSE4.2, in other operations, rebuild TensorFlow with the appropriate compiler flags.\n"
     ]
    },
    {
     "name": "stdout",
     "output_type": "stream",
     "text": [
      "\n",
      "\n",
      "Failed to import TF-Keras. Please note that TF-Keras is not installed by default when you install TensorFlow Probability. This is so that JAX-only users do not have to install TensorFlow or TF-Keras. To use TensorFlow Probability with TensorFlow, please install the tf-keras or tf-keras-nightly package.\n",
      "This can be be done through installing the tensorflow-probability[tf] extra.\n",
      "\n",
      "\n"
     ]
    },
    {
     "name": "stderr",
     "output_type": "stream",
     "text": [
      "/Users/paulnitschke/Desktop/projects/geo_meta_rl/garage/experiment/deterministic.py:36: UserWarning: Enabeling deterministic mode in PyTorch can have a performance impact when using GPU.\n",
      "  warnings.warn(\n"
     ]
    }
   ],
   "source": [
    "# Load the policy\n",
    "import os\n",
    "from garage.experiment import Snapshotter\n",
    "EXPERIMENT_NAME = \"pearl_point_env_1\"\n",
    "experiment_dir = os.path.join(\"data/local/experiment\", EXPERIMENT_NAME)\n",
    "snapshotter = Snapshotter()\n",
    "data = snapshotter.load(experiment_dir)\n",
    "policy = data['algo'].policy\n",
    "\n",
    "# You can also access other components of the experiment\n",
    "env = data['env']"
   ]
  },
  {
   "cell_type": "markdown",
   "metadata": {},
   "source": []
  },
  {
   "cell_type": "code",
   "execution_count": 7,
   "metadata": {},
   "outputs": [
    {
     "data": {
      "text/plain": [
       "EnvSpec(input_space=Box(-0.1, 0.1, (2,), float32), output_space=Box(-inf, inf, (3,), float32), max_episode_length=100)"
      ]
     },
     "execution_count": 7,
     "metadata": {},
     "output_type": "execute_result"
    }
   ],
   "source": [
    "env.spec"
   ]
  },
  {
   "cell_type": "code",
   "execution_count": null,
   "metadata": {},
   "outputs": [],
   "source": []
  },
  {
   "cell_type": "code",
   "execution_count": 8,
   "metadata": {},
   "outputs": [
    {
     "data": {
      "text/plain": [
       "ContextConditionedPolicy(\n",
       "  (_context_encoder): MLPEncoder(\n",
       "    (_layers): ModuleList(\n",
       "      (0): Sequential(\n",
       "        (linear): Linear(in_features=6, out_features=16, bias=True)\n",
       "        (non_linearity): <function relu at 0x19706ea60>\n",
       "      )\n",
       "      (1-2): 2 x Sequential(\n",
       "        (linear): Linear(in_features=16, out_features=16, bias=True)\n",
       "        (non_linearity): <function relu at 0x19706ea60>\n",
       "      )\n",
       "    )\n",
       "    (_output_layers): ModuleList(\n",
       "      (0): Sequential(\n",
       "        (linear): Linear(in_features=16, out_features=4, bias=True)\n",
       "      )\n",
       "    )\n",
       "  )\n",
       "  (_policy): TanhGaussianMLPPolicy(\n",
       "    (_module): GaussianMLPTwoHeadedModule(\n",
       "      (_shared_mean_log_std_network): MultiHeadedMLPModule(\n",
       "        (_layers): ModuleList(\n",
       "          (0): Sequential(\n",
       "            (linear): Linear(in_features=5, out_features=64, bias=True)\n",
       "            (non_linearity): ReLU()\n",
       "          )\n",
       "          (1-2): 2 x Sequential(\n",
       "            (linear): Linear(in_features=64, out_features=64, bias=True)\n",
       "            (non_linearity): ReLU()\n",
       "          )\n",
       "        )\n",
       "        (_output_layers): ModuleList(\n",
       "          (0-1): 2 x Sequential(\n",
       "            (linear): Linear(in_features=64, out_features=2, bias=True)\n",
       "          )\n",
       "        )\n",
       "      )\n",
       "    )\n",
       "  )\n",
       ")"
      ]
     },
     "execution_count": 8,
     "metadata": {},
     "output_type": "execute_result"
    }
   ],
   "source": [
    "policy"
   ]
  },
  {
   "cell_type": "code",
   "execution_count": 2,
   "metadata": {},
   "outputs": [
    {
     "name": "stdout",
     "output_type": "stream",
     "text": [
      "Point: [-0.07685582 -0.09020388], Goal: [-0.33191198  0.88129797]\n",
      "Point: [-0.1612745  -0.17693788], Goal: [-0.33191198  0.88129797]\n",
      "Point: [-0.25029539 -0.27021838], Goal: [-0.33191198  0.88129797]\n",
      "Point: [-0.34511504 -0.3594051 ], Goal: [-0.33191198  0.88129797]\n",
      "Point: [-0.4377632 -0.45467  ], Goal: [-0.33191198  0.88129797]\n",
      "Point: [-0.52967929 -0.54728486], Goal: [-0.33191198  0.88129797]\n",
      "Point: [-0.6165894  -0.64397499], Goal: [-0.33191198  0.88129797]\n",
      "Point: [-0.69678123 -0.73417555], Goal: [-0.33191198  0.88129797]\n",
      "Point: [-0.78556728 -0.82921576], Goal: [-0.33191198  0.88129797]\n",
      "Point: [-0.88056751 -0.92223891], Goal: [-0.33191198  0.88129797]\n",
      "Point: [-0.87551915 -1.02071644], Goal: [-0.33191198  0.88129797]\n",
      "Point: [-0.93433431 -1.11821115], Goal: [-0.33191198  0.88129797]\n",
      "Point: [-1.01575281 -1.21311095], Goal: [-0.33191198  0.88129797]\n",
      "Point: [-1.07956403 -1.25585676], Goal: [-0.33191198  0.88129797]\n",
      "Point: [-1.15990736 -1.35261234], Goal: [-0.33191198  0.88129797]\n",
      "Point: [-1.2519123  -1.44020769], Goal: [-0.33191198  0.88129797]\n",
      "Point: [-1.33581405 -1.53917248], Goal: [-0.33191198  0.88129797]\n",
      "Point: [-1.41347356 -1.63228708], Goal: [-0.33191198  0.88129797]\n",
      "Point: [-1.48767287 -1.7260321 ], Goal: [-0.33191198  0.88129797]\n",
      "Point: [-1.57906783 -1.81648942], Goal: [-0.33191198  0.88129797]\n",
      "Point: [-1.66097014 -1.90243236], Goal: [-0.33191198  0.88129797]\n",
      "Point: [-1.75128452 -1.98595256], Goal: [-0.33191198  0.88129797]\n",
      "Point: [-1.84193695 -2.07445497], Goal: [-0.33191198  0.88129797]\n",
      "Point: [-1.92377352 -2.17072533], Goal: [-0.33191198  0.88129797]\n",
      "Point: [-2.01353165 -2.25729926], Goal: [-0.33191198  0.88129797]\n",
      "Point: [-2.10212791 -2.35294296], Goal: [-0.33191198  0.88129797]\n",
      "Point: [-2.19737145 -2.43502564], Goal: [-0.33191198  0.88129797]\n",
      "Point: [-2.2828443  -2.53125882], Goal: [-0.33191198  0.88129797]\n",
      "Point: [-2.36441232 -2.62841424], Goal: [-0.33191198  0.88129797]\n",
      "Point: [-2.44518349 -2.72234735], Goal: [-0.33191198  0.88129797]\n",
      "Point: [-2.5427311  -2.82016394], Goal: [-0.33191198  0.88129797]\n",
      "Point: [-2.62187696 -2.90774352], Goal: [-0.33191198  0.88129797]\n",
      "Point: [-2.71054306 -2.98741579], Goal: [-0.33191198  0.88129797]\n",
      "Point: [-2.80361279 -3.07689228], Goal: [-0.33191198  0.88129797]\n",
      "Point: [-2.89480931 -3.17006071], Goal: [-0.33191198  0.88129797]\n",
      "Point: [-2.97217056 -3.25039602], Goal: [-0.33191198  0.88129797]\n",
      "Point: [-3.05624804 -3.32827845], Goal: [-0.33191198  0.88129797]\n",
      "Point: [-3.15037504 -3.41619072], Goal: [-0.33191198  0.88129797]\n",
      "Point: [-3.24108646 -3.50947494], Goal: [-0.33191198  0.88129797]\n",
      "Point: [-3.33359001 -3.60767871], Goal: [-0.33191198  0.88129797]\n",
      "Point: [-3.40813474 -3.69952371], Goal: [-0.33191198  0.88129797]\n",
      "Point: [-3.47694643 -3.79465934], Goal: [-0.33191198  0.88129797]\n",
      "Point: [-3.5538342  -3.89277853], Goal: [-0.33191198  0.88129797]\n",
      "Point: [-3.64227299 -3.99229551], Goal: [-0.33191198  0.88129797]\n",
      "Point: [-3.7282993  -4.08818069], Goal: [-0.33191198  0.88129797]\n",
      "Point: [-3.79439243 -4.18042391], Goal: [-0.33191198  0.88129797]\n",
      "Point: [-3.8873819  -4.26737734], Goal: [-0.33191198  0.88129797]\n",
      "Point: [-3.96367851 -4.36354266], Goal: [-0.33191198  0.88129797]\n",
      "Point: [-4.02391993 -4.43698886], Goal: [-0.33191198  0.88129797]\n",
      "Point: [-4.08282052 -4.53498862], Goal: [-0.33191198  0.88129797]\n",
      "Point: [-4.15383864 -4.62847709], Goal: [-0.33191198  0.88129797]\n",
      "Point: [-4.24771338 -4.71275449], Goal: [-0.33191198  0.88129797]\n",
      "Point: [-4.33787197 -4.81029147], Goal: [-0.33191198  0.88129797]\n",
      "Point: [-4.43007252 -4.89648678], Goal: [-0.33191198  0.88129797]\n",
      "Point: [-4.49832726 -4.99063226], Goal: [-0.33191198  0.88129797]\n",
      "Point: [-4.55007487 -5.        ], Goal: [-0.33191198  0.88129797]\n",
      "Point: [-4.6305357 -5.       ], Goal: [-0.33191198  0.88129797]\n",
      "Point: [-4.71205789 -5.        ], Goal: [-0.33191198  0.88129797]\n",
      "Point: [-4.78567519 -5.        ], Goal: [-0.33191198  0.88129797]\n",
      "Point: [-4.86681228 -5.        ], Goal: [-0.33191198  0.88129797]\n",
      "Point: [-4.9549046 -5.       ], Goal: [-0.33191198  0.88129797]\n",
      "Point: [-5. -5.], Goal: [-0.33191198  0.88129797]\n",
      "Point: [-5. -5.], Goal: [-0.33191198  0.88129797]\n",
      "Point: [-5. -5.], Goal: [-0.33191198  0.88129797]\n",
      "Point: [-5. -5.], Goal: [-0.33191198  0.88129797]\n",
      "Point: [-5. -5.], Goal: [-0.33191198  0.88129797]\n",
      "Point: [-5. -5.], Goal: [-0.33191198  0.88129797]\n",
      "Point: [-5. -5.], Goal: [-0.33191198  0.88129797]\n",
      "Point: [-5. -5.], Goal: [-0.33191198  0.88129797]\n",
      "Point: [-5. -5.], Goal: [-0.33191198  0.88129797]\n",
      "Point: [-5. -5.], Goal: [-0.33191198  0.88129797]\n",
      "Point: [-5. -5.], Goal: [-0.33191198  0.88129797]\n",
      "Point: [-5. -5.], Goal: [-0.33191198  0.88129797]\n",
      "Point: [-5. -5.], Goal: [-0.33191198  0.88129797]\n",
      "Point: [-5. -5.], Goal: [-0.33191198  0.88129797]\n",
      "Point: [-5. -5.], Goal: [-0.33191198  0.88129797]\n",
      "Point: [-5. -5.], Goal: [-0.33191198  0.88129797]\n",
      "Point: [-5. -5.], Goal: [-0.33191198  0.88129797]\n",
      "Point: [-5. -5.], Goal: [-0.33191198  0.88129797]\n",
      "Point: [-5. -5.], Goal: [-0.33191198  0.88129797]\n",
      "Point: [-5. -5.], Goal: [-0.33191198  0.88129797]\n",
      "Point: [-5. -5.], Goal: [-0.33191198  0.88129797]\n",
      "Point: [-5. -5.], Goal: [-0.33191198  0.88129797]\n",
      "Point: [-5. -5.], Goal: [-0.33191198  0.88129797]\n",
      "Point: [-5. -5.], Goal: [-0.33191198  0.88129797]\n",
      "Point: [-5. -5.], Goal: [-0.33191198  0.88129797]\n",
      "Point: [-5. -5.], Goal: [-0.33191198  0.88129797]\n",
      "Point: [-5. -5.], Goal: [-0.33191198  0.88129797]\n",
      "Point: [-5. -5.], Goal: [-0.33191198  0.88129797]\n",
      "Point: [-5. -5.], Goal: [-0.33191198  0.88129797]\n",
      "Point: [-5. -5.], Goal: [-0.33191198  0.88129797]\n",
      "Point: [-5. -5.], Goal: [-0.33191198  0.88129797]\n",
      "Point: [-5. -5.], Goal: [-0.33191198  0.88129797]\n",
      "Point: [-5. -5.], Goal: [-0.33191198  0.88129797]\n",
      "Point: [-5. -5.], Goal: [-0.33191198  0.88129797]\n",
      "Point: [-5. -5.], Goal: [-0.33191198  0.88129797]\n",
      "Point: [-5. -5.], Goal: [-0.33191198  0.88129797]\n",
      "Point: [-5. -5.], Goal: [-0.33191198  0.88129797]\n",
      "Point: [-5. -5.], Goal: [-0.33191198  0.88129797]\n",
      "Point: [-5. -5.], Goal: [-0.33191198  0.88129797]\n"
     ]
    },
    {
     "name": "stderr",
     "output_type": "stream",
     "text": [
      "/Users/paulnitschke/miniconda3/envs/env_geo_meta_rl/lib/python3.9/site-packages/torch/distributions/distribution.py:53: UserWarning: <class 'garage.torch.distributions.tanh_normal.TanhNormal'> does not define `arg_constraints`. Please set `arg_constraints = {}` or initialize the distribution with `validate_args=False` to turn off validation.\n",
      "  warnings.warn(\n"
     ]
    }
   ],
   "source": [
    "steps, max_steps = 0, 100\n",
    "done = False\n",
    "obs, task = env.reset()  # The initial observation\n",
    "\n",
    "while steps < max_steps and not done:\n",
    "    action, _ = policy.get_action(obs)\n",
    "    out = env.step(action)\n",
    "    render = env.render(mode=None)  # Render the environment to see what's going on (optional)\n",
    "    print(render)\n",
    "    done = out.env_info['success']\n",
    "    steps += 1\n",
    "\n",
    "env.close()"
   ]
  },
  {
   "cell_type": "code",
   "execution_count": 25,
   "metadata": {},
   "outputs": [
    {
     "name": "stdout",
     "output_type": "stream",
     "text": [
      "The autoreload extension is already loaded. To reload it, use:\n",
      "  %reload_ext autoreload\n"
     ]
    }
   ],
   "source": [
    "from garage.envs.point_env import PointEnv\n",
    "\n",
    "env_1 = PointEnv(goal=(-1,0), max_episode_length=100)\n",
    "env_2 = PointEnv(goal=(1,0), max_episode_length=100)\n",
    "env_3 = PointEnv(goal=(-0.5,0), max_episode_length=100)\n",
    "envs = [env_1, env_2, env_3]"
   ]
  },
  {
   "cell_type": "code",
   "execution_count": 29,
   "metadata": {},
   "outputs": [
    {
     "data": {
      "image/png": "[encoded data removed]",
      "text/plain": [
       "<Figure size 640x480 with 1 Axes>"
      ]
     },
     "metadata": {},
     "output_type": "display_data"
    }
   ],
   "source": [
    "all_observations\n",
    "import matplotlib.pyplot as plt\n",
    "\n",
    "colors = ['r', 'g', 'b']\n",
    "for idx, observations in all_observations.items():\n",
    "    x = [obs[0] for obs in observations]\n",
    "    y = [obs[1] for obs in observations]\n",
    "    plt.plot(x, y, color=colors[idx], label=f'Env {idx}', marker='o')\n",
    "    # Add goal positions\n",
    "    goal_positions = [(-1, 0), (1, 0), (0, -1)]\n",
    "\n",
    "    # Color the goal positions in red, green, and blue\n",
    "    plt.plot(goal_positions[idx][0], goal_positions[idx][1], color=colors[idx], marker='*', markersize=10, label=f'Goal Position {idx}')\n",
    "\n",
    "plt.xlabel('X')\n",
    "plt.ylabel('Y')\n",
    "plt.legend()\n",
    "plt.title('Multi-Task RL (TRPO), three hard-coded tasks')\n",
    "plt.show()"
   ]
  },
  {
   "cell_type": "code",
   "execution_count": 26,
   "metadata": {},
   "outputs": [
    {
     "name": "stdout",
     "output_type": "stream",
     "text": [
      "0\n",
      "1\n",
      "2\n",
      "3\n",
      "4\n",
      "5\n",
      "6\n",
      "7\n",
      "8\n",
      "0\n",
      "1\n",
      "2\n",
      "3\n",
      "4\n",
      "5\n",
      "6\n",
      "7\n",
      "8\n",
      "0\n",
      "1\n",
      "2\n",
      "3\n",
      "4\n",
      "5\n",
      "6\n",
      "7\n",
      "8\n",
      "9\n",
      "10\n",
      "11\n",
      "12\n",
      "13\n",
      "14\n",
      "15\n",
      "16\n",
      "17\n",
      "18\n",
      "19\n",
      "20\n",
      "21\n",
      "22\n",
      "23\n",
      "24\n",
      "25\n",
      "26\n",
      "27\n",
      "28\n",
      "29\n",
      "30\n",
      "31\n",
      "32\n",
      "33\n",
      "34\n",
      "35\n",
      "36\n",
      "37\n",
      "38\n",
      "39\n",
      "40\n",
      "41\n",
      "42\n",
      "43\n",
      "44\n",
      "45\n",
      "46\n",
      "47\n",
      "48\n",
      "49\n",
      "50\n",
      "51\n",
      "52\n",
      "53\n",
      "54\n",
      "55\n",
      "56\n",
      "57\n",
      "58\n",
      "59\n",
      "60\n",
      "61\n",
      "62\n",
      "63\n",
      "64\n",
      "65\n",
      "66\n",
      "67\n",
      "68\n",
      "69\n",
      "70\n",
      "71\n",
      "72\n",
      "73\n",
      "74\n",
      "75\n",
      "76\n",
      "77\n",
      "78\n",
      "79\n",
      "80\n",
      "81\n",
      "82\n",
      "83\n",
      "84\n",
      "85\n",
      "86\n",
      "87\n",
      "88\n",
      "89\n",
      "90\n",
      "91\n",
      "92\n",
      "93\n",
      "94\n",
      "95\n",
      "96\n",
      "97\n",
      "98\n",
      "99\n"
     ]
    }
   ],
   "source": [
    "\n",
    "\n",
    "import numpy as np\n",
    "\n",
    "all_rewards, all_observations, all_actions = {}, {}, {}\n",
    "tasks_one_hot = [[1, 0, 0], [0, 1, 0], [0, 0, 1]]\n",
    "for idx_env, env in enumerate(envs):\n",
    "    all_rewards[idx_env] = []\n",
    "    all_observations[idx_env] = []\n",
    "    all_actions[idx_env] = []\n",
    "    state, task = env.reset()\n",
    "    step_count = 0\n",
    "    done = False\n",
    "    while not done:\n",
    "        obs = np.concatenate([state, tasks_one_hot[idx_env]])\n",
    "        action, _ = policy.get_action(obs)\n",
    "        out = env.step(action)\n",
    "        state = out.observation\n",
    "        all_rewards[idx_env].append(out.reward)\n",
    "        all_actions[idx_env].append(action)\n",
    "        all_observations[idx_env].append(obs)\n",
    "        done = out.env_info['success'] or step_count == 99\n",
    "        step_count += 1"
   ]
  },
  {
   "cell_type": "code",
   "execution_count": 3,
   "metadata": {},
   "outputs": [
    {
     "name": "stdout",
     "output_type": "stream",
     "text": [
      "Point: [-0.1  0.1], Goal: [-1.  0.]\n",
      "Point: [-0.2        0.1477441], Goal: [-1.  0.]\n",
      "Point: [-0.3         0.16164854], Goal: [-1.  0.]\n",
      "Point: [-0.4         0.12722915], Goal: [-1.  0.]\n",
      "Point: [-0.5         0.10345511], Goal: [-1.  0.]\n",
      "Point: [-0.6         0.15011722], Goal: [-1.  0.]\n",
      "Point: [-0.70000005  0.13882434], Goal: [-1.  0.]\n",
      "Point: [-0.8000001   0.07686855], Goal: [-1.  0.]\n",
      "Point: [-0.9000001   0.12039386], Goal: [-1.  0.]\n",
      "Point: [-1.0000001   0.11585215], Goal: [-1.  0.]\n"
     ]
    },
    {
     "name": "stderr",
     "output_type": "stream",
     "text": [
      "/Users/paulnitschke/miniconda3/envs/env_geo_meta_rl/lib/python3.9/site-packages/gym/spaces/box.py:127: UserWarning: \u001b[33mWARN: Box bound precision lowered by casting to float32\u001b[0m\n",
      "  logger.warn(f\"Box bound precision lowered by casting to {self.dtype}\")\n"
     ]
    }
   ],
   "source": [
    "steps, max_steps = 0, 150\n",
    "done = False\n",
    "obs, task = env.reset()  # The initial observation\n",
    "\n",
    "while steps < max_steps and not done:\n",
    "    action, _ = policy.get_action(obs)\n",
    "    out = env.step(action)\n",
    "    render = env.render(mode=None)  # Render the environment to see what's going on (optional)\n",
    "    print(render)\n",
    "    done = out.env_info['success']\n",
    "    steps += 1\n",
    "\n",
    "env.close()"
   ]
  }
 ],
 "metadata": {
  "kernelspec": {
   "display_name": "3.6.15",
   "language": "python",
   "name": "python3"
  },
  "language_info": {
   "codemirror_mode": {
    "name": "ipython",
    "version": 3
   },
   "file_extension": ".py",
   "mimetype": "text/x-python",
   "name": "python",
   "nbconvert_exporter": "python",
   "pygments_lexer": "ipython3",
   "version": "3.9.21"
  }
 },
 "nbformat": 4,
 "nbformat_minor": 2
}
